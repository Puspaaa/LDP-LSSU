{
 "cells": [
  {
   "cell_type": "code",
   "execution_count": 1,
   "id": "3821b191",
   "metadata": {
    "vscode": {
     "languageId": "python"
    }
   },
   "outputs": [],
   "source": [
    "from sage.all import *\n",
    "pretty_print_default(True)\n",
    "%display latex"
   ]
  },
  {
   "cell_type": "code",
   "execution_count": 2,
   "metadata": {
    "vscode": {
     "languageId": "python"
    }
   },
   "outputs": [],
   "source": [
    "Λ, τ, σ = var('Lambda','tau','sigma')\n",
    "σ2 = σ^2"
   ]
  },
  {
   "cell_type": "code",
   "execution_count": 3,
   "metadata": {
    "vscode": {
     "languageId": "python"
    }
   },
   "outputs": [],
   "source": [
    "def delta_contrast_Zel(d):\n",
    "    \"\"\"\n",
    "    The Zeldovich toy-model Δ(τ): one convenient default delta_func.\n",
    "    \"\"\"\n",
    "    taus = get_tau_vars(d)\n",
    "    T = Matrix(SR, d); k = 0\n",
    "    for i in range(d):\n",
    "        T[i,i] = taus[k]; k += 1\n",
    "    for i in range(d):\n",
    "        for j in range(i+1,d):\n",
    "            T[i,j] = T[j,i] = taus[k]; k += 1\n",
    "    return 1/((identity_matrix(SR,d) - T).det()) - 1\n",
    "\n",
    "# Ellipsoidal collapse in terms of τ‐variables (Eq. 5.3):\n",
    "def delta_contrast_ellipsoidal(d, nu_param = var('nu')):\n",
    "    \"\"\"\n",
    "    Ellipsoidal‐collapse density contrast Δ(τ) ≡ ρ(τ) − 1\n",
    "      - d         : dimension (e.g. 3)\n",
    "      - nu_param  : ellipticity exponent ν\n",
    "    \"\"\"\n",
    "\n",
    "    taus = get_tau_vars(d)\n",
    "    T = Matrix(SR, d); k = 0\n",
    "    for i in range(d):\n",
    "        T[i,i] = taus[k]; k += 1\n",
    "    for i in range(d):\n",
    "        for j in range(i+1,d):\n",
    "            T[i,j] = T[j,i] = taus[k]; k += 1\n",
    "    \n",
    "    # 2) linear contrast δ = sum_i tau_ii\n",
    "    delta_lin = T.trace()\n",
    "    \n",
    "    # 3) build the total density ρ(τ) and subtract 1 to get Δ\n",
    "    rho = (1 - delta_lin/d)^d / (1 - delta_lin/nu_param)^nu_param / ((identity_matrix(SR,d) - T).det())\n",
    "    \n",
    "    return rho - 1\n"
   ]
  },
  {
   "cell_type": "code",
   "execution_count": 4,
   "id": "d46992",
   "metadata": {
    "collapsed": false,
    "jupyter": {},
    "vscode": {
     "languageId": "python"
    }
   },
   "outputs": [],
   "source": [
    "# ──────────────────────────────────────────────────────────────────────────────\n",
    "# Block 1: Core helper functions (generic saddle‐point CGF framework)\n",
    "#           with default nu = d\n",
    "# ──────────────────────────────────────────────────────────────────────────────\n",
    "\n",
    "def get_tau_vars(d):\n",
    "    diag = [var(f'tau{i}{i}') for i in range(1, d+1)]\n",
    "    off  = [var(f'tau{i}{j}') for i in range(1, d+1) for j in range(i+1, d+1)]\n",
    "    return diag + off\n",
    "\n",
    "def precision_matrix(d):\n",
    "    if d==2:\n",
    "        C = Matrix([[3/8,1/8,0],\n",
    "                    [1/8,3/8,0],\n",
    "                    [0,  0,  1/8]])\n",
    "    elif d==3:\n",
    "        C = Matrix([[1/5, 1/15,1/15, 0,    0,    0],\n",
    "                    [1/15,1/5, 1/15, 0,    0,    0],\n",
    "                    [1/15,1/15,1/5,  0,    0,    0],\n",
    "                    [0,   0,   0,    1/15, 0,    0],\n",
    "                    [0,   0,   0,    0,    1/15, 0],\n",
    "                    [0,   0,   0,    0,    0,    1/15]] )\n",
    "    else:\n",
    "        raise ValueError(\"Only d=2 or 3 supported\")\n",
    "    return C.inverse()\n",
    "\n",
    "def action(d, Λ, nu=None):\n",
    "    if nu is None:\n",
    "        nu = d\n",
    "    taus = get_tau_vars(d)\n",
    "    Δ    = delta_contrast_ellipsoidal(d, nu)\n",
    "    P    = precision_matrix(d)\n",
    "    quad = sum(taus[i] * sum(P[i,j]*taus[j] for j in range(len(taus)))\n",
    "               for i in range(len(taus)))\n",
    "    return Λ*Δ - (1/2)*quad\n",
    "\n",
    "def Lambda_of_tau(d, nu=None):\n",
    "    if nu is None:\n",
    "        nu = d\n",
    "    Λ, τ = var('Lambda','tau')\n",
    "    taus = get_tau_vars(d)\n",
    "    eq = diff(action(d, Λ, nu), taus[0]).subs(\n",
    "         {**{v:τ for v in taus[:d]},\n",
    "          **{v:0 for v in taus[d:]}}\n",
    "    )\n",
    "    sol = solve(eq, Λ)[0]\n",
    "    return sol.rhs().factor()\n",
    "\n",
    "def CGF_LO(d, nu=None):\n",
    "    if nu is None:\n",
    "        nu = d\n",
    "    Λ, τ = var('Lambda','tau')\n",
    "    Λτ   = Lambda_of_tau(d, nu)\n",
    "    taus = get_tau_vars(d)\n",
    "    subs = {v:τ for v in taus[:d]}\n",
    "    subs.update({v:0 for v in taus[d:]})\n",
    "    subs[Λ] = Λτ\n",
    "    return action(d, Λ, nu).subs(subs).factor()\n",
    "\n",
    "def hessian_full(d, Λ, nu=None):\n",
    "    if nu is None:\n",
    "        nu = d\n",
    "    taus = get_tau_vars(d)\n",
    "    S    = action(d, Λ, nu)\n",
    "    n    = len(taus)\n",
    "    H    = Matrix(SR, n, n)\n",
    "    for i in range(n):\n",
    "        for j in range(n):\n",
    "            H[i,j] = diff(S, taus[i], taus[j])\n",
    "    return H\n",
    "\n",
    "def hessian_spherical(d, nu=None):\n",
    "    if nu is None:\n",
    "        nu = d\n",
    "    Λ, τ = var('Lambda','tau')\n",
    "    Hf   = hessian_full(d, Λ, nu)\n",
    "    taus = get_tau_vars(d)\n",
    "    subs = {v:τ for v in taus[:d]}\n",
    "    subs.update({v:0 for v in taus[d:]})\n",
    "    subs[Λ] = Lambda_of_tau(d, nu)\n",
    "    return Hf.subs(subs).apply_map(lambda x: x.factor())\n",
    "\n",
    "def one_loop_correction(d, nu=None):\n",
    "    if nu is None:\n",
    "        nu = d\n",
    "    Hs = -hessian_spherical(d, nu)\n",
    "    return - (1/2) * log( (Hs.det()/precision_matrix(d).det()).factor() )\n",
    "\n",
    "def CGF_NLO(d, σ2, nu=None):\n",
    "    if nu is None:\n",
    "        nu = d\n",
    "    φ0 = CGF_LO(d,      nu)\n",
    "    F1 = one_loop_correction(d, nu)\n",
    "    return (φ0 + σ2*F1).factor()\n",
    "\n",
    "def split_one_loop(d, nu=None):\n",
    "    if nu is None:\n",
    "        nu = d\n",
    "    Hs = -hessian_spherical(d, nu)\n",
    "    Pm = precision_matrix(d)\n",
    "    H  = Hs/Pm\n",
    "\n",
    "    N  = len(get_tau_vars(d))\n",
    "    evs= H.eigenvalues()\n",
    "    mults = [(evs.count(e), e) for e in set(evs)]\n",
    "    λ_iso   = [e for m,e in mults if m==1][0]\n",
    "    λ_aniso = [e for m,e in mults if m>1][0]\n",
    "\n",
    "    F1_iso   = -(1/2)*log(λ_iso)\n",
    "    F1_aniso = -(1/2)*(N-1)*log(λ_aniso)\n",
    "    return F1_iso, F1_aniso"
   ]
  },
  {
   "cell_type": "code",
   "execution_count": 5,
   "id": "23e923",
   "metadata": {
    "collapsed": false,
    "vscode": {
     "languageId": "python"
    }
   },
   "outputs": [],
   "source": [
    "def driver_show_CGF(d, nu=None):\n",
    "    \"\"\"\n",
    "    show Δ(τ), Λ(τ), φ0(τ), F1(τ), and φ_NLO(τ), all factorized.\n",
    "    \"\"\"\n",
    "    if nu is None:\n",
    "        nu = d\n",
    "    tau = var('tau')\n",
    "    Δ = delta_contrast_ellipsoidal(d, nu)\n",
    "\n",
    "    # 1) expansion parameter Λ(τ)\n",
    "    Λ_expr = Lambda_of_tau(d, nu)\n",
    "\n",
    "    # 2) leading CGF and 1-loop corrections\n",
    "    φ0_expr  = CGF_LO(d, nu)\n",
    "    F1_expr  = one_loop_correction(d, nu)\n",
    "    φNLO_expr = CGF_NLO(d, σ2, nu)\n",
    "\n",
    "    # display everything, factorized\n",
    "    show(\"Δ(τ) =\", Δ)\n",
    "    show(\"Λ(τ) =\", Λ_expr)\n",
    "    show(\"φ₀(τ) =\", φ0_expr)\n",
    "    show(\"F₁(τ) =\", F1_expr)\n",
    "    show(\"φ(τ) =\", φNLO_expr)\n"
   ]
  },
  {
   "cell_type": "code",
   "execution_count": 6,
   "metadata": {
    "vscode": {
     "languageId": "python"
    }
   },
   "outputs": [
    {
     "data": {
      "text/html": [
       "<html>\\(\\displaystyle \\verb|Δ(τ)|\\verb| |\\verb|=| \\frac{1}{{\\left(\\tau_{23}^{2} - {\\left(\\tau_{22} - 1\\right)} {\\left(\\tau_{33} - 1\\right)}\\right)} {\\left(\\tau_{11} - 1\\right)} - {\\left(\\tau_{13} \\tau_{23} - \\tau_{12} {\\left(\\tau_{33} - 1\\right)}\\right)} \\tau_{12} + {\\left(\\tau_{13} {\\left(\\tau_{22} - 1\\right)} - \\tau_{12} \\tau_{23}\\right)} \\tau_{13}} - 1\\)</html>"
      ],
      "text/latex": [
       "$\\displaystyle \\verb|Δ(τ)|\\verb| |\\verb|=| \\frac{1}{{\\left(\\tau_{23}^{2} - {\\left(\\tau_{22} - 1\\right)} {\\left(\\tau_{33} - 1\\right)}\\right)} {\\left(\\tau_{11} - 1\\right)} - {\\left(\\tau_{13} \\tau_{23} - \\tau_{12} {\\left(\\tau_{33} - 1\\right)}\\right)} \\tau_{12} + {\\left(\\tau_{13} {\\left(\\tau_{22} - 1\\right)} - \\tau_{12} \\tau_{23}\\right)} \\tau_{13}} - 1$"
      ],
      "text/plain": [
       "'Δ(τ) =' 1/((tau23^2 - (tau22 - 1)*(tau33 - 1))*(tau11 - 1) - (tau13*tau23 - tau12*(tau33 - 1))*tau12 + (tau13*(tau22 - 1) - tau12*tau23)*tau13) - 1"
      ]
     },
     "metadata": {},
     "output_type": "display_data"
    },
    {
     "data": {
      "text/html": [
       "<html>\\(\\displaystyle \\verb|Λ(τ)|\\verb| |\\verb|=| 3 \\, {\\left(\\tau - 1\\right)}^{4} \\tau\\)</html>"
      ],
      "text/latex": [
       "$\\displaystyle \\verb|Λ(τ)|\\verb| |\\verb|=| 3 \\, {\\left(\\tau - 1\\right)}^{4} \\tau$"
      ],
      "text/plain": [
       "'Λ(τ) =' 3*(tau - 1)^4*tau"
      ]
     },
     "metadata": {},
     "output_type": "display_data"
    },
    {
     "data": {
      "text/html": [
       "<html>\\(\\displaystyle \\verb|φ₀(τ)|\\verb| |\\verb|=| -\\frac{3}{2} \\, {\\left(2 \\, \\tau^{3} - 8 \\, \\tau^{2} + 12 \\, \\tau - 3\\right)} \\tau^{2}\\)</html>"
      ],
      "text/latex": [
       "$\\displaystyle \\verb|φ₀(τ)|\\verb| |\\verb|=| -\\frac{3}{2} \\, {\\left(2 \\, \\tau^{3} - 8 \\, \\tau^{2} + 12 \\, \\tau - 3\\right)} \\tau^{2}$"
      ],
      "text/plain": [
       "'φ₀(τ) =' -3/2*(2*tau^3 - 8*tau^2 + 12*tau - 3)*tau^2"
      ]
     },
     "metadata": {},
     "output_type": "display_data"
    },
    {
     "data": {
      "text/html": [
       "<html>\\(\\displaystyle \\verb|F₁(τ)|\\verb| |\\verb|=| -\\frac{1}{2} \\, \\log\\left(\\frac{{\\left(7 \\, \\tau - 5\\right)}^{5} {\\left(5 \\, \\tau - 1\\right)}}{3125 \\, {\\left(\\tau - 1\\right)}^{6}}\\right)\\)</html>"
      ],
      "text/latex": [
       "$\\displaystyle \\verb|F₁(τ)|\\verb| |\\verb|=| -\\frac{1}{2} \\, \\log\\left(\\frac{{\\left(7 \\, \\tau - 5\\right)}^{5} {\\left(5 \\, \\tau - 1\\right)}}{3125 \\, {\\left(\\tau - 1\\right)}^{6}}\\right)$"
      ],
      "text/plain": [
       "'F₁(τ) =' -1/2*log(1/3125*(7*tau - 5)^5*(5*tau - 1)/(tau - 1)^6)"
      ]
     },
     "metadata": {},
     "output_type": "display_data"
    },
    {
     "data": {
      "text/html": [
       "<html>\\(\\displaystyle \\verb|φ(τ)|\\verb| |\\verb|=| -3 \\, \\tau^{5} + 12 \\, \\tau^{4} - 18 \\, \\tau^{3} - \\frac{1}{2} \\, \\sigma^{2} \\log\\left(\\frac{{\\left(7 \\, \\tau - 5\\right)}^{5} {\\left(5 \\, \\tau - 1\\right)}}{3125 \\, {\\left(\\tau - 1\\right)}^{6}}\\right) + \\frac{9}{2} \\, \\tau^{2}\\)</html>"
      ],
      "text/latex": [
       "$\\displaystyle \\verb|φ(τ)|\\verb| |\\verb|=| -3 \\, \\tau^{5} + 12 \\, \\tau^{4} - 18 \\, \\tau^{3} - \\frac{1}{2} \\, \\sigma^{2} \\log\\left(\\frac{{\\left(7 \\, \\tau - 5\\right)}^{5} {\\left(5 \\, \\tau - 1\\right)}}{3125 \\, {\\left(\\tau - 1\\right)}^{6}}\\right) + \\frac{9}{2} \\, \\tau^{2}$"
      ],
      "text/plain": [
       "'φ(τ) =' -3*tau^5 + 12*tau^4 - 18*tau^3 - 1/2*sigma^2*log(1/3125*(7*tau - 5)^5*(5*tau - 1)/(tau - 1)^6) + 9/2*tau^2"
      ]
     },
     "metadata": {},
     "output_type": "display_data"
    }
   ],
   "source": [
    "# pick your model & dimension\n",
    "driver_show_CGF(d=3)"
   ]
  },
  {
   "cell_type": "code",
   "execution_count": 7,
   "metadata": {
    "vscode": {
     "languageId": "python"
    }
   },
   "outputs": [
    {
     "data": {
      "text/html": [
       "<html>\\(\\displaystyle \\verb|Δ(τ)|\\verb| |\\verb|=| -\\frac{{\\left(\\tau_{11} + \\tau_{22} - 2\\right)}^{2}}{4 \\, {\\left(\\tau_{12}^{2} - {\\left(\\tau_{11} - 1\\right)} {\\left(\\tau_{22} - 1\\right)}\\right)} {\\left(-\\frac{\\tau_{11} + \\tau_{22}}{\\nu} + 1\\right)}^{\\nu}} - 1\\)</html>"
      ],
      "text/latex": [
       "$\\displaystyle \\verb|Δ(τ)|\\verb| |\\verb|=| -\\frac{{\\left(\\tau_{11} + \\tau_{22} - 2\\right)}^{2}}{4 \\, {\\left(\\tau_{12}^{2} - {\\left(\\tau_{11} - 1\\right)} {\\left(\\tau_{22} - 1\\right)}\\right)} {\\left(-\\frac{\\tau_{11} + \\tau_{22}}{\\nu} + 1\\right)}^{\\nu}} - 1$"
      ],
      "text/plain": [
       "'Δ(τ) =' -1/4*(tau11 + tau22 - 2)^2/((tau12^2 - (tau11 - 1)*(tau22 - 1))*(-(tau11 + tau22)/nu + 1)^nu) - 1"
      ]
     },
     "metadata": {},
     "output_type": "display_data"
    },
    {
     "data": {
      "text/html": [
       "<html>\\(\\displaystyle \\verb|Λ(τ)|\\verb| |\\verb|=| \\frac{2 \\, {\\left(\\nu - 2 \\, \\tau\\right)} \\tau \\left(\\frac{\\nu - 2 \\, \\tau}{\\nu}\\right)^{\\nu}}{\\nu}\\)</html>"
      ],
      "text/latex": [
       "$\\displaystyle \\verb|Λ(τ)|\\verb| |\\verb|=| \\frac{2 \\, {\\left(\\nu - 2 \\, \\tau\\right)} \\tau \\left(\\frac{\\nu - 2 \\, \\tau}{\\nu}\\right)^{\\nu}}{\\nu}$"
      ],
      "text/plain": [
       "'Λ(τ) =' 2*(nu - 2*tau)*tau*((nu - 2*tau)/nu)^nu/nu"
      ]
     },
     "metadata": {},
     "output_type": "display_data"
    },
    {
     "data": {
      "text/html": [
       "<html>\\(\\displaystyle \\verb|φ₀(τ)|\\verb| |\\verb|=| -\\frac{2 \\, {\\left(\\nu \\tau + \\nu \\left(\\frac{\\nu - 2 \\, \\tau}{\\nu}\\right)^{\\nu} - 2 \\, \\tau \\left(\\frac{\\nu - 2 \\, \\tau}{\\nu}\\right)^{\\nu} - \\nu + 2 \\, \\tau\\right)} \\tau}{\\nu}\\)</html>"
      ],
      "text/latex": [
       "$\\displaystyle \\verb|φ₀(τ)|\\verb| |\\verb|=| -\\frac{2 \\, {\\left(\\nu \\tau + \\nu \\left(\\frac{\\nu - 2 \\, \\tau}{\\nu}\\right)^{\\nu} - 2 \\, \\tau \\left(\\frac{\\nu - 2 \\, \\tau}{\\nu}\\right)^{\\nu} - \\nu + 2 \\, \\tau\\right)} \\tau}{\\nu}$"
      ],
      "text/plain": [
       "'φ₀(τ) =' -2*(nu*tau + nu*((nu - 2*tau)/nu)^nu - 2*tau*((nu - 2*tau)/nu)^nu - nu + 2*tau)*tau/nu"
      ]
     },
     "metadata": {},
     "output_type": "display_data"
    },
    {
     "data": {
      "text/html": [
       "<html>\\(\\displaystyle \\verb|F₁(τ)|\\verb| |\\verb|=| -\\frac{1}{2} \\, \\log\\left(-\\frac{{\\left(2 \\, \\nu \\tau^{2} - 5 \\, \\nu \\tau + 2 \\, \\tau^{2} + 2 \\, \\nu\\right)}^{2} {\\left(2 \\, \\nu \\tau - \\nu + 4 \\, \\tau\\right)}}{4 \\, {\\left(\\nu - 2 \\, \\tau\\right)} \\nu^{2} {\\left(\\tau - 1\\right)}^{4}}\\right)\\)</html>"
      ],
      "text/latex": [
       "$\\displaystyle \\verb|F₁(τ)|\\verb| |\\verb|=| -\\frac{1}{2} \\, \\log\\left(-\\frac{{\\left(2 \\, \\nu \\tau^{2} - 5 \\, \\nu \\tau + 2 \\, \\tau^{2} + 2 \\, \\nu\\right)}^{2} {\\left(2 \\, \\nu \\tau - \\nu + 4 \\, \\tau\\right)}}{4 \\, {\\left(\\nu - 2 \\, \\tau\\right)} \\nu^{2} {\\left(\\tau - 1\\right)}^{4}}\\right)$"
      ],
      "text/plain": [
       "'F₁(τ) =' -1/2*log(-1/4*(2*nu*tau^2 - 5*nu*tau + 2*tau^2 + 2*nu)^2*(2*nu*tau - nu + 4*tau)/((nu - 2*tau)*nu^2*(tau - 1)^4))"
      ]
     },
     "metadata": {},
     "output_type": "display_data"
    },
    {
     "data": {
      "text/html": [
       "<html>\\(\\displaystyle \\verb|φ(τ)|\\verb| |\\verb|=| -\\frac{\\nu \\sigma^{2} \\log\\left(-\\frac{{\\left(2 \\, {\\left(\\nu + 1\\right)} \\tau^{2} - 5 \\, \\nu \\tau + 2 \\, \\nu\\right)}^{2} {\\left(2 \\, {\\left(\\nu + 2\\right)} \\tau - \\nu\\right)}}{4 \\, {\\left(\\nu - 2 \\, \\tau\\right)} \\nu^{2} {\\left(\\tau - 1\\right)}^{4}}\\right) + 4 \\, \\nu \\tau^{2} + 4 \\, \\nu \\tau \\left(\\frac{\\nu - 2 \\, \\tau}{\\nu}\\right)^{\\nu} - 8 \\, \\tau^{2} \\left(\\frac{\\nu - 2 \\, \\tau}{\\nu}\\right)^{\\nu} - 4 \\, \\nu \\tau + 8 \\, \\tau^{2}}{2 \\, \\nu}\\)</html>"
      ],
      "text/latex": [
       "$\\displaystyle \\verb|φ(τ)|\\verb| |\\verb|=| -\\frac{\\nu \\sigma^{2} \\log\\left(-\\frac{{\\left(2 \\, {\\left(\\nu + 1\\right)} \\tau^{2} - 5 \\, \\nu \\tau + 2 \\, \\nu\\right)}^{2} {\\left(2 \\, {\\left(\\nu + 2\\right)} \\tau - \\nu\\right)}}{4 \\, {\\left(\\nu - 2 \\, \\tau\\right)} \\nu^{2} {\\left(\\tau - 1\\right)}^{4}}\\right) + 4 \\, \\nu \\tau^{2} + 4 \\, \\nu \\tau \\left(\\frac{\\nu - 2 \\, \\tau}{\\nu}\\right)^{\\nu} - 8 \\, \\tau^{2} \\left(\\frac{\\nu - 2 \\, \\tau}{\\nu}\\right)^{\\nu} - 4 \\, \\nu \\tau + 8 \\, \\tau^{2}}{2 \\, \\nu}$"
      ],
      "text/plain": [
       "'φ(τ) =' -1/2*(nu*sigma^2*log(-1/4*(2*(nu + 1)*tau^2 - 5*nu*tau + 2*nu)^2*(2*(nu + 2)*tau - nu)/((nu - 2*tau)*nu^2*(tau - 1)^4)) + 4*nu*tau^2 + 4*nu*tau*((nu - 2*tau)/nu)^nu - 8*tau^2*((nu - 2*tau)/nu)^nu - 4*nu*tau + 8*tau^2)/nu"
      ]
     },
     "metadata": {},
     "output_type": "display_data"
    }
   ],
   "source": [
    "# pick your model & dimension\n",
    "driver_show_CGF(d=2,nu=var('nu'))"
   ]
  },
  {
   "cell_type": "code",
   "execution_count": 8,
   "metadata": {
    "vscode": {
     "languageId": "ini"
    }
   },
   "outputs": [],
   "source": [
    "# ──────────────────────────────────────────────────────────────────────────────\n",
    "# Series‐building block, using the unified ellipsoidal action (nu=3 ⇒ Zel’dovich)\n",
    "# ──────────────────────────────────────────────────────────────────────────────\n",
    "def series_build(d, N=6, nu=None):\n",
    "    \"\"\"\n",
    "    Returns (tau_of_L,\n",
    "             phi0_tau, phi0_L,\n",
    "             phi1_tau, phi1_L,\n",
    "             phi_tau_total, phi_L_total)\n",
    "    where\n",
    "      - phi0_tau = φ₀(τ)\n",
    "      - phi1_tau = F₁(τ)\n",
    "      - phi_tau_total = φ₀(τ) + σ² F₁(τ)\n",
    "      - phi0_L, phi1_L are the PowerSeries in Λ (over QQ) for φ₀ and F₁\n",
    "      - phi_L_total is the symbolic Λ‐series (LO + σ²·NLO)\n",
    "    \"\"\"\n",
    "    if nu is None:\n",
    "        nu = d  # default to Zel'dovich\n",
    "    # 0) declare your symbols\n",
    "    Lambda, tau, sigma = var('Lambda','tau','sigma')\n",
    "    σ2 = sigma^2\n",
    "\n",
    "    # 1) build the core saddle‐point CGFs\n",
    "    Λ_of_tau  = Lambda_of_tau(d, nu)         # Λ(τ)\n",
    "    phi0_tau  = CGF_LO(d,      nu)           # φ₀(τ)\n",
    "    phi1_tau  = one_loop_correction(d, nu)   # F₁(τ)\n",
    "\n",
    "    # 2) Taylor‐expand these in τ up to order N\n",
    "    Λ_tay     = taylor(Λ_of_tau,  tau, 0, N)\n",
    "    phi0_tay  = taylor(phi0_tau,  tau, 0, N)\n",
    "    phi1_tay  = taylor(phi1_tau,  tau, 0, N)\n",
    "\n",
    "    # 3) build the power‐series ring in Λ over the Symbolic Ring\n",
    "    R.<Λ>     = PowerSeriesRing(SR, default_prec=N)\n",
    "\n",
    "    # 4) invert Λ(τ) → τ(Λ)\n",
    "    ps_L      = sum(Λ_tay.coefficient(tau,i) * Λ^i for i in range(1, N))\n",
    "    tau_of_L  = ps_L.reverse(N)\n",
    "\n",
    "    # 5) build φ₀(Λ) as a PS‐ring element\n",
    "    phi0_L = R( [ phi0_tay.coefficient(tau,i) for i in range(N) ] )\n",
    "    # Actually we need to substitute τ→τ(Λ), so:\n",
    "    phi0_L = R([ (sum(phi0_tay.coefficient(tau,j) * tau_of_L**j for j in range(N)))[i]\n",
    "                for i in range(N) ])\n",
    "\n",
    "    # 6) same for F₁(Λ)\n",
    "    phi1_L = R([ (sum(phi1_tay.coefficient(tau, j) * tau_of_L**j for j in range(N)))[i]\n",
    "                for i in range(N) ])\n",
    "\n",
    "    # 7) build the total φ series in τ\n",
    "    phi_tau_total = phi0_tau + σ2*phi1_tau\n",
    "\n",
    "    # 8) assemble the symbolic Λ‐series φ(Λ) = φ₀(Λ) + σ²·F₁(Λ)\n",
    "    coeff0 = phi0_L.list()\n",
    "    coeff1 = phi1_L.list()\n",
    "    coeffs_tot = [ coeff0[i] + σ2*coeff1[i] for i in range(N) ]\n",
    "    phi_L_total = sum( coeffs_tot[i] * Lambda^i for i in range(N) )\n",
    "\n",
    "    return tau_of_L, phi0_tau, phi0_L, phi1_tau, phi1_L, phi_tau_total, phi_L_total\n",
    "\n",
    "\n",
    "# ──────────────────────────────────────────────────────────────────────────────\n",
    "# Minimal driver to check it\n",
    "# ──────────────────────────────────────────────────────────────────────────────\n",
    "def driver_series_CGF(d, N=6, nu=None):\n",
    "    if nu is None:\n",
    "        nu = d  # default to Zel'dovich\n",
    "    tau_of_L, φ0_τ, φ0_L, φ1_τ, φ1_L, φ_τ, φ_L = series_build(d, N, nu)\n",
    "\n",
    "    show(\"Λ(τ) =\", Lambda_of_tau(d, nu))\n",
    "    show(\"τ(Λ) =\", tau_of_L)\n",
    "    show(\"φ₀(τ) =\", φ0_τ.factor())\n",
    "    show(\"F₁(τ) =\", φ1_τ.factor())\n",
    "    show(\"φ(τ) =\",  φ_τ.factor())\n",
    "\n",
    "    show(\"φ₀(Λ) =\", φ0_L.truncate(N))\n",
    "    show(\"F₁(Λ) =\", φ1_L.truncate(N))\n",
    "    show(\"φ(Λ) =\",  φ_L)\n",
    "\n",
    "\n",
    "# ──────────────────────────────────────────────────────────────────────────────"
   ]
  },
  {
   "cell_type": "code",
   "execution_count": 9,
   "metadata": {
    "vscode": {
     "languageId": "ini"
    }
   },
   "outputs": [
    {
     "data": {
      "text/html": [
       "<html>\\(\\displaystyle \\verb|Λ(τ)|\\verb| |\\verb|=| 3 \\, {\\left(\\tau - 1\\right)}^{4} \\tau\\)</html>"
      ],
      "text/latex": [
       "$\\displaystyle \\verb|Λ(τ)|\\verb| |\\verb|=| 3 \\, {\\left(\\tau - 1\\right)}^{4} \\tau$"
      ],
      "text/plain": [
       "'Λ(τ) =' 3*(tau - 1)^4*tau"
      ]
     },
     "metadata": {},
     "output_type": "display_data"
    },
    {
     "data": {
      "text/html": [
       "<html>\\(\\displaystyle \\verb|τ(Λ)|\\verb| |\\verb|=| \\frac{1}{3} Λ + \\frac{4}{9} Λ^{2} + \\frac{26}{27} Λ^{3} + \\frac{68}{27} Λ^{4} + \\frac{1771}{243} Λ^{5} + O(Λ^{6})\\)</html>"
      ],
      "text/latex": [
       "$\\displaystyle \\verb|τ(Λ)|\\verb| |\\verb|=| \\frac{1}{3} Λ + \\frac{4}{9} Λ^{2} + \\frac{26}{27} Λ^{3} + \\frac{68}{27} Λ^{4} + \\frac{1771}{243} Λ^{5} + O(Λ^{6})$"
      ],
      "text/plain": [
       "'τ(Λ) =' 1/3*Λ + 4/9*Λ^2 + 26/27*Λ^3 + 68/27*Λ^4 + 1771/243*Λ^5 + O(Λ^6)"
      ]
     },
     "metadata": {},
     "output_type": "display_data"
    },
    {
     "data": {
      "text/html": [
       "<html>\\(\\displaystyle \\verb|φ₀(τ)|\\verb| |\\verb|=| -\\frac{3}{2} \\, {\\left(2 \\, \\tau^{3} - 8 \\, \\tau^{2} + 12 \\, \\tau - 3\\right)} \\tau^{2}\\)</html>"
      ],
      "text/latex": [
       "$\\displaystyle \\verb|φ₀(τ)|\\verb| |\\verb|=| -\\frac{3}{2} \\, {\\left(2 \\, \\tau^{3} - 8 \\, \\tau^{2} + 12 \\, \\tau - 3\\right)} \\tau^{2}$"
      ],
      "text/plain": [
       "'φ₀(τ) =' -3/2*(2*tau^3 - 8*tau^2 + 12*tau - 3)*tau^2"
      ]
     },
     "metadata": {},
     "output_type": "display_data"
    },
    {
     "data": {
      "text/html": [
       "<html>\\(\\displaystyle \\verb|F₁(τ)|\\verb| |\\verb|=| -\\frac{1}{2} \\, \\log\\left(\\frac{{\\left(7 \\, \\tau - 5\\right)}^{5} {\\left(5 \\, \\tau - 1\\right)}}{3125 \\, {\\left(\\tau - 1\\right)}^{6}}\\right)\\)</html>"
      ],
      "text/latex": [
       "$\\displaystyle \\verb|F₁(τ)|\\verb| |\\verb|=| -\\frac{1}{2} \\, \\log\\left(\\frac{{\\left(7 \\, \\tau - 5\\right)}^{5} {\\left(5 \\, \\tau - 1\\right)}}{3125 \\, {\\left(\\tau - 1\\right)}^{6}}\\right)$"
      ],
      "text/plain": [
       "'F₁(τ) =' -1/2*log(1/3125*(7*tau - 5)^5*(5*tau - 1)/(tau - 1)^6)"
      ]
     },
     "metadata": {},
     "output_type": "display_data"
    },
    {
     "data": {
      "text/html": [
       "<html>\\(\\displaystyle \\verb|φ(τ)|\\verb| |\\verb|=| -3 \\, \\tau^{5} + 12 \\, \\tau^{4} - 18 \\, \\tau^{3} - \\frac{1}{2} \\, \\sigma^{2} \\log\\left(\\frac{{\\left(7 \\, \\tau - 5\\right)}^{5} {\\left(5 \\, \\tau - 1\\right)}}{3125 \\, {\\left(\\tau - 1\\right)}^{6}}\\right) + \\frac{9}{2} \\, \\tau^{2}\\)</html>"
      ],
      "text/latex": [
       "$\\displaystyle \\verb|φ(τ)|\\verb| |\\verb|=| -3 \\, \\tau^{5} + 12 \\, \\tau^{4} - 18 \\, \\tau^{3} - \\frac{1}{2} \\, \\sigma^{2} \\log\\left(\\frac{{\\left(7 \\, \\tau - 5\\right)}^{5} {\\left(5 \\, \\tau - 1\\right)}}{3125 \\, {\\left(\\tau - 1\\right)}^{6}}\\right) + \\frac{9}{2} \\, \\tau^{2}$"
      ],
      "text/plain": [
       "'φ(τ) =' -3*tau^5 + 12*tau^4 - 18*tau^3 - 1/2*sigma^2*log(1/3125*(7*tau - 5)^5*(5*tau - 1)/(tau - 1)^6) + 9/2*tau^2"
      ]
     },
     "metadata": {},
     "output_type": "display_data"
    },
    {
     "data": {
      "text/html": [
       "<html>\\(\\displaystyle \\verb|φ₀(Λ)|\\verb| |\\verb|=| \\frac{77}{27} Λ^{5} + \\frac{34}{27} Λ^{4} + \\frac{2}{3} Λ^{3} + \\frac{1}{2} Λ^{2}\\)</html>"
      ],
      "text/latex": [
       "$\\displaystyle \\verb|φ₀(Λ)|\\verb| |\\verb|=| \\frac{77}{27} Λ^{5} + \\frac{34}{27} Λ^{4} + \\frac{2}{3} Λ^{3} + \\frac{1}{2} Λ^{2}$"
      ],
      "text/plain": [
       "'φ₀(Λ) =' 77/27*Λ^5 + 34/27*Λ^4 + 2/3*Λ^3 + 1/2*Λ^2"
      ]
     },
     "metadata": {},
     "output_type": "display_data"
    },
    {
     "data": {
      "text/html": [
       "<html>\\(\\displaystyle \\verb|F₁(Λ)|\\verb| |\\verb|=| \\frac{4904974}{84375} Λ^{5} + \\frac{60284}{3375} Λ^{4} + \\frac{3943}{675} Λ^{3} + \\frac{32}{15} Λ^{2} + Λ\\)</html>"
      ],
      "text/latex": [
       "$\\displaystyle \\verb|F₁(Λ)|\\verb| |\\verb|=| \\frac{4904974}{84375} Λ^{5} + \\frac{60284}{3375} Λ^{4} + \\frac{3943}{675} Λ^{3} + \\frac{32}{15} Λ^{2} + Λ$"
      ],
      "text/plain": [
       "'F₁(Λ) =' 4904974/84375*Λ^5 + 60284/3375*Λ^4 + 3943/675*Λ^3 + 32/15*Λ^2 + Λ"
      ]
     },
     "metadata": {},
     "output_type": "display_data"
    },
    {
     "data": {
      "text/html": [
       "<html>\\(\\displaystyle \\verb|φ(Λ)|\\verb| |\\verb|=| \\frac{1}{84375} \\, {\\left(4904974 \\, \\sigma^{2} + 240625\\right)} \\Lambda^{5} + \\frac{2}{3375} \\, {\\left(30142 \\, \\sigma^{2} + 2125\\right)} \\Lambda^{4} + \\frac{1}{675} \\, {\\left(3943 \\, \\sigma^{2} + 450\\right)} \\Lambda^{3} + \\frac{1}{30} \\, {\\left(64 \\, \\sigma^{2} + 15\\right)} \\Lambda^{2} + \\Lambda \\sigma^{2}\\)</html>"
      ],
      "text/latex": [
       "$\\displaystyle \\verb|φ(Λ)|\\verb| |\\verb|=| \\frac{1}{84375} \\, {\\left(4904974 \\, \\sigma^{2} + 240625\\right)} \\Lambda^{5} + \\frac{2}{3375} \\, {\\left(30142 \\, \\sigma^{2} + 2125\\right)} \\Lambda^{4} + \\frac{1}{675} \\, {\\left(3943 \\, \\sigma^{2} + 450\\right)} \\Lambda^{3} + \\frac{1}{30} \\, {\\left(64 \\, \\sigma^{2} + 15\\right)} \\Lambda^{2} + \\Lambda \\sigma^{2}$"
      ],
      "text/plain": [
       "'φ(Λ) =' 1/84375*(4904974*sigma^2 + 240625)*Lambda^5 + 2/3375*(30142*sigma^2 + 2125)*Lambda^4 + 1/675*(3943*sigma^2 + 450)*Lambda^3 + 1/30*(64*sigma^2 + 15)*Lambda^2 + Lambda*sigma^2"
      ]
     },
     "metadata": {},
     "output_type": "display_data"
    }
   ],
   "source": [
    "# ──────────────────────────────────────────────────────────────────────────────\n",
    "# Series‐building block, using the unified ellipsoidal action (nu=3 ⇒ Zel'dovich)\n",
    "# Note: For exact expressions, use driver_analytical_CGF() instead\n",
    "\n",
    "# ──────────────────────────────────────────────────────────────────────────────\n",
    "driver_series_CGF(3, 6)  # Example for d=3, N=6\n",
    "# ──────────────────────────────────────────────────────────────────────────────"
   ]
  },
  {
   "cell_type": "code",
   "execution_count": 10,
   "metadata": {
    "vscode": {
     "languageId": "ini"
    }
   },
   "outputs": [
    {
     "data": {
      "text/html": [
       "<html>\\(\\displaystyle \\verb|Λ(τ)|\\verb| |\\verb|=| \\frac{3 \\, {\\left(\\nu - 3 \\, \\tau\\right)} \\tau \\left(\\frac{\\nu - 3 \\, \\tau}{\\nu}\\right)^{\\nu}}{\\nu}\\)</html>"
      ],
      "text/latex": [
       "$\\displaystyle \\verb|Λ(τ)|\\verb| |\\verb|=| \\frac{3 \\, {\\left(\\nu - 3 \\, \\tau\\right)} \\tau \\left(\\frac{\\nu - 3 \\, \\tau}{\\nu}\\right)^{\\nu}}{\\nu}$"
      ],
      "text/plain": [
       "'Λ(τ) =' 3*(nu - 3*tau)*tau*((nu - 3*tau)/nu)^nu/nu"
      ]
     },
     "metadata": {},
     "output_type": "display_data"
    },
    {
     "data": {
      "text/html": [
       "<html>\\(\\displaystyle \\verb|τ(Λ)|\\verb| |\\verb|=| \\frac{1}{3} Λ + \\left(\\frac{\\nu + 1}{3 \\, \\nu}\\right) Λ^{2} + \\left(\\frac{2 \\, {\\left(\\nu + 1\\right)}^{2}}{3 \\, \\nu^{2}} - \\frac{\\nu + 1}{6 \\, \\nu}\\right) Λ^{3} + \\left(\\frac{{\\left(\\nu + 1\\right)} {\\left(\\frac{4 \\, {\\left(\\nu + 1\\right)}^{2}}{\\nu^{2}} - \\frac{\\nu + 1}{\\nu}\\right)}}{8 \\, \\nu} + \\frac{{\\left(\\nu + 1\\right)} {\\left(\\frac{3 \\, {\\left(\\nu + 1\\right)}^{2}}{\\nu^{2}} - \\frac{\\nu + 1}{\\nu}\\right)}}{12 \\, \\nu} + \\frac{11 \\, {\\left(\\nu + 1\\right)} {\\left(\\frac{2 \\, {\\left(\\nu + 1\\right)}^{2}}{\\nu^{2}} - \\frac{\\nu + 1}{\\nu}\\right)}}{24 \\, \\nu} - \\frac{{\\left(\\nu + 1\\right)}^{2}}{6 \\, \\nu^{2}} + \\frac{\\nu^{2} - 1}{18 \\, \\nu^{2}}\\right) Λ^{4} + \\left(\\frac{1}{15} \\, {\\left(\\frac{5 \\, {\\left(\\nu + 1\\right)}^{2}}{\\nu^{2}} - \\frac{\\nu + 1}{\\nu}\\right)} {\\left(\\frac{2 \\, {\\left(\\nu + 1\\right)}^{2}}{\\nu^{2}} - \\frac{\\nu + 1}{\\nu}\\right)} + \\frac{1}{20} \\, {\\left(\\frac{4 \\, {\\left(\\nu + 1\\right)}^{2}}{\\nu^{2}} - \\frac{\\nu + 1}{\\nu}\\right)} {\\left(\\frac{2 \\, {\\left(\\nu + 1\\right)}^{2}}{\\nu^{2}} - \\frac{\\nu + 1}{\\nu}\\right)} + \\frac{1}{30} \\, {\\left(\\frac{3 \\, {\\left(\\nu + 1\\right)}^{2}}{\\nu^{2}} - \\frac{\\nu + 1}{\\nu}\\right)} {\\left(\\frac{2 \\, {\\left(\\nu + 1\\right)}^{2}}{\\nu^{2}} - \\frac{\\nu + 1}{\\nu}\\right)} + \\frac{1}{60} \\, {\\left(\\frac{2 \\, {\\left(\\nu + 1\\right)}^{2}}{\\nu^{2}} - \\frac{\\nu + 1}{\\nu}\\right)}^{2} + \\frac{{\\left(\\nu + 1\\right)} {\\left(\\frac{9 \\, {\\left(\\nu + 1\\right)} {\\left(\\frac{4 \\, {\\left(\\nu + 1\\right)}^{2}}{\\nu^{2}} - \\frac{\\nu + 1}{\\nu}\\right)}}{\\nu} + \\frac{6 \\, {\\left(\\nu + 1\\right)} {\\left(\\frac{3 \\, {\\left(\\nu + 1\\right)}^{2}}{\\nu^{2}} - \\frac{\\nu + 1}{\\nu}\\right)}}{\\nu} + \\frac{33 \\, {\\left(\\nu + 1\\right)} {\\left(\\frac{2 \\, {\\left(\\nu + 1\\right)}^{2}}{\\nu^{2}} - \\frac{\\nu + 1}{\\nu}\\right)}}{\\nu} - \\frac{12 \\, {\\left(\\nu + 1\\right)}^{2}}{\\nu^{2}} + \\frac{4 \\, {\\left(\\nu^{2} - 1\\right)}}{\\nu^{2}}\\right)}}{90 \\, \\nu} + \\frac{{\\left(\\nu + 1\\right)} {\\left(\\frac{2 \\, {\\left(\\nu + 1\\right)} {\\left(\\frac{3 \\, {\\left(\\nu + 1\\right)}^{2}}{\\nu^{2}} - \\frac{\\nu + 1}{\\nu}\\right)}}{\\nu} + \\frac{7 \\, {\\left(\\nu + 1\\right)} {\\left(\\frac{2 \\, {\\left(\\nu + 1\\right)}^{2}}{\\nu^{2}} - \\frac{\\nu + 1}{\\nu}\\right)}}{\\nu} - \\frac{3 \\, {\\left(\\nu + 1\\right)}^{2}}{\\nu^{2}} + \\frac{\\nu^{2} - 1}{\\nu^{2}}\\right)}}{30 \\, \\nu} + \\frac{{\\left(\\nu + 1\\right)} {\\left(\\frac{6 \\, {\\left(\\nu + 1\\right)} {\\left(\\frac{2 \\, {\\left(\\nu + 1\\right)}^{2}}{\\nu^{2}} - \\frac{\\nu + 1}{\\nu}\\right)}}{\\nu} - \\frac{3 \\, {\\left(\\nu + 1\\right)}^{2}}{\\nu^{2}} + \\frac{\\nu^{2} - 1}{\\nu^{2}}\\right)}}{45 \\, \\nu} + \\frac{8 \\, {\\left(\\nu + 1\\right)} {\\left(\\frac{3 \\, {\\left(\\nu + 1\\right)} {\\left(\\frac{2 \\, {\\left(\\nu + 1\\right)}^{2}}{\\nu^{2}} - \\frac{\\nu + 1}{\\nu}\\right)}}{\\nu} - \\frac{3 \\, {\\left(\\nu + 1\\right)}^{2}}{\\nu^{2}} + \\frac{\\nu^{2} - 1}{\\nu^{2}}\\right)}}{45 \\, \\nu} - \\frac{{\\left(\\nu + 1\\right)} {\\left(\\frac{2 \\, {\\left(\\nu + 1\\right)}^{2}}{\\nu^{2}} - \\frac{\\nu + 1}{\\nu}\\right)}}{12 \\, \\nu} + \\frac{{\\left(\\nu^{2} - 1\\right)} {\\left(\\nu + 1\\right)}}{18 \\, \\nu^{3}} - \\frac{\\nu^{3} - 2 \\, \\nu^{2} - \\nu + 2}{72 \\, \\nu^{3}}\\right) Λ^{5} + O(Λ^{6})\\)</html>"
      ],
      "text/latex": [
       "$\\displaystyle \\verb|τ(Λ)|\\verb| |\\verb|=| \\frac{1}{3} Λ + \\left(\\frac{\\nu + 1}{3 \\, \\nu}\\right) Λ^{2} + \\left(\\frac{2 \\, {\\left(\\nu + 1\\right)}^{2}}{3 \\, \\nu^{2}} - \\frac{\\nu + 1}{6 \\, \\nu}\\right) Λ^{3} + \\left(\\frac{{\\left(\\nu + 1\\right)} {\\left(\\frac{4 \\, {\\left(\\nu + 1\\right)}^{2}}{\\nu^{2}} - \\frac{\\nu + 1}{\\nu}\\right)}}{8 \\, \\nu} + \\frac{{\\left(\\nu + 1\\right)} {\\left(\\frac{3 \\, {\\left(\\nu + 1\\right)}^{2}}{\\nu^{2}} - \\frac{\\nu + 1}{\\nu}\\right)}}{12 \\, \\nu} + \\frac{11 \\, {\\left(\\nu + 1\\right)} {\\left(\\frac{2 \\, {\\left(\\nu + 1\\right)}^{2}}{\\nu^{2}} - \\frac{\\nu + 1}{\\nu}\\right)}}{24 \\, \\nu} - \\frac{{\\left(\\nu + 1\\right)}^{2}}{6 \\, \\nu^{2}} + \\frac{\\nu^{2} - 1}{18 \\, \\nu^{2}}\\right) Λ^{4} + \\left(\\frac{1}{15} \\, {\\left(\\frac{5 \\, {\\left(\\nu + 1\\right)}^{2}}{\\nu^{2}} - \\frac{\\nu + 1}{\\nu}\\right)} {\\left(\\frac{2 \\, {\\left(\\nu + 1\\right)}^{2}}{\\nu^{2}} - \\frac{\\nu + 1}{\\nu}\\right)} + \\frac{1}{20} \\, {\\left(\\frac{4 \\, {\\left(\\nu + 1\\right)}^{2}}{\\nu^{2}} - \\frac{\\nu + 1}{\\nu}\\right)} {\\left(\\frac{2 \\, {\\left(\\nu + 1\\right)}^{2}}{\\nu^{2}} - \\frac{\\nu + 1}{\\nu}\\right)} + \\frac{1}{30} \\, {\\left(\\frac{3 \\, {\\left(\\nu + 1\\right)}^{2}}{\\nu^{2}} - \\frac{\\nu + 1}{\\nu}\\right)} {\\left(\\frac{2 \\, {\\left(\\nu + 1\\right)}^{2}}{\\nu^{2}} - \\frac{\\nu + 1}{\\nu}\\right)} + \\frac{1}{60} \\, {\\left(\\frac{2 \\, {\\left(\\nu + 1\\right)}^{2}}{\\nu^{2}} - \\frac{\\nu + 1}{\\nu}\\right)}^{2} + \\frac{{\\left(\\nu + 1\\right)} {\\left(\\frac{9 \\, {\\left(\\nu + 1\\right)} {\\left(\\frac{4 \\, {\\left(\\nu + 1\\right)}^{2}}{\\nu^{2}} - \\frac{\\nu + 1}{\\nu}\\right)}}{\\nu} + \\frac{6 \\, {\\left(\\nu + 1\\right)} {\\left(\\frac{3 \\, {\\left(\\nu + 1\\right)}^{2}}{\\nu^{2}} - \\frac{\\nu + 1}{\\nu}\\right)}}{\\nu} + \\frac{33 \\, {\\left(\\nu + 1\\right)} {\\left(\\frac{2 \\, {\\left(\\nu + 1\\right)}^{2}}{\\nu^{2}} - \\frac{\\nu + 1}{\\nu}\\right)}}{\\nu} - \\frac{12 \\, {\\left(\\nu + 1\\right)}^{2}}{\\nu^{2}} + \\frac{4 \\, {\\left(\\nu^{2} - 1\\right)}}{\\nu^{2}}\\right)}}{90 \\, \\nu} + \\frac{{\\left(\\nu + 1\\right)} {\\left(\\frac{2 \\, {\\left(\\nu + 1\\right)} {\\left(\\frac{3 \\, {\\left(\\nu + 1\\right)}^{2}}{\\nu^{2}} - \\frac{\\nu + 1}{\\nu}\\right)}}{\\nu} + \\frac{7 \\, {\\left(\\nu + 1\\right)} {\\left(\\frac{2 \\, {\\left(\\nu + 1\\right)}^{2}}{\\nu^{2}} - \\frac{\\nu + 1}{\\nu}\\right)}}{\\nu} - \\frac{3 \\, {\\left(\\nu + 1\\right)}^{2}}{\\nu^{2}} + \\frac{\\nu^{2} - 1}{\\nu^{2}}\\right)}}{30 \\, \\nu} + \\frac{{\\left(\\nu + 1\\right)} {\\left(\\frac{6 \\, {\\left(\\nu + 1\\right)} {\\left(\\frac{2 \\, {\\left(\\nu + 1\\right)}^{2}}{\\nu^{2}} - \\frac{\\nu + 1}{\\nu}\\right)}}{\\nu} - \\frac{3 \\, {\\left(\\nu + 1\\right)}^{2}}{\\nu^{2}} + \\frac{\\nu^{2} - 1}{\\nu^{2}}\\right)}}{45 \\, \\nu} + \\frac{8 \\, {\\left(\\nu + 1\\right)} {\\left(\\frac{3 \\, {\\left(\\nu + 1\\right)} {\\left(\\frac{2 \\, {\\left(\\nu + 1\\right)}^{2}}{\\nu^{2}} - \\frac{\\nu + 1}{\\nu}\\right)}}{\\nu} - \\frac{3 \\, {\\left(\\nu + 1\\right)}^{2}}{\\nu^{2}} + \\frac{\\nu^{2} - 1}{\\nu^{2}}\\right)}}{45 \\, \\nu} - \\frac{{\\left(\\nu + 1\\right)} {\\left(\\frac{2 \\, {\\left(\\nu + 1\\right)}^{2}}{\\nu^{2}} - \\frac{\\nu + 1}{\\nu}\\right)}}{12 \\, \\nu} + \\frac{{\\left(\\nu^{2} - 1\\right)} {\\left(\\nu + 1\\right)}}{18 \\, \\nu^{3}} - \\frac{\\nu^{3} - 2 \\, \\nu^{2} - \\nu + 2}{72 \\, \\nu^{3}}\\right) Λ^{5} + O(Λ^{6})$"
      ],
      "text/plain": [
       "'τ(Λ) =' 1/3*Λ + (1/3*(nu + 1)/nu)*Λ^2 + (2/3*(nu + 1)^2/nu^2 - 1/6*(nu + 1)/nu)*Λ^3 + (1/8*(nu + 1)*(4*(nu + 1)^2/nu^2 - (nu + 1)/nu)/nu + 1/12*(nu + 1)*(3*(nu + 1)^2/nu^2 - (nu + 1)/nu)/nu + 11/24*(nu + 1)*(2*(nu + 1)^2/nu^2 - (nu + 1)/nu)/nu - 1/6*(nu + 1)^2/nu^2 + 1/18*(nu^2 - 1)/nu^2)*Λ^4 + (1/15*(5*(nu + 1)^2/nu^2 - (nu + 1)/nu)*(2*(nu + 1)^2/nu^2 - (nu + 1)/nu) + 1/20*(4*(nu + 1)^2/nu^2 - (nu + 1)/nu)*(2*(nu + 1)^2/nu^2 - (nu + 1)/nu) + 1/30*(3*(nu + 1)^2/nu^2 - (nu + 1)/nu)*(2*(nu + 1)^2/nu^2 - (nu + 1)/nu) + 1/60*(2*(nu + 1)^2/nu^2 - (nu + 1)/nu)^2 + 1/90*(nu + 1)*(9*(nu + 1)*(4*(nu + 1)^2/nu^2 - (nu + 1)/nu)/nu + 6*(nu + 1)*(3*(nu + 1)^2/nu^2 - (nu + 1)/nu)/nu + 33*(nu + 1)*(2*(nu + 1)^2/nu^2 - (nu + 1)/nu)/nu - 12*(nu + 1)^2/nu^2 + 4*(nu^2 - 1)/nu^2)/nu + 1/30*(nu + 1)*(2*(nu + 1)*(3*(nu + 1)^2/nu^2 - (nu + 1)/nu)/nu + 7*(nu + 1)*(2*(nu + 1)^2/nu^2 - (nu + 1)/nu)/nu - 3*(nu + 1)^2/nu^2 + (nu^2 - 1)/nu^2)/nu + 1/45*(nu + 1)*(6*(nu + 1)*(2*(nu + 1)^2/nu^2 - (nu + 1)/nu)/nu - 3*(nu + 1)^2/nu^2 + (nu^2 - 1)/nu^2)/nu + 8/45*(nu + 1)*(3*(nu + 1)*(2*(nu + 1)^2/nu^2 - (nu + 1)/nu)/nu - 3*(nu + 1)^2/nu^2 + (nu^2 - 1)/nu^2)/nu - 1/12*(nu + 1)*(2*(nu + 1)^2/nu^2 - (nu + 1)/nu)/nu + 1/18*(nu^2 - 1)*(nu + 1)/nu^3 - 1/72*(nu^3 - 2*nu^2 - nu + 2)/nu^3)*Λ^5 + O(Λ^6)"
      ]
     },
     "metadata": {},
     "output_type": "display_data"
    },
    {
     "data": {
      "text/html": [
       "<html>\\(\\displaystyle \\verb|φ₀(τ)|\\verb| |\\verb|=| -\\frac{3 \\, {\\left(3 \\, \\nu \\tau + 2 \\, \\nu \\left(\\frac{\\nu - 3 \\, \\tau}{\\nu}\\right)^{\\nu} - 6 \\, \\tau \\left(\\frac{\\nu - 3 \\, \\tau}{\\nu}\\right)^{\\nu} - 2 \\, \\nu + 6 \\, \\tau\\right)} \\tau}{2 \\, \\nu}\\)</html>"
      ],
      "text/latex": [
       "$\\displaystyle \\verb|φ₀(τ)|\\verb| |\\verb|=| -\\frac{3 \\, {\\left(3 \\, \\nu \\tau + 2 \\, \\nu \\left(\\frac{\\nu - 3 \\, \\tau}{\\nu}\\right)^{\\nu} - 6 \\, \\tau \\left(\\frac{\\nu - 3 \\, \\tau}{\\nu}\\right)^{\\nu} - 2 \\, \\nu + 6 \\, \\tau\\right)} \\tau}{2 \\, \\nu}$"
      ],
      "text/plain": [
       "'φ₀(τ) =' -3/2*(3*nu*tau + 2*nu*((nu - 3*tau)/nu)^nu - 6*tau*((nu - 3*tau)/nu)^nu - 2*nu + 6*tau)*tau/nu"
      ]
     },
     "metadata": {},
     "output_type": "display_data"
    },
    {
     "data": {
      "text/html": [
       "<html>\\(\\displaystyle \\verb|F₁(τ)|\\verb| |\\verb|=| -\\frac{1}{2} \\, \\log\\left(-\\frac{{\\left({\\left(5 \\, \\nu + 6\\right)} \\tau^{2} - 12 \\, \\nu \\tau + 5 \\, \\nu\\right)}^{5} {\\left(3 \\, {\\left(\\nu + 2\\right)} \\tau - \\nu\\right)}}{3125 \\, {\\left(\\nu - 3 \\, \\tau\\right)} \\nu^{5} {\\left(\\tau - 1\\right)}^{10}}\\right)\\)</html>"
      ],
      "text/latex": [
       "$\\displaystyle \\verb|F₁(τ)|\\verb| |\\verb|=| -\\frac{1}{2} \\, \\log\\left(-\\frac{{\\left({\\left(5 \\, \\nu + 6\\right)} \\tau^{2} - 12 \\, \\nu \\tau + 5 \\, \\nu\\right)}^{5} {\\left(3 \\, {\\left(\\nu + 2\\right)} \\tau - \\nu\\right)}}{3125 \\, {\\left(\\nu - 3 \\, \\tau\\right)} \\nu^{5} {\\left(\\tau - 1\\right)}^{10}}\\right)$"
      ],
      "text/plain": [
       "'F₁(τ) =' -1/2*log(-1/3125*((5*nu + 6)*tau^2 - 12*nu*tau + 5*nu)^5*(3*(nu + 2)*tau - nu)/((nu - 3*tau)*nu^5*(tau - 1)^10))"
      ]
     },
     "metadata": {},
     "output_type": "display_data"
    },
    {
     "data": {
      "text/html": [
       "<html>\\(\\displaystyle \\verb|φ(τ)|\\verb| |\\verb|=| -\\frac{\\nu \\sigma^{2} \\log\\left(-\\frac{{\\left({\\left(5 \\, \\nu + 6\\right)} \\tau^{2} - 12 \\, \\nu \\tau + 5 \\, \\nu\\right)}^{5} {\\left(3 \\, {\\left(\\nu + 2\\right)} \\tau - \\nu\\right)}}{3125 \\, {\\left(\\nu - 3 \\, \\tau\\right)} \\nu^{5} {\\left(\\tau - 1\\right)}^{10}}\\right) + 9 \\, \\nu \\tau^{2} + 6 \\, \\nu \\tau \\left(\\frac{\\nu - 3 \\, \\tau}{\\nu}\\right)^{\\nu} - 18 \\, \\tau^{2} \\left(\\frac{\\nu - 3 \\, \\tau}{\\nu}\\right)^{\\nu} - 6 \\, \\nu \\tau + 18 \\, \\tau^{2}}{2 \\, \\nu}\\)</html>"
      ],
      "text/latex": [
       "$\\displaystyle \\verb|φ(τ)|\\verb| |\\verb|=| -\\frac{\\nu \\sigma^{2} \\log\\left(-\\frac{{\\left({\\left(5 \\, \\nu + 6\\right)} \\tau^{2} - 12 \\, \\nu \\tau + 5 \\, \\nu\\right)}^{5} {\\left(3 \\, {\\left(\\nu + 2\\right)} \\tau - \\nu\\right)}}{3125 \\, {\\left(\\nu - 3 \\, \\tau\\right)} \\nu^{5} {\\left(\\tau - 1\\right)}^{10}}\\right) + 9 \\, \\nu \\tau^{2} + 6 \\, \\nu \\tau \\left(\\frac{\\nu - 3 \\, \\tau}{\\nu}\\right)^{\\nu} - 18 \\, \\tau^{2} \\left(\\frac{\\nu - 3 \\, \\tau}{\\nu}\\right)^{\\nu} - 6 \\, \\nu \\tau + 18 \\, \\tau^{2}}{2 \\, \\nu}$"
      ],
      "text/plain": [
       "'φ(τ) =' -1/2*(nu*sigma^2*log(-1/3125*((5*nu + 6)*tau^2 - 12*nu*tau + 5*nu)^5*(3*(nu + 2)*tau - nu)/((nu - 3*tau)*nu^5*(tau - 1)^10)) + 9*nu*tau^2 + 6*nu*tau*((nu - 3*tau)/nu)^nu - 18*tau^2*((nu - 3*tau)/nu)^nu - 6*nu*tau + 18*tau^2)/nu"
      ]
     },
     "metadata": {},
     "output_type": "display_data"
    },
    {
     "data": {
      "text/html": [
       "<html>\\(\\displaystyle \\verb|φ₀(Λ)|\\verb| |\\verb|=| \\left(-\\frac{3 \\, {\\left(\\nu + 1\\right)} {\\left(\\frac{6 \\, {\\left(\\nu + 1\\right)}^{2}}{\\nu^{2}} - \\frac{\\nu + 1}{\\nu}\\right)}}{4 \\, \\nu} + \\frac{7 \\, {\\left(\\nu + 1\\right)} {\\left(\\frac{4 \\, {\\left(\\nu + 1\\right)}^{2}}{\\nu^{2}} - \\frac{\\nu + 1}{\\nu}\\right)}}{8 \\, \\nu} + \\frac{{\\left(\\nu + 1\\right)} {\\left(\\frac{3 \\, {\\left(\\nu + 1\\right)}^{2}}{\\nu^{2}} - \\frac{\\nu + 1}{\\nu}\\right)}}{4 \\, \\nu} + \\frac{11 \\, {\\left(\\nu + 1\\right)} {\\left(\\frac{2 \\, {\\left(\\nu + 1\\right)}^{2}}{\\nu^{2}} - \\frac{\\nu + 1}{\\nu}\\right)}}{8 \\, \\nu} - \\frac{{\\left(\\nu + 1\\right)}^{2}}{2 \\, \\nu^{2}} + \\frac{2 \\, {\\left(\\nu^{2} - 1\\right)} {\\left(\\nu + 1\\right)}}{3 \\, \\nu^{3}} + \\frac{\\nu^{2} - 1}{6 \\, \\nu^{2}} - \\frac{\\nu^{3} - 2 \\, \\nu^{2} - \\nu + 2}{24 \\, \\nu^{3}}\\right) Λ^{5} + \\left(\\frac{{\\left(\\nu + 1\\right)}^{2}}{\\nu^{2}} - \\frac{\\nu + 1}{2 \\, \\nu} + \\frac{\\nu^{2} - 1}{6 \\, \\nu^{2}}\\right) Λ^{4} + \\left(\\frac{\\nu + 1}{2 \\, \\nu}\\right) Λ^{3} + \\frac{1}{2} Λ^{2}\\)</html>"
      ],
      "text/latex": [
       "$\\displaystyle \\verb|φ₀(Λ)|\\verb| |\\verb|=| \\left(-\\frac{3 \\, {\\left(\\nu + 1\\right)} {\\left(\\frac{6 \\, {\\left(\\nu + 1\\right)}^{2}}{\\nu^{2}} - \\frac{\\nu + 1}{\\nu}\\right)}}{4 \\, \\nu} + \\frac{7 \\, {\\left(\\nu + 1\\right)} {\\left(\\frac{4 \\, {\\left(\\nu + 1\\right)}^{2}}{\\nu^{2}} - \\frac{\\nu + 1}{\\nu}\\right)}}{8 \\, \\nu} + \\frac{{\\left(\\nu + 1\\right)} {\\left(\\frac{3 \\, {\\left(\\nu + 1\\right)}^{2}}{\\nu^{2}} - \\frac{\\nu + 1}{\\nu}\\right)}}{4 \\, \\nu} + \\frac{11 \\, {\\left(\\nu + 1\\right)} {\\left(\\frac{2 \\, {\\left(\\nu + 1\\right)}^{2}}{\\nu^{2}} - \\frac{\\nu + 1}{\\nu}\\right)}}{8 \\, \\nu} - \\frac{{\\left(\\nu + 1\\right)}^{2}}{2 \\, \\nu^{2}} + \\frac{2 \\, {\\left(\\nu^{2} - 1\\right)} {\\left(\\nu + 1\\right)}}{3 \\, \\nu^{3}} + \\frac{\\nu^{2} - 1}{6 \\, \\nu^{2}} - \\frac{\\nu^{3} - 2 \\, \\nu^{2} - \\nu + 2}{24 \\, \\nu^{3}}\\right) Λ^{5} + \\left(\\frac{{\\left(\\nu + 1\\right)}^{2}}{\\nu^{2}} - \\frac{\\nu + 1}{2 \\, \\nu} + \\frac{\\nu^{2} - 1}{6 \\, \\nu^{2}}\\right) Λ^{4} + \\left(\\frac{\\nu + 1}{2 \\, \\nu}\\right) Λ^{3} + \\frac{1}{2} Λ^{2}$"
      ],
      "text/plain": [
       "'φ₀(Λ) =' (-3/4*(nu + 1)*(6*(nu + 1)^2/nu^2 - (nu + 1)/nu)/nu + 7/8*(nu + 1)*(4*(nu + 1)^2/nu^2 - (nu + 1)/nu)/nu + 1/4*(nu + 1)*(3*(nu + 1)^2/nu^2 - (nu + 1)/nu)/nu + 11/8*(nu + 1)*(2*(nu + 1)^2/nu^2 - (nu + 1)/nu)/nu - 1/2*(nu + 1)^2/nu^2 + 2/3*(nu^2 - 1)*(nu + 1)/nu^3 + 1/6*(nu^2 - 1)/nu^2 - 1/24*(nu^3 - 2*nu^2 - nu + 2)/nu^3)*Λ^5 + ((nu + 1)^2/nu^2 - 1/2*(nu + 1)/nu + 1/6*(nu^2 - 1)/nu^2)*Λ^4 + (1/2*(nu + 1)/nu)*Λ^3 + 1/2*Λ^2"
      ]
     },
     "metadata": {},
     "output_type": "display_data"
    },
    {
     "data": {
      "text/html": [
       "<html>\\(\\displaystyle \\verb|F₁(Λ)|\\verb| |\\verb|=| \\left(\\frac{{\\left(24 \\, {\\left(\\frac{5 \\, {\\left(\\nu + 1\\right)}^{2}}{\\nu^{2}} - \\frac{\\nu + 1}{\\nu}\\right)} {\\left(\\frac{2 \\, {\\left(\\nu + 1\\right)}^{2}}{\\nu^{2}} - \\frac{\\nu + 1}{\\nu}\\right)} + 18 \\, {\\left(\\frac{4 \\, {\\left(\\nu + 1\\right)}^{2}}{\\nu^{2}} - \\frac{\\nu + 1}{\\nu}\\right)} {\\left(\\frac{2 \\, {\\left(\\nu + 1\\right)}^{2}}{\\nu^{2}} - \\frac{\\nu + 1}{\\nu}\\right)} + 12 \\, {\\left(\\frac{3 \\, {\\left(\\nu + 1\\right)}^{2}}{\\nu^{2}} - \\frac{\\nu + 1}{\\nu}\\right)} {\\left(\\frac{2 \\, {\\left(\\nu + 1\\right)}^{2}}{\\nu^{2}} - \\frac{\\nu + 1}{\\nu}\\right)} + 6 \\, {\\left(\\frac{2 \\, {\\left(\\nu + 1\\right)}^{2}}{\\nu^{2}} - \\frac{\\nu + 1}{\\nu}\\right)}^{2} + \\frac{4 \\, {\\left(\\nu + 1\\right)} {\\left(\\frac{9 \\, {\\left(\\nu + 1\\right)} {\\left(\\frac{4 \\, {\\left(\\nu + 1\\right)}^{2}}{\\nu^{2}} - \\frac{\\nu + 1}{\\nu}\\right)}}{\\nu} + \\frac{6 \\, {\\left(\\nu + 1\\right)} {\\left(\\frac{3 \\, {\\left(\\nu + 1\\right)}^{2}}{\\nu^{2}} - \\frac{\\nu + 1}{\\nu}\\right)}}{\\nu} + \\frac{33 \\, {\\left(\\nu + 1\\right)} {\\left(\\frac{2 \\, {\\left(\\nu + 1\\right)}^{2}}{\\nu^{2}} - \\frac{\\nu + 1}{\\nu}\\right)}}{\\nu} - \\frac{12 \\, {\\left(\\nu + 1\\right)}^{2}}{\\nu^{2}} + \\frac{4 \\, {\\left(\\nu^{2} - 1\\right)}}{\\nu^{2}}\\right)}}{\\nu} + \\frac{12 \\, {\\left(\\nu + 1\\right)} {\\left(\\frac{2 \\, {\\left(\\nu + 1\\right)} {\\left(\\frac{3 \\, {\\left(\\nu + 1\\right)}^{2}}{\\nu^{2}} - \\frac{\\nu + 1}{\\nu}\\right)}}{\\nu} + \\frac{7 \\, {\\left(\\nu + 1\\right)} {\\left(\\frac{2 \\, {\\left(\\nu + 1\\right)}^{2}}{\\nu^{2}} - \\frac{\\nu + 1}{\\nu}\\right)}}{\\nu} - \\frac{3 \\, {\\left(\\nu + 1\\right)}^{2}}{\\nu^{2}} + \\frac{\\nu^{2} - 1}{\\nu^{2}}\\right)}}{\\nu} + \\frac{8 \\, {\\left(\\nu + 1\\right)} {\\left(\\frac{6 \\, {\\left(\\nu + 1\\right)} {\\left(\\frac{2 \\, {\\left(\\nu + 1\\right)}^{2}}{\\nu^{2}} - \\frac{\\nu + 1}{\\nu}\\right)}}{\\nu} - \\frac{3 \\, {\\left(\\nu + 1\\right)}^{2}}{\\nu^{2}} + \\frac{\\nu^{2} - 1}{\\nu^{2}}\\right)}}{\\nu} + \\frac{64 \\, {\\left(\\nu + 1\\right)} {\\left(\\frac{3 \\, {\\left(\\nu + 1\\right)} {\\left(\\frac{2 \\, {\\left(\\nu + 1\\right)}^{2}}{\\nu^{2}} - \\frac{\\nu + 1}{\\nu}\\right)}}{\\nu} - \\frac{3 \\, {\\left(\\nu + 1\\right)}^{2}}{\\nu^{2}} + \\frac{\\nu^{2} - 1}{\\nu^{2}}\\right)}}{\\nu} - \\frac{30 \\, {\\left(\\nu + 1\\right)} {\\left(\\frac{2 \\, {\\left(\\nu + 1\\right)}^{2}}{\\nu^{2}} - \\frac{\\nu + 1}{\\nu}\\right)}}{\\nu} + \\frac{20 \\, {\\left(\\nu^{2} - 1\\right)} {\\left(\\nu + 1\\right)}}{\\nu^{3}} - \\frac{5 \\, {\\left(\\nu^{3} - 2 \\, \\nu^{2} - \\nu + 2\\right)}}{\\nu^{3}}\\right)} {\\left(5 \\, \\nu + 3\\right)}}{720 \\, \\nu} + \\frac{{\\left(89 \\, \\nu^{2} + 120 \\, \\nu + 135\\right)} {\\left(\\frac{21 \\, {\\left(\\nu + 1\\right)} {\\left(\\frac{4 \\, {\\left(\\nu + 1\\right)}^{2}}{\\nu^{2}} - \\frac{\\nu + 1}{\\nu}\\right)}}{\\nu} + \\frac{6 \\, {\\left(\\nu + 1\\right)} {\\left(\\frac{3 \\, {\\left(\\nu + 1\\right)}^{2}}{\\nu^{2}} - \\frac{\\nu + 1}{\\nu}\\right)}}{\\nu} + \\frac{33 \\, {\\left(\\nu + 1\\right)} {\\left(\\frac{2 \\, {\\left(\\nu + 1\\right)}^{2}}{\\nu^{2}} - \\frac{\\nu + 1}{\\nu}\\right)}}{\\nu} - \\frac{12 \\, {\\left(\\nu + 1\\right)}^{2}}{\\nu^{2}} + \\frac{4 \\, {\\left(\\nu^{2} - 1\\right)}}{\\nu^{2}}\\right)}}{2160 \\, \\nu^{2}} + \\frac{{\\left(1253 \\, \\nu^{3} + 2970 \\, \\nu^{2} + 8100 \\, \\nu + 4725\\right)} {\\left(\\frac{6 \\, {\\left(\\nu + 1\\right)}^{2}}{\\nu^{2}} - \\frac{\\nu + 1}{\\nu}\\right)}}{2700 \\, \\nu^{3}} + \\frac{{\\left(5487 \\, \\nu^{4} + 22240 \\, \\nu^{3} + 81600 \\, \\nu^{2} + 108000 \\, \\nu + 50625\\right)} {\\left(\\nu + 1\\right)}}{6750 \\, \\nu^{5}} + \\frac{215957 \\, \\nu^{5} + 1349550 \\, \\nu^{4} + 6129000 \\, \\nu^{3} + 12150000 \\, \\nu^{2} + 12150000 \\, \\nu + 4708125}{1518750 \\, \\nu^{5}}\\right) Λ^{5} + \\left(\\frac{{\\left(5 \\, \\nu + 3\\right)} {\\left(\\frac{9 \\, {\\left(\\nu + 1\\right)} {\\left(\\frac{4 \\, {\\left(\\nu + 1\\right)}^{2}}{\\nu^{2}} - \\frac{\\nu + 1}{\\nu}\\right)}}{\\nu} + \\frac{6 \\, {\\left(\\nu + 1\\right)} {\\left(\\frac{3 \\, {\\left(\\nu + 1\\right)}^{2}}{\\nu^{2}} - \\frac{\\nu + 1}{\\nu}\\right)}}{\\nu} + \\frac{33 \\, {\\left(\\nu + 1\\right)} {\\left(\\frac{2 \\, {\\left(\\nu + 1\\right)}^{2}}{\\nu^{2}} - \\frac{\\nu + 1}{\\nu}\\right)}}{\\nu} - \\frac{12 \\, {\\left(\\nu + 1\\right)}^{2}}{\\nu^{2}} + \\frac{4 \\, {\\left(\\nu^{2} - 1\\right)}}{\\nu^{2}}\\right)}}{144 \\, \\nu} + \\frac{{\\left(89 \\, \\nu^{2} + 120 \\, \\nu + 135\\right)} {\\left(\\frac{5 \\, {\\left(\\nu + 1\\right)}^{2}}{\\nu^{2}} - \\frac{\\nu + 1}{\\nu}\\right)}}{180 \\, \\nu^{2}} + \\frac{{\\left(1253 \\, \\nu^{3} + 2970 \\, \\nu^{2} + 8100 \\, \\nu + 4725\\right)} {\\left(\\nu + 1\\right)}}{1350 \\, \\nu^{4}} + \\frac{5487 \\, \\nu^{4} + 22240 \\, \\nu^{3} + 81600 \\, \\nu^{2} + 108000 \\, \\nu + 50625}{27000 \\, \\nu^{4}}\\right) Λ^{4} + \\left(\\frac{{\\left(5 \\, \\nu + 3\\right)} {\\left(\\frac{4 \\, {\\left(\\nu + 1\\right)}^{2}}{\\nu^{2}} - \\frac{\\nu + 1}{\\nu}\\right)}}{12 \\, \\nu} + \\frac{{\\left(89 \\, \\nu^{2} + 120 \\, \\nu + 135\\right)} {\\left(\\nu + 1\\right)}}{90 \\, \\nu^{3}} + \\frac{1253 \\, \\nu^{3} + 2970 \\, \\nu^{2} + 8100 \\, \\nu + 4725}{4050 \\, \\nu^{3}}\\right) Λ^{3} + \\left(\\frac{{\\left(5 \\, \\nu + 3\\right)} {\\left(\\nu + 1\\right)}}{6 \\, \\nu^{2}} + \\frac{89 \\, \\nu^{2} + 120 \\, \\nu + 135}{180 \\, \\nu^{2}}\\right) Λ^{2} + \\left(\\frac{5 \\, \\nu + 3}{6 \\, \\nu}\\right) Λ\\)</html>"
      ],
      "text/latex": [
       "$\\displaystyle \\verb|F₁(Λ)|\\verb| |\\verb|=| \\left(\\frac{{\\left(24 \\, {\\left(\\frac{5 \\, {\\left(\\nu + 1\\right)}^{2}}{\\nu^{2}} - \\frac{\\nu + 1}{\\nu}\\right)} {\\left(\\frac{2 \\, {\\left(\\nu + 1\\right)}^{2}}{\\nu^{2}} - \\frac{\\nu + 1}{\\nu}\\right)} + 18 \\, {\\left(\\frac{4 \\, {\\left(\\nu + 1\\right)}^{2}}{\\nu^{2}} - \\frac{\\nu + 1}{\\nu}\\right)} {\\left(\\frac{2 \\, {\\left(\\nu + 1\\right)}^{2}}{\\nu^{2}} - \\frac{\\nu + 1}{\\nu}\\right)} + 12 \\, {\\left(\\frac{3 \\, {\\left(\\nu + 1\\right)}^{2}}{\\nu^{2}} - \\frac{\\nu + 1}{\\nu}\\right)} {\\left(\\frac{2 \\, {\\left(\\nu + 1\\right)}^{2}}{\\nu^{2}} - \\frac{\\nu + 1}{\\nu}\\right)} + 6 \\, {\\left(\\frac{2 \\, {\\left(\\nu + 1\\right)}^{2}}{\\nu^{2}} - \\frac{\\nu + 1}{\\nu}\\right)}^{2} + \\frac{4 \\, {\\left(\\nu + 1\\right)} {\\left(\\frac{9 \\, {\\left(\\nu + 1\\right)} {\\left(\\frac{4 \\, {\\left(\\nu + 1\\right)}^{2}}{\\nu^{2}} - \\frac{\\nu + 1}{\\nu}\\right)}}{\\nu} + \\frac{6 \\, {\\left(\\nu + 1\\right)} {\\left(\\frac{3 \\, {\\left(\\nu + 1\\right)}^{2}}{\\nu^{2}} - \\frac{\\nu + 1}{\\nu}\\right)}}{\\nu} + \\frac{33 \\, {\\left(\\nu + 1\\right)} {\\left(\\frac{2 \\, {\\left(\\nu + 1\\right)}^{2}}{\\nu^{2}} - \\frac{\\nu + 1}{\\nu}\\right)}}{\\nu} - \\frac{12 \\, {\\left(\\nu + 1\\right)}^{2}}{\\nu^{2}} + \\frac{4 \\, {\\left(\\nu^{2} - 1\\right)}}{\\nu^{2}}\\right)}}{\\nu} + \\frac{12 \\, {\\left(\\nu + 1\\right)} {\\left(\\frac{2 \\, {\\left(\\nu + 1\\right)} {\\left(\\frac{3 \\, {\\left(\\nu + 1\\right)}^{2}}{\\nu^{2}} - \\frac{\\nu + 1}{\\nu}\\right)}}{\\nu} + \\frac{7 \\, {\\left(\\nu + 1\\right)} {\\left(\\frac{2 \\, {\\left(\\nu + 1\\right)}^{2}}{\\nu^{2}} - \\frac{\\nu + 1}{\\nu}\\right)}}{\\nu} - \\frac{3 \\, {\\left(\\nu + 1\\right)}^{2}}{\\nu^{2}} + \\frac{\\nu^{2} - 1}{\\nu^{2}}\\right)}}{\\nu} + \\frac{8 \\, {\\left(\\nu + 1\\right)} {\\left(\\frac{6 \\, {\\left(\\nu + 1\\right)} {\\left(\\frac{2 \\, {\\left(\\nu + 1\\right)}^{2}}{\\nu^{2}} - \\frac{\\nu + 1}{\\nu}\\right)}}{\\nu} - \\frac{3 \\, {\\left(\\nu + 1\\right)}^{2}}{\\nu^{2}} + \\frac{\\nu^{2} - 1}{\\nu^{2}}\\right)}}{\\nu} + \\frac{64 \\, {\\left(\\nu + 1\\right)} {\\left(\\frac{3 \\, {\\left(\\nu + 1\\right)} {\\left(\\frac{2 \\, {\\left(\\nu + 1\\right)}^{2}}{\\nu^{2}} - \\frac{\\nu + 1}{\\nu}\\right)}}{\\nu} - \\frac{3 \\, {\\left(\\nu + 1\\right)}^{2}}{\\nu^{2}} + \\frac{\\nu^{2} - 1}{\\nu^{2}}\\right)}}{\\nu} - \\frac{30 \\, {\\left(\\nu + 1\\right)} {\\left(\\frac{2 \\, {\\left(\\nu + 1\\right)}^{2}}{\\nu^{2}} - \\frac{\\nu + 1}{\\nu}\\right)}}{\\nu} + \\frac{20 \\, {\\left(\\nu^{2} - 1\\right)} {\\left(\\nu + 1\\right)}}{\\nu^{3}} - \\frac{5 \\, {\\left(\\nu^{3} - 2 \\, \\nu^{2} - \\nu + 2\\right)}}{\\nu^{3}}\\right)} {\\left(5 \\, \\nu + 3\\right)}}{720 \\, \\nu} + \\frac{{\\left(89 \\, \\nu^{2} + 120 \\, \\nu + 135\\right)} {\\left(\\frac{21 \\, {\\left(\\nu + 1\\right)} {\\left(\\frac{4 \\, {\\left(\\nu + 1\\right)}^{2}}{\\nu^{2}} - \\frac{\\nu + 1}{\\nu}\\right)}}{\\nu} + \\frac{6 \\, {\\left(\\nu + 1\\right)} {\\left(\\frac{3 \\, {\\left(\\nu + 1\\right)}^{2}}{\\nu^{2}} - \\frac{\\nu + 1}{\\nu}\\right)}}{\\nu} + \\frac{33 \\, {\\left(\\nu + 1\\right)} {\\left(\\frac{2 \\, {\\left(\\nu + 1\\right)}^{2}}{\\nu^{2}} - \\frac{\\nu + 1}{\\nu}\\right)}}{\\nu} - \\frac{12 \\, {\\left(\\nu + 1\\right)}^{2}}{\\nu^{2}} + \\frac{4 \\, {\\left(\\nu^{2} - 1\\right)}}{\\nu^{2}}\\right)}}{2160 \\, \\nu^{2}} + \\frac{{\\left(1253 \\, \\nu^{3} + 2970 \\, \\nu^{2} + 8100 \\, \\nu + 4725\\right)} {\\left(\\frac{6 \\, {\\left(\\nu + 1\\right)}^{2}}{\\nu^{2}} - \\frac{\\nu + 1}{\\nu}\\right)}}{2700 \\, \\nu^{3}} + \\frac{{\\left(5487 \\, \\nu^{4} + 22240 \\, \\nu^{3} + 81600 \\, \\nu^{2} + 108000 \\, \\nu + 50625\\right)} {\\left(\\nu + 1\\right)}}{6750 \\, \\nu^{5}} + \\frac{215957 \\, \\nu^{5} + 1349550 \\, \\nu^{4} + 6129000 \\, \\nu^{3} + 12150000 \\, \\nu^{2} + 12150000 \\, \\nu + 4708125}{1518750 \\, \\nu^{5}}\\right) Λ^{5} + \\left(\\frac{{\\left(5 \\, \\nu + 3\\right)} {\\left(\\frac{9 \\, {\\left(\\nu + 1\\right)} {\\left(\\frac{4 \\, {\\left(\\nu + 1\\right)}^{2}}{\\nu^{2}} - \\frac{\\nu + 1}{\\nu}\\right)}}{\\nu} + \\frac{6 \\, {\\left(\\nu + 1\\right)} {\\left(\\frac{3 \\, {\\left(\\nu + 1\\right)}^{2}}{\\nu^{2}} - \\frac{\\nu + 1}{\\nu}\\right)}}{\\nu} + \\frac{33 \\, {\\left(\\nu + 1\\right)} {\\left(\\frac{2 \\, {\\left(\\nu + 1\\right)}^{2}}{\\nu^{2}} - \\frac{\\nu + 1}{\\nu}\\right)}}{\\nu} - \\frac{12 \\, {\\left(\\nu + 1\\right)}^{2}}{\\nu^{2}} + \\frac{4 \\, {\\left(\\nu^{2} - 1\\right)}}{\\nu^{2}}\\right)}}{144 \\, \\nu} + \\frac{{\\left(89 \\, \\nu^{2} + 120 \\, \\nu + 135\\right)} {\\left(\\frac{5 \\, {\\left(\\nu + 1\\right)}^{2}}{\\nu^{2}} - \\frac{\\nu + 1}{\\nu}\\right)}}{180 \\, \\nu^{2}} + \\frac{{\\left(1253 \\, \\nu^{3} + 2970 \\, \\nu^{2} + 8100 \\, \\nu + 4725\\right)} {\\left(\\nu + 1\\right)}}{1350 \\, \\nu^{4}} + \\frac{5487 \\, \\nu^{4} + 22240 \\, \\nu^{3} + 81600 \\, \\nu^{2} + 108000 \\, \\nu + 50625}{27000 \\, \\nu^{4}}\\right) Λ^{4} + \\left(\\frac{{\\left(5 \\, \\nu + 3\\right)} {\\left(\\frac{4 \\, {\\left(\\nu + 1\\right)}^{2}}{\\nu^{2}} - \\frac{\\nu + 1}{\\nu}\\right)}}{12 \\, \\nu} + \\frac{{\\left(89 \\, \\nu^{2} + 120 \\, \\nu + 135\\right)} {\\left(\\nu + 1\\right)}}{90 \\, \\nu^{3}} + \\frac{1253 \\, \\nu^{3} + 2970 \\, \\nu^{2} + 8100 \\, \\nu + 4725}{4050 \\, \\nu^{3}}\\right) Λ^{3} + \\left(\\frac{{\\left(5 \\, \\nu + 3\\right)} {\\left(\\nu + 1\\right)}}{6 \\, \\nu^{2}} + \\frac{89 \\, \\nu^{2} + 120 \\, \\nu + 135}{180 \\, \\nu^{2}}\\right) Λ^{2} + \\left(\\frac{5 \\, \\nu + 3}{6 \\, \\nu}\\right) Λ$"
      ],
      "text/plain": [
       "'F₁(Λ) =' (1/720*(24*(5*(nu + 1)^2/nu^2 - (nu + 1)/nu)*(2*(nu + 1)^2/nu^2 - (nu + 1)/nu) + 18*(4*(nu + 1)^2/nu^2 - (nu + 1)/nu)*(2*(nu + 1)^2/nu^2 - (nu + 1)/nu) + 12*(3*(nu + 1)^2/nu^2 - (nu + 1)/nu)*(2*(nu + 1)^2/nu^2 - (nu + 1)/nu) + 6*(2*(nu + 1)^2/nu^2 - (nu + 1)/nu)^2 + 4*(nu + 1)*(9*(nu + 1)*(4*(nu + 1)^2/nu^2 - (nu + 1)/nu)/nu + 6*(nu + 1)*(3*(nu + 1)^2/nu^2 - (nu + 1)/nu)/nu + 33*(nu + 1)*(2*(nu + 1)^2/nu^2 - (nu + 1)/nu)/nu - 12*(nu + 1)^2/nu^2 + 4*(nu^2 - 1)/nu^2)/nu + 12*(nu + 1)*(2*(nu + 1)*(3*(nu + 1)^2/nu^2 - (nu + 1)/nu)/nu + 7*(nu + 1)*(2*(nu + 1)^2/nu^2 - (nu + 1)/nu)/nu - 3*(nu + 1)^2/nu^2 + (nu^2 - 1)/nu^2)/nu + 8*(nu + 1)*(6*(nu + 1)*(2*(nu + 1)^2/nu^2 - (nu + 1)/nu)/nu - 3*(nu + 1)^2/nu^2 + (nu^2 - 1)/nu^2)/nu + 64*(nu + 1)*(3*(nu + 1)*(2*(nu + 1)^2/nu^2 - (nu + 1)/nu)/nu - 3*(nu + 1)^2/nu^2 + (nu^2 - 1)/nu^2)/nu - 30*(nu + 1)*(2*(nu + 1)^2/nu^2 - (nu + 1)/nu)/nu + 20*(nu^2 - 1)*(nu + 1)/nu^3 - 5*(nu^3 - 2*nu^2 - nu + 2)/nu^3)*(5*nu + 3)/nu + 1/2160*(89*nu^2 + 120*nu + 135)*(21*(nu + 1)*(4*(nu + 1)^2/nu^2 - (nu + 1)/nu)/nu + 6*(nu + 1)*(3*(nu + 1)^2/nu^2 - (nu + 1)/nu)/nu + 33*(nu + 1)*(2*(nu + 1)^2/nu^2 - (nu + 1)/nu)/nu - 12*(nu + 1)^2/nu^2 + 4*(nu^2 - 1)/nu^2)/nu^2 + 1/2700*(1253*nu^3 + 2970*nu^2 + 8100*nu + 4725)*(6*(nu + 1)^2/nu^2 - (nu + 1)/nu)/nu^3 + 1/6750*(5487*nu^4 + 22240*nu^3 + 81600*nu^2 + 108000*nu + 50625)*(nu + 1)/nu^5 + 1/1518750*(215957*nu^5 + 1349550*nu^4 + 6129000*nu^3 + 12150000*nu^2 + 12150000*nu + 4708125)/nu^5)*Λ^5 + (1/144*(5*nu + 3)*(9*(nu + 1)*(4*(nu + 1)^2/nu^2 - (nu + 1)/nu)/nu + 6*(nu + 1)*(3*(nu + 1)^2/nu^2 - (nu + 1)/nu)/nu + 33*(nu + 1)*(2*(nu + 1)^2/nu^2 - (nu + 1)/nu)/nu - 12*(nu + 1)^2/nu^2 + 4*(nu^2 - 1)/nu^2)/nu + 1/180*(89*nu^2 + 120*nu + 135)*(5*(nu + 1)^2/nu^2 - (nu + 1)/nu)/nu^2 + 1/1350*(1253*nu^3 + 2970*nu^2 + 8100*nu + 4725)*(nu + 1)/nu^4 + 1/27000*(5487*nu^4 + 22240*nu^3 + 81600*nu^2 + 108000*nu + 50625)/nu^4)*Λ^4 + (1/12*(5*nu + 3)*(4*(nu + 1)^2/nu^2 - (nu + 1)/nu)/nu + 1/90*(89*nu^2 + 120*nu + 135)*(nu + 1)/nu^3 + 1/4050*(1253*nu^3 + 2970*nu^2 + 8100*nu + 4725)/nu^3)*Λ^3 + (1/6*(5*nu + 3)*(nu + 1)/nu^2 + 1/180*(89*nu^2 + 120*nu + 135)/nu^2)*Λ^2 + (1/6*(5*nu + 3)/nu)*Λ"
      ]
     },
     "metadata": {},
     "output_type": "display_data"
    },
    {
     "data": {
      "text/html": [
       "<html>\\(\\displaystyle \\verb|φ(Λ)|\\verb| |\\verb|=| \\frac{1}{12150000} \\, {\\left({\\left(\\frac{16875 \\, {\\left(24 \\, {\\left(\\frac{5 \\, {\\left(\\nu + 1\\right)}^{2}}{\\nu^{2}} - \\frac{\\nu + 1}{\\nu}\\right)} {\\left(\\frac{2 \\, {\\left(\\nu + 1\\right)}^{2}}{\\nu^{2}} - \\frac{\\nu + 1}{\\nu}\\right)} + 18 \\, {\\left(\\frac{4 \\, {\\left(\\nu + 1\\right)}^{2}}{\\nu^{2}} - \\frac{\\nu + 1}{\\nu}\\right)} {\\left(\\frac{2 \\, {\\left(\\nu + 1\\right)}^{2}}{\\nu^{2}} - \\frac{\\nu + 1}{\\nu}\\right)} + 12 \\, {\\left(\\frac{3 \\, {\\left(\\nu + 1\\right)}^{2}}{\\nu^{2}} - \\frac{\\nu + 1}{\\nu}\\right)} {\\left(\\frac{2 \\, {\\left(\\nu + 1\\right)}^{2}}{\\nu^{2}} - \\frac{\\nu + 1}{\\nu}\\right)} + 6 \\, {\\left(\\frac{2 \\, {\\left(\\nu + 1\\right)}^{2}}{\\nu^{2}} - \\frac{\\nu + 1}{\\nu}\\right)}^{2} + \\frac{4 \\, {\\left(\\nu + 1\\right)} {\\left(\\frac{9 \\, {\\left(\\nu + 1\\right)} {\\left(\\frac{4 \\, {\\left(\\nu + 1\\right)}^{2}}{\\nu^{2}} - \\frac{\\nu + 1}{\\nu}\\right)}}{\\nu} + \\frac{6 \\, {\\left(\\nu + 1\\right)} {\\left(\\frac{3 \\, {\\left(\\nu + 1\\right)}^{2}}{\\nu^{2}} - \\frac{\\nu + 1}{\\nu}\\right)}}{\\nu} + \\frac{33 \\, {\\left(\\nu + 1\\right)} {\\left(\\frac{2 \\, {\\left(\\nu + 1\\right)}^{2}}{\\nu^{2}} - \\frac{\\nu + 1}{\\nu}\\right)}}{\\nu} - \\frac{12 \\, {\\left(\\nu + 1\\right)}^{2}}{\\nu^{2}} + \\frac{4 \\, {\\left(\\nu^{2} - 1\\right)}}{\\nu^{2}}\\right)}}{\\nu} + \\frac{12 \\, {\\left(\\nu + 1\\right)} {\\left(\\frac{2 \\, {\\left(\\nu + 1\\right)} {\\left(\\frac{3 \\, {\\left(\\nu + 1\\right)}^{2}}{\\nu^{2}} - \\frac{\\nu + 1}{\\nu}\\right)}}{\\nu} + \\frac{7 \\, {\\left(\\nu + 1\\right)} {\\left(\\frac{2 \\, {\\left(\\nu + 1\\right)}^{2}}{\\nu^{2}} - \\frac{\\nu + 1}{\\nu}\\right)}}{\\nu} - \\frac{3 \\, {\\left(\\nu + 1\\right)}^{2}}{\\nu^{2}} + \\frac{\\nu^{2} - 1}{\\nu^{2}}\\right)}}{\\nu} + \\frac{8 \\, {\\left(\\nu + 1\\right)} {\\left(\\frac{6 \\, {\\left(\\nu + 1\\right)} {\\left(\\frac{2 \\, {\\left(\\nu + 1\\right)}^{2}}{\\nu^{2}} - \\frac{\\nu + 1}{\\nu}\\right)}}{\\nu} - \\frac{3 \\, {\\left(\\nu + 1\\right)}^{2}}{\\nu^{2}} + \\frac{\\nu^{2} - 1}{\\nu^{2}}\\right)}}{\\nu} + \\frac{64 \\, {\\left(\\nu + 1\\right)} {\\left(\\frac{3 \\, {\\left(\\nu + 1\\right)} {\\left(\\frac{2 \\, {\\left(\\nu + 1\\right)}^{2}}{\\nu^{2}} - \\frac{\\nu + 1}{\\nu}\\right)}}{\\nu} - \\frac{3 \\, {\\left(\\nu + 1\\right)}^{2}}{\\nu^{2}} + \\frac{\\nu^{2} - 1}{\\nu^{2}}\\right)}}{\\nu} - \\frac{30 \\, {\\left(\\nu + 1\\right)} {\\left(\\frac{2 \\, {\\left(\\nu + 1\\right)}^{2}}{\\nu^{2}} - \\frac{\\nu + 1}{\\nu}\\right)}}{\\nu} + \\frac{20 \\, {\\left(\\nu^{2} - 1\\right)} {\\left(\\nu + 1\\right)}}{\\nu^{3}} - \\frac{5 \\, {\\left(\\nu^{3} - 2 \\, \\nu^{2} - \\nu + 2\\right)}}{\\nu^{3}}\\right)} {\\left(5 \\, \\nu + 3\\right)}}{\\nu} + \\frac{5625 \\, {\\left(89 \\, \\nu^{2} + 120 \\, \\nu + 135\\right)} {\\left(\\frac{21 \\, {\\left(\\nu + 1\\right)} {\\left(\\frac{4 \\, {\\left(\\nu + 1\\right)}^{2}}{\\nu^{2}} - \\frac{\\nu + 1}{\\nu}\\right)}}{\\nu} + \\frac{6 \\, {\\left(\\nu + 1\\right)} {\\left(\\frac{3 \\, {\\left(\\nu + 1\\right)}^{2}}{\\nu^{2}} - \\frac{\\nu + 1}{\\nu}\\right)}}{\\nu} + \\frac{33 \\, {\\left(\\nu + 1\\right)} {\\left(\\frac{2 \\, {\\left(\\nu + 1\\right)}^{2}}{\\nu^{2}} - \\frac{\\nu + 1}{\\nu}\\right)}}{\\nu} - \\frac{12 \\, {\\left(\\nu + 1\\right)}^{2}}{\\nu^{2}} + \\frac{4 \\, {\\left(\\nu^{2} - 1\\right)}}{\\nu^{2}}\\right)}}{\\nu^{2}} + \\frac{4500 \\, {\\left(1253 \\, \\nu^{3} + 2970 \\, \\nu^{2} + 8100 \\, \\nu + 4725\\right)} {\\left(\\frac{6 \\, {\\left(\\nu + 1\\right)}^{2}}{\\nu^{2}} - \\frac{\\nu + 1}{\\nu}\\right)}}{\\nu^{3}} + \\frac{1800 \\, {\\left(5487 \\, \\nu^{4} + 22240 \\, \\nu^{3} + 81600 \\, \\nu^{2} + 108000 \\, \\nu + 50625\\right)} {\\left(\\nu + 1\\right)}}{\\nu^{5}} + \\frac{8 \\, {\\left(215957 \\, \\nu^{5} + 1349550 \\, \\nu^{4} + 6129000 \\, \\nu^{3} + 12150000 \\, \\nu^{2} + 12150000 \\, \\nu + 4708125\\right)}}{\\nu^{5}}\\right)} \\sigma^{2} - \\frac{9112500 \\, {\\left(\\nu + 1\\right)} {\\left(\\frac{6 \\, {\\left(\\nu + 1\\right)}^{2}}{\\nu^{2}} - \\frac{\\nu + 1}{\\nu}\\right)}}{\\nu} + \\frac{10631250 \\, {\\left(\\nu + 1\\right)} {\\left(\\frac{4 \\, {\\left(\\nu + 1\\right)}^{2}}{\\nu^{2}} - \\frac{\\nu + 1}{\\nu}\\right)}}{\\nu} + \\frac{3037500 \\, {\\left(\\nu + 1\\right)} {\\left(\\frac{3 \\, {\\left(\\nu + 1\\right)}^{2}}{\\nu^{2}} - \\frac{\\nu + 1}{\\nu}\\right)}}{\\nu} + \\frac{16706250 \\, {\\left(\\nu + 1\\right)} {\\left(\\frac{2 \\, {\\left(\\nu + 1\\right)}^{2}}{\\nu^{2}} - \\frac{\\nu + 1}{\\nu}\\right)}}{\\nu} - \\frac{6075000 \\, {\\left(\\nu + 1\\right)}^{2}}{\\nu^{2}} + \\frac{8100000 \\, {\\left(\\nu^{2} - 1\\right)} {\\left(\\nu + 1\\right)}}{\\nu^{3}} + \\frac{2025000 \\, {\\left(\\nu^{2} - 1\\right)}}{\\nu^{2}} - \\frac{506250 \\, {\\left(\\nu^{3} - 2 \\, \\nu^{2} - \\nu + 2\\right)}}{\\nu^{3}}\\right)} \\Lambda^{5} + \\frac{1}{54000} \\, {\\left(\\sigma^{2} {\\left(\\frac{375 \\, {\\left(5 \\, \\nu + 3\\right)} {\\left(\\frac{9 \\, {\\left(\\nu + 1\\right)} {\\left(\\frac{4 \\, {\\left(\\nu + 1\\right)}^{2}}{\\nu^{2}} - \\frac{\\nu + 1}{\\nu}\\right)}}{\\nu} + \\frac{6 \\, {\\left(\\nu + 1\\right)} {\\left(\\frac{3 \\, {\\left(\\nu + 1\\right)}^{2}}{\\nu^{2}} - \\frac{\\nu + 1}{\\nu}\\right)}}{\\nu} + \\frac{33 \\, {\\left(\\nu + 1\\right)} {\\left(\\frac{2 \\, {\\left(\\nu + 1\\right)}^{2}}{\\nu^{2}} - \\frac{\\nu + 1}{\\nu}\\right)}}{\\nu} - \\frac{12 \\, {\\left(\\nu + 1\\right)}^{2}}{\\nu^{2}} + \\frac{4 \\, {\\left(\\nu^{2} - 1\\right)}}{\\nu^{2}}\\right)}}{\\nu} + \\frac{300 \\, {\\left(89 \\, \\nu^{2} + 120 \\, \\nu + 135\\right)} {\\left(\\frac{5 \\, {\\left(\\nu + 1\\right)}^{2}}{\\nu^{2}} - \\frac{\\nu + 1}{\\nu}\\right)}}{\\nu^{2}} + \\frac{40 \\, {\\left(1253 \\, \\nu^{3} + 2970 \\, \\nu^{2} + 8100 \\, \\nu + 4725\\right)} {\\left(\\nu + 1\\right)}}{\\nu^{4}} + \\frac{2 \\, {\\left(5487 \\, \\nu^{4} + 22240 \\, \\nu^{3} + 81600 \\, \\nu^{2} + 108000 \\, \\nu + 50625\\right)}}{\\nu^{4}}\\right)} + \\frac{54000 \\, {\\left(\\nu + 1\\right)}^{2}}{\\nu^{2}} - \\frac{27000 \\, {\\left(\\nu + 1\\right)}}{\\nu} + \\frac{9000 \\, {\\left(\\nu^{2} - 1\\right)}}{\\nu^{2}}\\right)} \\Lambda^{4} + \\frac{1}{8100} \\, {\\left(\\sigma^{2} {\\left(\\frac{675 \\, {\\left(5 \\, \\nu + 3\\right)} {\\left(\\frac{4 \\, {\\left(\\nu + 1\\right)}^{2}}{\\nu^{2}} - \\frac{\\nu + 1}{\\nu}\\right)}}{\\nu} + \\frac{90 \\, {\\left(89 \\, \\nu^{2} + 120 \\, \\nu + 135\\right)} {\\left(\\nu + 1\\right)}}{\\nu^{3}} + \\frac{2 \\, {\\left(1253 \\, \\nu^{3} + 2970 \\, \\nu^{2} + 8100 \\, \\nu + 4725\\right)}}{\\nu^{3}}\\right)} + \\frac{4050 \\, {\\left(\\nu + 1\\right)}}{\\nu}\\right)} \\Lambda^{3} + \\frac{1}{180} \\, {\\left(\\sigma^{2} {\\left(\\frac{30 \\, {\\left(5 \\, \\nu + 3\\right)} {\\left(\\nu + 1\\right)}}{\\nu^{2}} + \\frac{89 \\, \\nu^{2} + 120 \\, \\nu + 135}{\\nu^{2}}\\right)} + 90\\right)} \\Lambda^{2} + \\frac{\\Lambda {\\left(5 \\, \\nu + 3\\right)} \\sigma^{2}}{6 \\, \\nu}\\)</html>"
      ],
      "text/latex": [
       "$\\displaystyle \\verb|φ(Λ)|\\verb| |\\verb|=| \\frac{1}{12150000} \\, {\\left({\\left(\\frac{16875 \\, {\\left(24 \\, {\\left(\\frac{5 \\, {\\left(\\nu + 1\\right)}^{2}}{\\nu^{2}} - \\frac{\\nu + 1}{\\nu}\\right)} {\\left(\\frac{2 \\, {\\left(\\nu + 1\\right)}^{2}}{\\nu^{2}} - \\frac{\\nu + 1}{\\nu}\\right)} + 18 \\, {\\left(\\frac{4 \\, {\\left(\\nu + 1\\right)}^{2}}{\\nu^{2}} - \\frac{\\nu + 1}{\\nu}\\right)} {\\left(\\frac{2 \\, {\\left(\\nu + 1\\right)}^{2}}{\\nu^{2}} - \\frac{\\nu + 1}{\\nu}\\right)} + 12 \\, {\\left(\\frac{3 \\, {\\left(\\nu + 1\\right)}^{2}}{\\nu^{2}} - \\frac{\\nu + 1}{\\nu}\\right)} {\\left(\\frac{2 \\, {\\left(\\nu + 1\\right)}^{2}}{\\nu^{2}} - \\frac{\\nu + 1}{\\nu}\\right)} + 6 \\, {\\left(\\frac{2 \\, {\\left(\\nu + 1\\right)}^{2}}{\\nu^{2}} - \\frac{\\nu + 1}{\\nu}\\right)}^{2} + \\frac{4 \\, {\\left(\\nu + 1\\right)} {\\left(\\frac{9 \\, {\\left(\\nu + 1\\right)} {\\left(\\frac{4 \\, {\\left(\\nu + 1\\right)}^{2}}{\\nu^{2}} - \\frac{\\nu + 1}{\\nu}\\right)}}{\\nu} + \\frac{6 \\, {\\left(\\nu + 1\\right)} {\\left(\\frac{3 \\, {\\left(\\nu + 1\\right)}^{2}}{\\nu^{2}} - \\frac{\\nu + 1}{\\nu}\\right)}}{\\nu} + \\frac{33 \\, {\\left(\\nu + 1\\right)} {\\left(\\frac{2 \\, {\\left(\\nu + 1\\right)}^{2}}{\\nu^{2}} - \\frac{\\nu + 1}{\\nu}\\right)}}{\\nu} - \\frac{12 \\, {\\left(\\nu + 1\\right)}^{2}}{\\nu^{2}} + \\frac{4 \\, {\\left(\\nu^{2} - 1\\right)}}{\\nu^{2}}\\right)}}{\\nu} + \\frac{12 \\, {\\left(\\nu + 1\\right)} {\\left(\\frac{2 \\, {\\left(\\nu + 1\\right)} {\\left(\\frac{3 \\, {\\left(\\nu + 1\\right)}^{2}}{\\nu^{2}} - \\frac{\\nu + 1}{\\nu}\\right)}}{\\nu} + \\frac{7 \\, {\\left(\\nu + 1\\right)} {\\left(\\frac{2 \\, {\\left(\\nu + 1\\right)}^{2}}{\\nu^{2}} - \\frac{\\nu + 1}{\\nu}\\right)}}{\\nu} - \\frac{3 \\, {\\left(\\nu + 1\\right)}^{2}}{\\nu^{2}} + \\frac{\\nu^{2} - 1}{\\nu^{2}}\\right)}}{\\nu} + \\frac{8 \\, {\\left(\\nu + 1\\right)} {\\left(\\frac{6 \\, {\\left(\\nu + 1\\right)} {\\left(\\frac{2 \\, {\\left(\\nu + 1\\right)}^{2}}{\\nu^{2}} - \\frac{\\nu + 1}{\\nu}\\right)}}{\\nu} - \\frac{3 \\, {\\left(\\nu + 1\\right)}^{2}}{\\nu^{2}} + \\frac{\\nu^{2} - 1}{\\nu^{2}}\\right)}}{\\nu} + \\frac{64 \\, {\\left(\\nu + 1\\right)} {\\left(\\frac{3 \\, {\\left(\\nu + 1\\right)} {\\left(\\frac{2 \\, {\\left(\\nu + 1\\right)}^{2}}{\\nu^{2}} - \\frac{\\nu + 1}{\\nu}\\right)}}{\\nu} - \\frac{3 \\, {\\left(\\nu + 1\\right)}^{2}}{\\nu^{2}} + \\frac{\\nu^{2} - 1}{\\nu^{2}}\\right)}}{\\nu} - \\frac{30 \\, {\\left(\\nu + 1\\right)} {\\left(\\frac{2 \\, {\\left(\\nu + 1\\right)}^{2}}{\\nu^{2}} - \\frac{\\nu + 1}{\\nu}\\right)}}{\\nu} + \\frac{20 \\, {\\left(\\nu^{2} - 1\\right)} {\\left(\\nu + 1\\right)}}{\\nu^{3}} - \\frac{5 \\, {\\left(\\nu^{3} - 2 \\, \\nu^{2} - \\nu + 2\\right)}}{\\nu^{3}}\\right)} {\\left(5 \\, \\nu + 3\\right)}}{\\nu} + \\frac{5625 \\, {\\left(89 \\, \\nu^{2} + 120 \\, \\nu + 135\\right)} {\\left(\\frac{21 \\, {\\left(\\nu + 1\\right)} {\\left(\\frac{4 \\, {\\left(\\nu + 1\\right)}^{2}}{\\nu^{2}} - \\frac{\\nu + 1}{\\nu}\\right)}}{\\nu} + \\frac{6 \\, {\\left(\\nu + 1\\right)} {\\left(\\frac{3 \\, {\\left(\\nu + 1\\right)}^{2}}{\\nu^{2}} - \\frac{\\nu + 1}{\\nu}\\right)}}{\\nu} + \\frac{33 \\, {\\left(\\nu + 1\\right)} {\\left(\\frac{2 \\, {\\left(\\nu + 1\\right)}^{2}}{\\nu^{2}} - \\frac{\\nu + 1}{\\nu}\\right)}}{\\nu} - \\frac{12 \\, {\\left(\\nu + 1\\right)}^{2}}{\\nu^{2}} + \\frac{4 \\, {\\left(\\nu^{2} - 1\\right)}}{\\nu^{2}}\\right)}}{\\nu^{2}} + \\frac{4500 \\, {\\left(1253 \\, \\nu^{3} + 2970 \\, \\nu^{2} + 8100 \\, \\nu + 4725\\right)} {\\left(\\frac{6 \\, {\\left(\\nu + 1\\right)}^{2}}{\\nu^{2}} - \\frac{\\nu + 1}{\\nu}\\right)}}{\\nu^{3}} + \\frac{1800 \\, {\\left(5487 \\, \\nu^{4} + 22240 \\, \\nu^{3} + 81600 \\, \\nu^{2} + 108000 \\, \\nu + 50625\\right)} {\\left(\\nu + 1\\right)}}{\\nu^{5}} + \\frac{8 \\, {\\left(215957 \\, \\nu^{5} + 1349550 \\, \\nu^{4} + 6129000 \\, \\nu^{3} + 12150000 \\, \\nu^{2} + 12150000 \\, \\nu + 4708125\\right)}}{\\nu^{5}}\\right)} \\sigma^{2} - \\frac{9112500 \\, {\\left(\\nu + 1\\right)} {\\left(\\frac{6 \\, {\\left(\\nu + 1\\right)}^{2}}{\\nu^{2}} - \\frac{\\nu + 1}{\\nu}\\right)}}{\\nu} + \\frac{10631250 \\, {\\left(\\nu + 1\\right)} {\\left(\\frac{4 \\, {\\left(\\nu + 1\\right)}^{2}}{\\nu^{2}} - \\frac{\\nu + 1}{\\nu}\\right)}}{\\nu} + \\frac{3037500 \\, {\\left(\\nu + 1\\right)} {\\left(\\frac{3 \\, {\\left(\\nu + 1\\right)}^{2}}{\\nu^{2}} - \\frac{\\nu + 1}{\\nu}\\right)}}{\\nu} + \\frac{16706250 \\, {\\left(\\nu + 1\\right)} {\\left(\\frac{2 \\, {\\left(\\nu + 1\\right)}^{2}}{\\nu^{2}} - \\frac{\\nu + 1}{\\nu}\\right)}}{\\nu} - \\frac{6075000 \\, {\\left(\\nu + 1\\right)}^{2}}{\\nu^{2}} + \\frac{8100000 \\, {\\left(\\nu^{2} - 1\\right)} {\\left(\\nu + 1\\right)}}{\\nu^{3}} + \\frac{2025000 \\, {\\left(\\nu^{2} - 1\\right)}}{\\nu^{2}} - \\frac{506250 \\, {\\left(\\nu^{3} - 2 \\, \\nu^{2} - \\nu + 2\\right)}}{\\nu^{3}}\\right)} \\Lambda^{5} + \\frac{1}{54000} \\, {\\left(\\sigma^{2} {\\left(\\frac{375 \\, {\\left(5 \\, \\nu + 3\\right)} {\\left(\\frac{9 \\, {\\left(\\nu + 1\\right)} {\\left(\\frac{4 \\, {\\left(\\nu + 1\\right)}^{2}}{\\nu^{2}} - \\frac{\\nu + 1}{\\nu}\\right)}}{\\nu} + \\frac{6 \\, {\\left(\\nu + 1\\right)} {\\left(\\frac{3 \\, {\\left(\\nu + 1\\right)}^{2}}{\\nu^{2}} - \\frac{\\nu + 1}{\\nu}\\right)}}{\\nu} + \\frac{33 \\, {\\left(\\nu + 1\\right)} {\\left(\\frac{2 \\, {\\left(\\nu + 1\\right)}^{2}}{\\nu^{2}} - \\frac{\\nu + 1}{\\nu}\\right)}}{\\nu} - \\frac{12 \\, {\\left(\\nu + 1\\right)}^{2}}{\\nu^{2}} + \\frac{4 \\, {\\left(\\nu^{2} - 1\\right)}}{\\nu^{2}}\\right)}}{\\nu} + \\frac{300 \\, {\\left(89 \\, \\nu^{2} + 120 \\, \\nu + 135\\right)} {\\left(\\frac{5 \\, {\\left(\\nu + 1\\right)}^{2}}{\\nu^{2}} - \\frac{\\nu + 1}{\\nu}\\right)}}{\\nu^{2}} + \\frac{40 \\, {\\left(1253 \\, \\nu^{3} + 2970 \\, \\nu^{2} + 8100 \\, \\nu + 4725\\right)} {\\left(\\nu + 1\\right)}}{\\nu^{4}} + \\frac{2 \\, {\\left(5487 \\, \\nu^{4} + 22240 \\, \\nu^{3} + 81600 \\, \\nu^{2} + 108000 \\, \\nu + 50625\\right)}}{\\nu^{4}}\\right)} + \\frac{54000 \\, {\\left(\\nu + 1\\right)}^{2}}{\\nu^{2}} - \\frac{27000 \\, {\\left(\\nu + 1\\right)}}{\\nu} + \\frac{9000 \\, {\\left(\\nu^{2} - 1\\right)}}{\\nu^{2}}\\right)} \\Lambda^{4} + \\frac{1}{8100} \\, {\\left(\\sigma^{2} {\\left(\\frac{675 \\, {\\left(5 \\, \\nu + 3\\right)} {\\left(\\frac{4 \\, {\\left(\\nu + 1\\right)}^{2}}{\\nu^{2}} - \\frac{\\nu + 1}{\\nu}\\right)}}{\\nu} + \\frac{90 \\, {\\left(89 \\, \\nu^{2} + 120 \\, \\nu + 135\\right)} {\\left(\\nu + 1\\right)}}{\\nu^{3}} + \\frac{2 \\, {\\left(1253 \\, \\nu^{3} + 2970 \\, \\nu^{2} + 8100 \\, \\nu + 4725\\right)}}{\\nu^{3}}\\right)} + \\frac{4050 \\, {\\left(\\nu + 1\\right)}}{\\nu}\\right)} \\Lambda^{3} + \\frac{1}{180} \\, {\\left(\\sigma^{2} {\\left(\\frac{30 \\, {\\left(5 \\, \\nu + 3\\right)} {\\left(\\nu + 1\\right)}}{\\nu^{2}} + \\frac{89 \\, \\nu^{2} + 120 \\, \\nu + 135}{\\nu^{2}}\\right)} + 90\\right)} \\Lambda^{2} + \\frac{\\Lambda {\\left(5 \\, \\nu + 3\\right)} \\sigma^{2}}{6 \\, \\nu}$"
      ],
      "text/plain": [
       "'φ(Λ) =' 1/12150000*((16875*(24*(5*(nu + 1)^2/nu^2 - (nu + 1)/nu)*(2*(nu + 1)^2/nu^2 - (nu + 1)/nu) + 18*(4*(nu + 1)^2/nu^2 - (nu + 1)/nu)*(2*(nu + 1)^2/nu^2 - (nu + 1)/nu) + 12*(3*(nu + 1)^2/nu^2 - (nu + 1)/nu)*(2*(nu + 1)^2/nu^2 - (nu + 1)/nu) + 6*(2*(nu + 1)^2/nu^2 - (nu + 1)/nu)^2 + 4*(nu + 1)*(9*(nu + 1)*(4*(nu + 1)^2/nu^2 - (nu + 1)/nu)/nu + 6*(nu + 1)*(3*(nu + 1)^2/nu^2 - (nu + 1)/nu)/nu + 33*(nu + 1)*(2*(nu + 1)^2/nu^2 - (nu + 1)/nu)/nu - 12*(nu + 1)^2/nu^2 + 4*(nu^2 - 1)/nu^2)/nu + 12*(nu + 1)*(2*(nu + 1)*(3*(nu + 1)^2/nu^2 - (nu + 1)/nu)/nu + 7*(nu + 1)*(2*(nu + 1)^2/nu^2 - (nu + 1)/nu)/nu - 3*(nu + 1)^2/nu^2 + (nu^2 - 1)/nu^2)/nu + 8*(nu + 1)*(6*(nu + 1)*(2*(nu + 1)^2/nu^2 - (nu + 1)/nu)/nu - 3*(nu + 1)^2/nu^2 + (nu^2 - 1)/nu^2)/nu + 64*(nu + 1)*(3*(nu + 1)*(2*(nu + 1)^2/nu^2 - (nu + 1)/nu)/nu - 3*(nu + 1)^2/nu^2 + (nu^2 - 1)/nu^2)/nu - 30*(nu + 1)*(2*(nu + 1)^2/nu^2 - (nu + 1)/nu)/nu + 20*(nu^2 - 1)*(nu + 1)/nu^3 - 5*(nu^3 - 2*nu^2 - nu + 2)/nu^3)*(5*nu + 3)/nu + 5625*(89*nu^2 + 120*nu + 135)*(21*(nu + 1)*(4*(nu + 1)^2/nu^2 - (nu + 1)/nu)/nu + 6*(nu + 1)*(3*(nu + 1)^2/nu^2 - (nu + 1)/nu)/nu + 33*(nu + 1)*(2*(nu + 1)^2/nu^2 - (nu + 1)/nu)/nu - 12*(nu + 1)^2/nu^2 + 4*(nu^2 - 1)/nu^2)/nu^2 + 4500*(1253*nu^3 + 2970*nu^2 + 8100*nu + 4725)*(6*(nu + 1)^2/nu^2 - (nu + 1)/nu)/nu^3 + 1800*(5487*nu^4 + 22240*nu^3 + 81600*nu^2 + 108000*nu + 50625)*(nu + 1)/nu^5 + 8*(215957*nu^5 + 1349550*nu^4 + 6129000*nu^3 + 12150000*nu^2 + 12150000*nu + 4708125)/nu^5)*sigma^2 - 9112500*(nu + 1)*(6*(nu + 1)^2/nu^2 - (nu + 1)/nu)/nu + 10631250*(nu + 1)*(4*(nu + 1)^2/nu^2 - (nu + 1)/nu)/nu + 3037500*(nu + 1)*(3*(nu + 1)^2/nu^2 - (nu + 1)/nu)/nu + 16706250*(nu + 1)*(2*(nu + 1)^2/nu^2 - (nu + 1)/nu)/nu - 6075000*(nu + 1)^2/nu^2 + 8100000*(nu^2 - 1)*(nu + 1)/nu^3 + 2025000*(nu^2 - 1)/nu^2 - 506250*(nu^3 - 2*nu^2 - nu + 2)/nu^3)*Lambda^5 + 1/54000*(sigma^2*(375*(5*nu + 3)*(9*(nu + 1)*(4*(nu + 1)^2/nu^2 - (nu + 1)/nu)/nu + 6*(nu + 1)*(3*(nu + 1)^2/nu^2 - (nu + 1)/nu)/nu + 33*(nu + 1)*(2*(nu + 1)^2/nu^2 - (nu + 1)/nu)/nu - 12*(nu + 1)^2/nu^2 + 4*(nu^2 - 1)/nu^2)/nu + 300*(89*nu^2 + 120*nu + 135)*(5*(nu + 1)^2/nu^2 - (nu + 1)/nu)/nu^2 + 40*(1253*nu^3 + 2970*nu^2 + 8100*nu + 4725)*(nu + 1)/nu^4 + 2*(5487*nu^4 + 22240*nu^3 + 81600*nu^2 + 108000*nu + 50625)/nu^4) + 54000*(nu + 1)^2/nu^2 - 27000*(nu + 1)/nu + 9000*(nu^2 - 1)/nu^2)*Lambda^4 + 1/8100*(sigma^2*(675*(5*nu + 3)*(4*(nu + 1)^2/nu^2 - (nu + 1)/nu)/nu + 90*(89*nu^2 + 120*nu + 135)*(nu + 1)/nu^3 + 2*(1253*nu^3 + 2970*nu^2 + 8100*nu + 4725)/nu^3) + 4050*(nu + 1)/nu)*Lambda^3 + 1/180*(sigma^2*(30*(5*nu + 3)*(nu + 1)/nu^2 + (89*nu^2 + 120*nu + 135)/nu^2) + 90)*Lambda^2 + 1/6*Lambda*(5*nu + 3)*sigma^2/nu"
      ]
     },
     "metadata": {},
     "output_type": "display_data"
    }
   ],
   "source": [
    "driver_series_CGF(d=3, N=6, nu=var('nu'))              # keeps nu symbolic"
   ]
  },
  {
   "cell_type": "code",
   "execution_count": 11,
   "id": "af045d",
   "metadata": {
    "collapsed": false,
    "vscode": {
     "languageId": "python"
    }
   },
   "outputs": [],
   "source": [
    "# 3) Simplified density cumulants driver\n",
    "def driver_density_cumulants(d, N, nu=None):\n",
    "    \"\"\"\n",
    "    Compute κ_n^(δ) and κ_n^(ρ) as plain lists (symbolic).\n",
    "    \"\"\"\n",
    "    if nu is None:\n",
    "        nu = d\n",
    "    # get the raw phi series in τ\n",
    "    _, _, φ0_L, _, φ1_L, _, _ = series_build(d, N, nu)\n",
    "\n",
    "    # extract coefficients bₙ\n",
    "    Λ, τ, σ = var('Lambda','tau','sigma')\n",
    "    σ2 = σ^2\n",
    "\n",
    "    b0 = φ0_L.list()\n",
    "    b1 = φ1_L.list()\n",
    "    \n",
    "    b1_new = [SR(b1[i])*σ*σ for i in range(len(b1))]\n",
    "    #show(b1_new)\n",
    "    \n",
    "    coeffs_tot = [SR(b0[i]) + b1_new[i] for i in range(len(b0))]\n",
    "    #show(coeffs_tot)\n",
    "\n",
    "    # 2) density mean μ = 1 + σ²  ⇒  density cumulants κₙ^(ρ) = μⁿ · κₙ^(δ)\n",
    "    kappa_rho = {}\n",
    "    kappa_rho[1] = coeffs_tot[1] + 1\n",
    "    for n in range(2,N):\n",
    "        kappa_rho[n] = coeffs_tot[n]\n",
    "    #show(kappa_rho)\n",
    "\n",
    "    k_rho = {}\n",
    "    for n in range(1, N):\n",
    "    # multiply out and truncate at O(σ²)\n",
    "        expr = kappa_rho[n] / kappa_rho[1]**n *factorial(n)\n",
    "        k_rho[n] = expr.series(σ, 4)\n",
    "        #show(f\"κ_{n}^(ρ) =\", kappa_rho[n])\n",
    "    #show(k_rho)\n",
    "    # 3) (Optional) reduced cumulants Sₙ = κₙ^(ρ) / [κ₂^(ρ)]^(n−1)\n",
    "    S = {}\n",
    "    for n in range(3, N):\n",
    "        S[n] = (k_rho[n] / (k_rho[2]**(n-1))).series(σ,4)\n",
    "        show(f\"S_{n} = \", S[n])"
   ]
  },
  {
   "cell_type": "code",
   "execution_count": 12,
   "metadata": {
    "vscode": {
     "languageId": "python"
    }
   },
   "outputs": [
    {
     "data": {
      "text/html": [
       "<html>\\(\\displaystyle \\verb|S_3|\\verb| |\\verb|=| 4 + \\frac{1106}{225} \\sigma^{2} + \\mathcal{O}\\left(\\sigma^{4}\\right)\\)</html>"
      ],
      "text/latex": [
       "$\\displaystyle \\verb|S_3|\\verb| |\\verb|=| 4 + \\frac{1106}{225} \\sigma^{2} + \\mathcal{O}\\left(\\sigma^{4}\\right)$"
      ],
      "text/plain": [
       "'S_3 = ' 4 + 1106/225*sigma^2 + Order(sigma^4)"
      ]
     },
     "metadata": {},
     "output_type": "display_data"
    },
    {
     "data": {
      "text/html": [
       "<html>\\(\\displaystyle \\verb|S_4|\\verb| |\\verb|=| \\frac{272}{9} + \\frac{115072}{1125} \\sigma^{2} + \\mathcal{O}\\left(\\sigma^{4}\\right)\\)</html>"
      ],
      "text/latex": [
       "$\\displaystyle \\verb|S_4|\\verb| |\\verb|=| \\frac{272}{9} + \\frac{115072}{1125} \\sigma^{2} + \\mathcal{O}\\left(\\sigma^{4}\\right)$"
      ],
      "text/plain": [
       "'S_4 = ' 272/9 + 115072/1125*sigma^2 + Order(sigma^4)"
      ]
     },
     "metadata": {},
     "output_type": "display_data"
    },
    {
     "data": {
      "text/html": [
       "<html>\\(\\displaystyle \\verb|S_5|\\verb| |\\verb|=| \\frac{3080}{9} + \\frac{36484376}{16875} \\sigma^{2} + \\mathcal{O}\\left(\\sigma^{4}\\right)\\)</html>"
      ],
      "text/latex": [
       "$\\displaystyle \\verb|S_5|\\verb| |\\verb|=| \\frac{3080}{9} + \\frac{36484376}{16875} \\sigma^{2} + \\mathcal{O}\\left(\\sigma^{4}\\right)$"
      ],
      "text/plain": [
       "'S_5 = ' 3080/9 + 36484376/16875*sigma^2 + Order(sigma^4)"
      ]
     },
     "metadata": {},
     "output_type": "display_data"
    },
    {
     "data": {
      "text/html": [
       "<html>\\(\\displaystyle \\verb|S_6|\\verb| |\\verb|=| 5200 + \\frac{2615385152}{50625} \\sigma^{2} + \\mathcal{O}\\left(\\sigma^{4}\\right)\\)</html>"
      ],
      "text/latex": [
       "$\\displaystyle \\verb|S_6|\\verb| |\\verb|=| 5200 + \\frac{2615385152}{50625} \\sigma^{2} + \\mathcal{O}\\left(\\sigma^{4}\\right)$"
      ],
      "text/plain": [
       "'S_6 = ' 5200 + 2615385152/50625*sigma^2 + Order(sigma^4)"
      ]
     },
     "metadata": {},
     "output_type": "display_data"
    }
   ],
   "source": [
    "driver_density_cumulants(d=3, N=7)"
   ]
  },
  {
   "cell_type": "code",
   "execution_count": 13,
   "metadata": {
    "vscode": {
     "languageId": "python"
    }
   },
   "outputs": [
    {
     "data": {
      "text/html": [
       "<html>\\(\\displaystyle \\verb|S_3|\\verb| |\\verb|=| {(\\frac{3}{\\nu} + 3)} + {(-\\frac{1}{15} \\, {\\left(\\frac{270}{\\nu} + \\frac{225}{\\nu^{2}} + 89\\right)} {\\left(\\frac{1}{\\nu} + 1\\right)} + \\frac{85}{3 \\, \\nu} + \\frac{45}{\\nu^{2}} + \\frac{22}{\\nu^{3}} + \\frac{5258}{675})} \\sigma^{2} + \\mathcal{O}\\left(\\sigma^{4}\\right)\\)</html>"
      ],
      "text/latex": [
       "$\\displaystyle \\verb|S_3|\\verb| |\\verb|=| {(\\frac{3}{\\nu} + 3)} + {(-\\frac{1}{15} \\, {\\left(\\frac{270}{\\nu} + \\frac{225}{\\nu^{2}} + 89\\right)} {\\left(\\frac{1}{\\nu} + 1\\right)} + \\frac{85}{3 \\, \\nu} + \\frac{45}{\\nu^{2}} + \\frac{22}{\\nu^{3}} + \\frac{5258}{675})} \\sigma^{2} + \\mathcal{O}\\left(\\sigma^{4}\\right)$"
      ],
      "text/plain": [
       "'S_3 = ' (3/nu + 3) + (-1/15*(270/nu + 225/nu^2 + 89)*(1/nu + 1) + 85/3/nu + 45/nu^2 + 22/nu^3 + 5258/675)*sigma^2 + Order(sigma^4)"
      ]
     },
     "metadata": {},
     "output_type": "display_data"
    },
    {
     "data": {
      "text/html": [
       "<html>\\(\\displaystyle \\verb|S_4|\\verb| |\\verb|=| {(\\frac{36}{\\nu} + \\frac{20}{\\nu^{2}} + 16)} + {(-\\frac{2}{15} \\, {\\left(\\frac{270}{\\nu} + \\frac{225}{\\nu^{2}} + 89\\right)} {\\left(\\frac{9}{\\nu} + \\frac{5}{\\nu^{2}} + 4\\right)} + \\frac{15554}{45 \\, \\nu} + \\frac{2318}{3 \\, \\nu^{2}} + \\frac{774}{\\nu^{3}} + \\frac{279}{\\nu^{4}} + \\frac{83947}{1125})} \\sigma^{2} + \\mathcal{O}\\left(\\sigma^{4}\\right)\\)</html>"
      ],
      "text/latex": [
       "$\\displaystyle \\verb|S_4|\\verb| |\\verb|=| {(\\frac{36}{\\nu} + \\frac{20}{\\nu^{2}} + 16)} + {(-\\frac{2}{15} \\, {\\left(\\frac{270}{\\nu} + \\frac{225}{\\nu^{2}} + 89\\right)} {\\left(\\frac{9}{\\nu} + \\frac{5}{\\nu^{2}} + 4\\right)} + \\frac{15554}{45 \\, \\nu} + \\frac{2318}{3 \\, \\nu^{2}} + \\frac{774}{\\nu^{3}} + \\frac{279}{\\nu^{4}} + \\frac{83947}{1125})} \\sigma^{2} + \\mathcal{O}\\left(\\sigma^{4}\\right)$"
      ],
      "text/plain": [
       "'S_4 = ' (36/nu + 20/nu^2 + 16) + (-2/15*(270/nu + 225/nu^2 + 89)*(9/nu + 5/nu^2 + 4) + 15554/45/nu + 2318/3/nu^2 + 774/nu^3 + 279/nu^4 + 83947/1125)*sigma^2 + Order(sigma^4)"
      ]
     },
     "metadata": {},
     "output_type": "display_data"
    },
    {
     "data": {
      "text/html": [
       "<html>\\(\\displaystyle \\verb|S_5|\\verb| |\\verb|=| {(\\frac{450}{\\nu} + \\frac{535}{\\nu^{2}} + \\frac{210}{\\nu^{3}} + 125)} + {(-\\frac{2}{9} \\, {\\left(\\frac{270}{\\nu} + \\frac{225}{\\nu^{2}} + 89\\right)} {\\left(\\frac{90}{\\nu} + \\frac{107}{\\nu^{2}} + \\frac{42}{\\nu^{3}} + 25\\right)} + \\frac{77282}{15 \\, \\nu} + \\frac{44048}{3 \\, \\nu^{2}} + \\frac{65650}{3 \\, \\nu^{3}} + \\frac{16120}{\\nu^{4}} + \\frac{4632}{\\nu^{5}} + \\frac{44929628}{50625})} \\sigma^{2} + \\mathcal{O}\\left(\\sigma^{4}\\right)\\)</html>"
      ],
      "text/latex": [
       "$\\displaystyle \\verb|S_5|\\verb| |\\verb|=| {(\\frac{450}{\\nu} + \\frac{535}{\\nu^{2}} + \\frac{210}{\\nu^{3}} + 125)} + {(-\\frac{2}{9} \\, {\\left(\\frac{270}{\\nu} + \\frac{225}{\\nu^{2}} + 89\\right)} {\\left(\\frac{90}{\\nu} + \\frac{107}{\\nu^{2}} + \\frac{42}{\\nu^{3}} + 25\\right)} + \\frac{77282}{15 \\, \\nu} + \\frac{44048}{3 \\, \\nu^{2}} + \\frac{65650}{3 \\, \\nu^{3}} + \\frac{16120}{\\nu^{4}} + \\frac{4632}{\\nu^{5}} + \\frac{44929628}{50625})} \\sigma^{2} + \\mathcal{O}\\left(\\sigma^{4}\\right)$"
      ],
      "text/plain": [
       "'S_5 = ' (450/nu + 535/nu^2 + 210/nu^3 + 125) + (-2/9*(270/nu + 225/nu^2 + 89)*(90/nu + 107/nu^2 + 42/nu^3 + 25) + 77282/15/nu + 44048/3/nu^2 + 65650/3/nu^3 + 16120/nu^4 + 4632/nu^5 + 44929628/50625)*sigma^2 + Order(sigma^4)"
      ]
     },
     "metadata": {},
     "output_type": "display_data"
    },
    {
     "data": {
      "text/html": [
       "<html>\\(\\displaystyle \\verb|S_6|\\verb| |\\verb|=| {(\\frac{6480}{\\nu} + \\frac{12060}{\\nu^{2}} + \\frac{9900}{\\nu^{3}} + \\frac{3024}{\\nu^{4}} + 1296)} + {(-2 \\, {\\left(\\frac{270}{\\nu} + \\frac{225}{\\nu^{2}} + 89\\right)} {\\left(\\frac{180}{\\nu} + \\frac{335}{\\nu^{2}} + \\frac{275}{\\nu^{3}} + \\frac{84}{\\nu^{4}} + 36\\right)} + \\frac{20321884}{225 \\, \\nu} + \\frac{4701142}{15 \\, \\nu^{2}} + \\frac{1841510}{3 \\, \\nu^{3}} + \\frac{680570}{\\nu^{4}} + \\frac{397650}{\\nu^{5}} + \\frac{95160}{\\nu^{6}} + \\frac{1938190556}{151875})} \\sigma^{2} + \\mathcal{O}\\left(\\sigma^{4}\\right)\\)</html>"
      ],
      "text/latex": [
       "$\\displaystyle \\verb|S_6|\\verb| |\\verb|=| {(\\frac{6480}{\\nu} + \\frac{12060}{\\nu^{2}} + \\frac{9900}{\\nu^{3}} + \\frac{3024}{\\nu^{4}} + 1296)} + {(-2 \\, {\\left(\\frac{270}{\\nu} + \\frac{225}{\\nu^{2}} + 89\\right)} {\\left(\\frac{180}{\\nu} + \\frac{335}{\\nu^{2}} + \\frac{275}{\\nu^{3}} + \\frac{84}{\\nu^{4}} + 36\\right)} + \\frac{20321884}{225 \\, \\nu} + \\frac{4701142}{15 \\, \\nu^{2}} + \\frac{1841510}{3 \\, \\nu^{3}} + \\frac{680570}{\\nu^{4}} + \\frac{397650}{\\nu^{5}} + \\frac{95160}{\\nu^{6}} + \\frac{1938190556}{151875})} \\sigma^{2} + \\mathcal{O}\\left(\\sigma^{4}\\right)$"
      ],
      "text/plain": [
       "'S_6 = ' (6480/nu + 12060/nu^2 + 9900/nu^3 + 3024/nu^4 + 1296) + (-2*(270/nu + 225/nu^2 + 89)*(180/nu + 335/nu^2 + 275/nu^3 + 84/nu^4 + 36) + 20321884/225/nu + 4701142/15/nu^2 + 1841510/3/nu^3 + 680570/nu^4 + 397650/nu^5 + 95160/nu^6 + 1938190556/151875)*sigma^2 + Order(sigma^4)"
      ]
     },
     "metadata": {},
     "output_type": "display_data"
    }
   ],
   "source": [
    "driver_density_cumulants(d=3, N=7,nu=var('nu'))"
   ]
  },
  {
   "cell_type": "code",
   "execution_count": 14,
   "metadata": {
    "vscode": {
     "languageId": "python"
    }
   },
   "outputs": [
    {
     "data": {
      "text/html": [
       "<html>\\(\\displaystyle \\verb|S_3|\\verb| |\\verb|=| \\frac{34}{7} + \\frac{17072}{1575} \\sigma^{2} + \\mathcal{O}\\left(\\sigma^{4}\\right)\\)</html>"
      ],
      "text/latex": [
       "$\\displaystyle \\verb|S_3|\\verb| |\\verb|=| \\frac{34}{7} + \\frac{17072}{1575} \\sigma^{2} + \\mathcal{O}\\left(\\sigma^{4}\\right)$"
      ],
      "text/plain": [
       "'S_3 = ' 34/7 + 17072/1575*sigma^2 + Order(sigma^4)"
      ]
     },
     "metadata": {},
     "output_type": "display_data"
    },
    {
     "data": {
      "text/html": [
       "<html>\\(\\displaystyle \\verb|S_4|\\verb| |\\verb|=| \\frac{20264}{441} + \\frac{769517072}{2701125} \\sigma^{2} + \\mathcal{O}\\left(\\sigma^{4}\\right)\\)</html>"
      ],
      "text/latex": [
       "$\\displaystyle \\verb|S_4|\\verb| |\\verb|=| \\frac{20264}{441} + \\frac{769517072}{2701125} \\sigma^{2} + \\mathcal{O}\\left(\\sigma^{4}\\right)$"
      ],
      "text/plain": [
       "'S_4 = ' 20264/441 + 769517072/2701125*sigma^2 + Order(sigma^4)"
      ]
     },
     "metadata": {},
     "output_type": "display_data"
    },
    {
     "data": {
      "text/html": [
       "<html>\\(\\displaystyle \\verb|S_5|\\verb| |\\verb|=| \\frac{41480}{63} + \\frac{2173888594432}{283618125} \\sigma^{2} + \\mathcal{O}\\left(\\sigma^{4}\\right)\\)</html>"
      ],
      "text/latex": [
       "$\\displaystyle \\verb|S_5|\\verb| |\\verb|=| \\frac{41480}{63} + \\frac{2173888594432}{283618125} \\sigma^{2} + \\mathcal{O}\\left(\\sigma^{4}\\right)$"
      ],
      "text/plain": [
       "'S_5 = ' 41480/63 + 2173888594432/283618125*sigma^2 + Order(sigma^4)"
      ]
     },
     "metadata": {},
     "output_type": "display_data"
    },
    {
     "data": {
      "text/html": [
       "<html>\\(\\displaystyle \\verb|S_6|\\verb| |\\verb|=| \\frac{4363560}{343} + \\frac{1392987348537248}{5955980625} \\sigma^{2} + \\mathcal{O}\\left(\\sigma^{4}\\right)\\)</html>"
      ],
      "text/latex": [
       "$\\displaystyle \\verb|S_6|\\verb| |\\verb|=| \\frac{4363560}{343} + \\frac{1392987348537248}{5955980625} \\sigma^{2} + \\mathcal{O}\\left(\\sigma^{4}\\right)$"
      ],
      "text/plain": [
       "'S_6 = ' 4363560/343 + 1392987348537248/5955980625*sigma^2 + Order(sigma^4)"
      ]
     },
     "metadata": {},
     "output_type": "display_data"
    }
   ],
   "source": [
    "driver_density_cumulants(d=3, N=7,nu=21/13)"
   ]
  },
  {
   "cell_type": "code",
   "execution_count": 15,
   "metadata": {
    "vscode": {
     "languageId": "python"
    }
   },
   "outputs": [],
   "source": [
    "def driver_one_loop_split(d,nu=None):\n",
    "    \"\"\"\n",
    "    Split the 1-loop CGF into isotropic & anisotropic pieces,\n",
    "    display them, and verify they sum back to the full correction.\n",
    "    \n",
    "    INPUTS:\n",
    "      - d               : dimension\n",
    "      - split_one_loop  : a function with signature\n",
    "            (d, delta_func) -> (F1_iso(τ), F1_aniso(τ))\n",
    "      - delta_func      : your density-contrast function Δ(d, τ)\n",
    "    \"\"\"\n",
    "    if nu is None:\n",
    "        nu = d\n",
    "    Λ, τ, σ = var('Lambda','tau','sigma')\n",
    "    σ2 = σ^2\n",
    "\n",
    "    # 1) get the two pieces\n",
    "    F1_iso, F1_aniso = split_one_loop(d, nu)\n",
    "\n",
    "    # 2) show each, multiplied by σ²\n",
    "    show(\"Isotropic one–loop F1_iso:\",   (σ2*F1_iso).factor())\n",
    "    show(\"Anisotropic one–loop F1_aniso:\",(σ2*F1_aniso).factor())\n",
    "\n",
    "    # 3) build their sum exactly as you had in CGF_Zel\n",
    "    combined = -1/2 * σ2 * log( (exp(-2*F1_iso - 2*F1_aniso)).factor() )\n",
    "    show(\"Sum F1_iso + F1_aniso =\", combined, \n",
    "         \"should equal\", (one_loop_correction(d, nu)*σ2).factor())\n",
    "\n",
    "    # return the three pieces for further programmatic use\n",
    "    #return σ2*F1_iso, σ2*F1_aniso, combined"
   ]
  },
  {
   "cell_type": "code",
   "execution_count": 16,
   "metadata": {
    "vscode": {
     "languageId": "python"
    }
   },
   "outputs": [
    {
     "data": {
      "text/html": [
       "<html>\\(\\displaystyle \\verb|Isotropic|\\verb| |\\verb|one–loop|\\verb| |\\verb|F1_iso:| -\\frac{1}{2} \\, \\sigma^{2} \\log\\left(\\frac{5 \\, \\tau - 1}{\\tau - 1}\\right)\\)</html>"
      ],
      "text/latex": [
       "$\\displaystyle \\verb|Isotropic|\\verb| |\\verb|one–loop|\\verb| |\\verb|F1_iso:| -\\frac{1}{2} \\, \\sigma^{2} \\log\\left(\\frac{5 \\, \\tau - 1}{\\tau - 1}\\right)$"
      ],
      "text/plain": [
       "'Isotropic one–loop F1_iso:' -1/2*sigma^2*log((5*tau - 1)/(tau - 1))"
      ]
     },
     "metadata": {},
     "output_type": "display_data"
    },
    {
     "data": {
      "text/html": [
       "<html>\\(\\displaystyle \\verb|Anisotropic|\\verb| |\\verb|one–loop|\\verb| |\\verb|F1_aniso:| -\\frac{5}{2} \\, \\sigma^{2} \\log\\left(\\frac{7 \\, \\tau - 5}{5 \\, {\\left(\\tau - 1\\right)}}\\right)\\)</html>"
      ],
      "text/latex": [
       "$\\displaystyle \\verb|Anisotropic|\\verb| |\\verb|one–loop|\\verb| |\\verb|F1_aniso:| -\\frac{5}{2} \\, \\sigma^{2} \\log\\left(\\frac{7 \\, \\tau - 5}{5 \\, {\\left(\\tau - 1\\right)}}\\right)$"
      ],
      "text/plain": [
       "'Anisotropic one–loop F1_aniso:' -5/2*sigma^2*log(1/5*(7*tau - 5)/(tau - 1))"
      ]
     },
     "metadata": {},
     "output_type": "display_data"
    },
    {
     "data": {
      "text/html": [
       "<html>\\(\\displaystyle \\verb|Sum|\\verb| |\\verb|F1_iso|\\verb| |\\verb|+|\\verb| |\\verb|F1_aniso|\\verb| |\\verb|=| -\\frac{1}{2} \\, \\sigma^{2} \\log\\left(\\frac{{\\left(7 \\, \\tau - 5\\right)}^{5} {\\left(5 \\, \\tau - 1\\right)}}{3125 \\, {\\left(\\tau - 1\\right)}^{6}}\\right) \\verb|should|\\verb| |\\verb|equal| -\\frac{1}{2} \\, \\sigma^{2} \\log\\left(\\frac{{\\left(7 \\, \\tau - 5\\right)}^{5} {\\left(5 \\, \\tau - 1\\right)}}{3125 \\, {\\left(\\tau - 1\\right)}^{6}}\\right)\\)</html>"
      ],
      "text/latex": [
       "$\\displaystyle \\verb|Sum|\\verb| |\\verb|F1_iso|\\verb| |\\verb|+|\\verb| |\\verb|F1_aniso|\\verb| |\\verb|=| -\\frac{1}{2} \\, \\sigma^{2} \\log\\left(\\frac{{\\left(7 \\, \\tau - 5\\right)}^{5} {\\left(5 \\, \\tau - 1\\right)}}{3125 \\, {\\left(\\tau - 1\\right)}^{6}}\\right) \\verb|should|\\verb| |\\verb|equal| -\\frac{1}{2} \\, \\sigma^{2} \\log\\left(\\frac{{\\left(7 \\, \\tau - 5\\right)}^{5} {\\left(5 \\, \\tau - 1\\right)}}{3125 \\, {\\left(\\tau - 1\\right)}^{6}}\\right)$"
      ],
      "text/plain": [
       "'Sum F1_iso + F1_aniso =' -1/2*sigma^2*log(1/3125*(7*tau - 5)^5*(5*tau - 1)/(tau - 1)^6) 'should equal' -1/2*sigma^2*log(1/3125*(7*tau - 5)^5*(5*tau - 1)/(tau - 1)^6)"
      ]
     },
     "metadata": {},
     "output_type": "display_data"
    }
   ],
   "source": [
    "driver_one_loop_split(3)"
   ]
  },
  {
   "cell_type": "code",
   "execution_count": 17,
   "metadata": {
    "vscode": {
     "languageId": "python"
    }
   },
   "outputs": [
    {
     "data": {
      "text/html": [
       "<html>\\(\\displaystyle \\verb|Isotropic|\\verb| |\\verb|one–loop|\\verb| |\\verb|F1_iso:| -\\frac{1}{2} \\, \\sigma^{2} \\log\\left(-\\frac{3 \\, {\\left(\\nu + 2\\right)} \\tau - \\nu}{\\nu - 3 \\, \\tau}\\right)\\)</html>"
      ],
      "text/latex": [
       "$\\displaystyle \\verb|Isotropic|\\verb| |\\verb|one–loop|\\verb| |\\verb|F1_iso:| -\\frac{1}{2} \\, \\sigma^{2} \\log\\left(-\\frac{3 \\, {\\left(\\nu + 2\\right)} \\tau - \\nu}{\\nu - 3 \\, \\tau}\\right)$"
      ],
      "text/plain": [
       "'Isotropic one–loop F1_iso:' -1/2*sigma^2*log(-(3*(nu + 2)*tau - nu)/(nu - 3*tau))"
      ]
     },
     "metadata": {},
     "output_type": "display_data"
    },
    {
     "data": {
      "text/html": [
       "<html>\\(\\displaystyle \\verb|Anisotropic|\\verb| |\\verb|one–loop|\\verb| |\\verb|F1_aniso:| -\\frac{5}{2} \\, \\sigma^{2} \\log\\left(\\frac{{\\left(5 \\, \\nu + 6\\right)} \\tau^{2} - 12 \\, \\nu \\tau + 5 \\, \\nu}{5 \\, {\\left(\\tau^{2} - 2 \\, \\tau + 1\\right)} \\nu}\\right)\\)</html>"
      ],
      "text/latex": [
       "$\\displaystyle \\verb|Anisotropic|\\verb| |\\verb|one–loop|\\verb| |\\verb|F1_aniso:| -\\frac{5}{2} \\, \\sigma^{2} \\log\\left(\\frac{{\\left(5 \\, \\nu + 6\\right)} \\tau^{2} - 12 \\, \\nu \\tau + 5 \\, \\nu}{5 \\, {\\left(\\tau^{2} - 2 \\, \\tau + 1\\right)} \\nu}\\right)$"
      ],
      "text/plain": [
       "'Anisotropic one–loop F1_aniso:' -5/2*sigma^2*log(1/5*((5*nu + 6)*tau^2 - 12*nu*tau + 5*nu)/((tau^2 - 2*tau + 1)*nu))"
      ]
     },
     "metadata": {},
     "output_type": "display_data"
    },
    {
     "data": {
      "text/html": [
       "<html>\\(\\displaystyle \\verb|Sum|\\verb| |\\verb|F1_iso|\\verb| |\\verb|+|\\verb| |\\verb|F1_aniso|\\verb| |\\verb|=| -\\frac{1}{2} \\, \\sigma^{2} \\log\\left(-\\frac{{\\left(5 \\, \\nu \\tau^{2} - 12 \\, \\nu \\tau + 6 \\, \\tau^{2} + 5 \\, \\nu\\right)}^{5} {\\left(3 \\, \\nu \\tau - \\nu + 6 \\, \\tau\\right)}}{3125 \\, {\\left(\\nu - 3 \\, \\tau\\right)} \\nu^{5} {\\left(\\tau - 1\\right)}^{10}}\\right) \\verb|should|\\verb| |\\verb|equal| -\\frac{1}{2} \\, \\sigma^{2} \\log\\left(-\\frac{{\\left({\\left(5 \\, \\nu + 6\\right)} \\tau^{2} - 12 \\, \\nu \\tau + 5 \\, \\nu\\right)}^{5} {\\left(3 \\, {\\left(\\nu + 2\\right)} \\tau - \\nu\\right)}}{3125 \\, {\\left(\\nu - 3 \\, \\tau\\right)} \\nu^{5} {\\left(\\tau - 1\\right)}^{10}}\\right)\\)</html>"
      ],
      "text/latex": [
       "$\\displaystyle \\verb|Sum|\\verb| |\\verb|F1_iso|\\verb| |\\verb|+|\\verb| |\\verb|F1_aniso|\\verb| |\\verb|=| -\\frac{1}{2} \\, \\sigma^{2} \\log\\left(-\\frac{{\\left(5 \\, \\nu \\tau^{2} - 12 \\, \\nu \\tau + 6 \\, \\tau^{2} + 5 \\, \\nu\\right)}^{5} {\\left(3 \\, \\nu \\tau - \\nu + 6 \\, \\tau\\right)}}{3125 \\, {\\left(\\nu - 3 \\, \\tau\\right)} \\nu^{5} {\\left(\\tau - 1\\right)}^{10}}\\right) \\verb|should|\\verb| |\\verb|equal| -\\frac{1}{2} \\, \\sigma^{2} \\log\\left(-\\frac{{\\left({\\left(5 \\, \\nu + 6\\right)} \\tau^{2} - 12 \\, \\nu \\tau + 5 \\, \\nu\\right)}^{5} {\\left(3 \\, {\\left(\\nu + 2\\right)} \\tau - \\nu\\right)}}{3125 \\, {\\left(\\nu - 3 \\, \\tau\\right)} \\nu^{5} {\\left(\\tau - 1\\right)}^{10}}\\right)$"
      ],
      "text/plain": [
       "'Sum F1_iso + F1_aniso =' -1/2*sigma^2*log(-1/3125*(5*nu*tau^2 - 12*nu*tau + 6*tau^2 + 5*nu)^5*(3*nu*tau - nu + 6*tau)/((nu - 3*tau)*nu^5*(tau - 1)^10)) 'should equal' -1/2*sigma^2*log(-1/3125*((5*nu + 6)*tau^2 - 12*nu*tau + 5*nu)^5*(3*(nu + 2)*tau - nu)/((nu - 3*tau)*nu^5*(tau - 1)^10))"
      ]
     },
     "metadata": {},
     "output_type": "display_data"
    }
   ],
   "source": [
    "driver_one_loop_split(3,nu=var('nu'))"
   ]
  },
  {
   "cell_type": "code",
   "execution_count": 18,
   "metadata": {
    "vscode": {
     "languageId": "python"
    }
   },
   "outputs": [],
   "source": [
    "def compute_tau_critical(d, nu=None):\n",
    "    \"\"\"\n",
    "    Solve d/dτ [Λ(τ)] = 0 and return the largest real critical τ as a float.\n",
    "    Falls back to 0.25 if no real roots are found.\n",
    "    \"\"\"\n",
    "    if nu is None:\n",
    "        nu = d\n",
    "    tau, Lambda = var('tau','Lambda')\n",
    "    Λ_expr = Lambda_of_tau(d, nu).full_simplify()\n",
    "\n",
    "    # 1) solve for tau-critical\n",
    "    sol_eqs = solve(diff(Λ_expr, tau) == 0, tau)\n",
    "    # sol_eqs is like [tau == a, tau == b, tau == c, ...]\n",
    "\n",
    "    # 2) extract the right‐hand values\n",
    "    sol_vals = [ eq.rhs() for eq in sol_eqs ]\n",
    "\n",
    "    # 4) pick the one you want\n",
    "    return min(sol_vals)"
   ]
  },
  {
   "cell_type": "code",
   "execution_count": 19,
   "metadata": {
    "vscode": {
     "languageId": "python"
    }
   },
   "outputs": [
    {
     "data": {
      "text/html": [
       "<html>\\(\\displaystyle \\verb|τ_critical:| \\frac{1}{5}\\)</html>"
      ],
      "text/latex": [
       "$\\displaystyle \\verb|τ_critical:| \\frac{1}{5}$"
      ],
      "text/plain": [
       "'τ_critical:' 1/5"
      ]
     },
     "metadata": {},
     "output_type": "display_data"
    },
    {
     "data": {
      "text/html": [
       "<html>\\(\\displaystyle \\verb|τ_critical:| \\frac{1}{6} \\, {\\left(\\nu \\left(\\frac{\\nu - 3 \\, \\tau}{\\nu}\\right)^{\\nu - 1} + 2 \\, \\left(\\frac{\\nu - 3 \\, \\tau}{\\nu}\\right)^{\\nu} - \\sqrt{\\nu^{2} \\left(\\frac{\\nu - 3 \\, \\tau}{\\nu}\\right)^{2 \\, \\nu - 2} + 4 \\, \\left(\\frac{\\nu - 3 \\, \\tau}{\\nu}\\right)^{2 \\, \\nu}}\\right)} \\left(\\frac{\\nu - 3 \\, \\tau}{\\nu}\\right)^{-\\nu + 1}\\)</html>"
      ],
      "text/latex": [
       "$\\displaystyle \\verb|τ_critical:| \\frac{1}{6} \\, {\\left(\\nu \\left(\\frac{\\nu - 3 \\, \\tau}{\\nu}\\right)^{\\nu - 1} + 2 \\, \\left(\\frac{\\nu - 3 \\, \\tau}{\\nu}\\right)^{\\nu} - \\sqrt{\\nu^{2} \\left(\\frac{\\nu - 3 \\, \\tau}{\\nu}\\right)^{2 \\, \\nu - 2} + 4 \\, \\left(\\frac{\\nu - 3 \\, \\tau}{\\nu}\\right)^{2 \\, \\nu}}\\right)} \\left(\\frac{\\nu - 3 \\, \\tau}{\\nu}\\right)^{-\\nu + 1}$"
      ],
      "text/plain": [
       "'τ_critical:' 1/6*(nu*((nu - 3*tau)/nu)^(nu - 1) + 2*((nu - 3*tau)/nu)^nu - sqrt(nu^2*((nu - 3*tau)/nu)^(2*nu - 2) + 4*((nu - 3*tau)/nu)^(2*nu)))*((nu - 3*tau)/nu)^(-nu + 1)"
      ]
     },
     "metadata": {},
     "output_type": "display_data"
    }
   ],
   "source": [
    "show('τ_critical:', compute_tau_critical(d=3))\n",
    "show('τ_critical:',compute_tau_critical(d=3, nu=var('nu')))"
   ]
  },
  {
   "cell_type": "code",
   "execution_count": 20,
   "metadata": {
    "vscode": {
     "languageId": "python"
    }
   },
   "outputs": [
    {
     "data": {
      "application/vnd.jupyter.widget-view+json": {
       "model_id": "736936dddf46438e94f51bd08f38fcb5",
       "version_major": 2,
       "version_minor": 0
      },
      "text/plain": [
       "Interactive function <function driver_plot_CGF_interactive at 0x7ecc02b5ac00> with 3 widgets\n",
       "  d: Dropdown(description='dim d', index=1, options=(2, 3), value=3)\n",
       "  sigma2: FloatSlider(value=0.2, description='σ²', max=1.0, step=0.05)\n",
       "  nu: FloatSlider(value=3.0, description='ν', max=10.0, min=1.0)"
      ]
     },
     "metadata": {},
     "output_type": "display_data"
    }
   ],
   "source": [
    "import ipywidgets as widgets\n",
    "# ──────────────────────────────────────────────────────────────────────────────\n",
    "# 2′) Stable‐axes plotting driver with interactive nu slider\n",
    "# ──────────────────────────────────────────────────────────────────────────────\n",
    "@interact\n",
    "def driver_plot_CGF_interactive(\n",
    "    d=widgets.Dropdown(options=[2,3], value=3, description='dim d'),\n",
    "    sigma2=widgets.FloatSlider(min=0.0, max=1.0, step=0.05, value=0.2, description='σ²'),\n",
    "    nu=widgets.FloatSlider(min=1.0, max=10.0, step=0.1, value=3.0, description='ν'),\n",
    "    #tau_min=widgets.FloatSlider(min=-1.5, max=0.0, step=0.1, value=-0.9, description='τₘᵢₙ'),\n",
    "    #pts=widgets.IntSlider(min=100, max=1000, step=100, value=400, description='pts')\n",
    "):\n",
    "    \"\"\"\n",
    "    Interactive CGF plot with sliders for:\n",
    "      • d      : dimension (2 or 3)\n",
    "      • σ²     : variance parameter\n",
    "      • ν      : ellipticity exponent (ν=3 recovers Zel’dovich)\n",
    "      • τₘᵢₙ   : lower bound for τ\n",
    "      • pts    : number of sample points\n",
    "    \"\"\"\n",
    "    tau_min = -1.5\n",
    "    pts    = 400\n",
    "    # 1) find tau_cr as pure Python float\n",
    "    tau_cr_sym = compute_tau_critical(d, nu)\n",
    "    tau_cr     = float(tau_cr_sym)\n",
    "\n",
    "    # 2) define symbols\n",
    "    tau, Lambda = var('tau','Lambda')\n",
    "\n",
    "    # 3) core expressions\n",
    "    Λ_of_tau    = Lambda_of_tau(d, nu).full_simplify()\n",
    "    phi_LO_tau  = CGF_LO(d, nu) + Λ_of_tau\n",
    "    F1_tau      = one_loop_correction(d, nu)\n",
    "    phi_NLO_tau = sigma2 * F1_tau\n",
    "\n",
    "    # 4) iso/aniso split\n",
    "    F1_iso, F1_aniso = split_one_loop(d, nu)\n",
    "    phi_iso_tau   = sigma2 * F1_iso\n",
    "    phi_aniso_tau = sigma2 * F1_aniso\n",
    "\n",
    "    # 5) build the five curves\n",
    "    curves = []\n",
    "    labels = ['LO: $\\\\phi_0$', 'NLO: $\\\\phi_1$', 'iso part', 'aniso part', 'iso+aniso']\n",
    "    style = [\n",
    "      {'thickness':3,'color':'black'},\n",
    "      {'thickness':2,'linestyle':'-','color':'red'},\n",
    "      {'linestyle':'--','thickness':2,'color':'orange'},\n",
    "      {'linestyle':'--','thickness':2,'color':'blue'},\n",
    "      {'linestyle':':','thickness':2,'color':'green'}\n",
    "    ]\n",
    "    funcs = [phi_LO_tau, phi_NLO_tau, phi_iso_tau, phi_aniso_tau, phi_iso_tau+phi_aniso_tau]\n",
    "\n",
    "    for label, sty, f in zip(labels, style, funcs):\n",
    "        p = parametric_plot(\n",
    "            (Λ_of_tau, f),\n",
    "            (tau, tau_min, tau_cr),\n",
    "            plot_points=pts,\n",
    "            legend_label=label,\n",
    "            **sty\n",
    "        )\n",
    "        curves.append(p)\n",
    "\n",
    "    G = sum(curves)\n",
    "    G.set_axes_range(-1, 0.4, -0.5, 0.5)\n",
    "    G.axes_labels([r'$\\Lambda$', r'$\\phi_\\rho(\\Lambda)$'])\n",
    "    G.legend()\n",
    "\n",
    "    # 7) show the plot\n",
    "    show(\n",
    "        G,\n",
    "        figsize=[9,6],\n",
    "        title=f\"CGF (d={d}, σ²={sigma2:.2f}, ν={nu:.1f})\",\n",
    "        gridlines=True\n",
    "    )\n"
   ]
  },
  {
   "cell_type": "markdown",
   "metadata": {},
   "source": [
    "# Inverse Laplace Transform: PDF via Bromwich Integral\n",
    "\n",
    "Implement raw Bromwich and once-integrated-by-parts formulas to compute the PDF $P(\\delta)$ from the cumulant-generating function $\\phi(\\Lambda)$."
   ]
  },
  {
   "cell_type": "code",
   "execution_count": 28,
   "metadata": {
    "vscode": {
     "languageId": "python"
    }
   },
   "outputs": [
    {
     "name": "stdout",
     "output_type": "stream",
     "text": [
      "delta=-1.00  P(raw)=-inf  P(1×PI)=inf\n",
      "delta=-0.50  P(raw)=-inf  P(1×PI)=inf\n",
      "delta= 0.00  P(raw)=-inf  P(1×PI)=-inf\n",
      "delta= 0.50  P(raw)=-inf  P(1×PI)=-inf\n",
      "delta= 1.00  P(raw)=-inf  P(1×PI)=-inf\n"
     ]
    }
   ],
   "source": [
    "import mpmath as mp\n",
    "from sage.all import var, diff, fast_callable\n",
    "# Build numeric callables from symbolic CGF\n",
    "Λ = var('Lambda')\n",
    "d=2\n",
    "nu = d  # Set nu to d for Zeldovich model\n",
    "sigma_val = 0.2  # Set a numeric value for sigma\n",
    "\n",
    "# Get the series expansion in Lambda instead of the tau expression\n",
    "_, _, _, _, _, _, phi_L_total = series_build(d, N=10, nu=nu)\n",
    "# Substitute the numeric value for sigma\n",
    "phi_sym = phi_L_total.subs(sigma=sigma_val)\n",
    "dphi_sym = diff(phi_sym, Λ)\n",
    "\n",
    "# Create numeric functions using Python's complex numbers\n",
    "phi = fast_callable(phi_sym, vars=[Λ])\n",
    "dphi = fast_callable(dphi_sym, vars=[Λ])\n",
    "\n",
    "def pdf_bromwich(delta_val, sigma0=1.0):\n",
    "    def integrand(t):\n",
    "        z = complex(sigma0, t)\n",
    "        phi_val = complex(phi(z))\n",
    "        return mp.exp(phi_val - z*delta_val).real\n",
    "    return (1/(2*mp.pi)) * mp.quad(integrand, [-mp.inf, mp.inf])\n",
    "\n",
    "def pdf_bromwich_1pi(delta_val, sigma0=1.0):\n",
    "    def integrand(t):\n",
    "        z = complex(sigma0, t)\n",
    "        phi_val = complex(phi(z))\n",
    "        dphi_val = complex(dphi(z))\n",
    "        return ((dphi_val - delta_val) * mp.exp(phi_val - z*delta_val)).real\n",
    "    \n",
    "    if abs(delta_val) < 1e-10:  # Handle delta_val ≈ 0\n",
    "        return float('nan')  # or use the raw Bromwich method instead\n",
    "    \n",
    "    return (1/(2*mp.pi*delta_val)) * mp.quad(integrand, [-mp.inf, mp.inf])\n",
    "\n",
    "# Example usage: compute P(δ) for sample values\n",
    "for δ in [-1.0, -0.5, 0.0, 0.5, 1.0]:\n",
    "    p_raw = float(pdf_bromwich(δ))\n",
    "    if abs(δ) < 1e-10:\n",
    "        p_1pi = p_raw  # Use raw method for delta ≈ 0\n",
    "    else:\n",
    "        p_1pi = float(pdf_bromwich_1pi(δ))\n",
    "    print(f\"delta={δ:5.2f}  P(raw)={p_raw:.6g}  P(1×PI)={p_1pi:.6g}\")"
   ]
  },
  {
   "cell_type": "code",
   "execution_count": null,
   "metadata": {
    "vscode": {
     "languageId": "python"
    }
   },
   "outputs": [],
   "source": []
  },
  {
   "cell_type": "markdown",
   "metadata": {},
   "source": [
    "# Tau-space Inverse Laplace Transform\n",
    "\n",
    "Rewrite the Bromwich inversion as an integral in τ, using the analytic mapping Λ(τ) and full action S(τ):\n",
    "\n",
    "$$\n",
    "P(\\delta) = \\frac{1}{2\\pi i} \\int_{\\mathcal C_\\tau} d\\tau\\; \\frac{d\\Lambda}{d\\tau}\\, e^{S(\\tau)-\\Lambda(\\tau)\\,\\delta}.\n",
    "$$\n",
    "You can also evaluate the leading saddle-point approximation directly in τ:\n",
    "\n",
    "$$\n",
    "P(\\delta) \\simeq \\sqrt{\\frac{\\Lambda''(\\tau^*)}{2\\pi}} e^{S(\\tau^*)-\\delta\\,\\tau^*},\n",
    "$$\n",
    "with Λ(τ*)=δ."
   ]
  },
  {
   "cell_type": "code",
   "execution_count": 52,
   "metadata": {
    "vscode": {
     "languageId": "r"
    }
   },
   "outputs": [
    {
     "name": "stdout",
     "output_type": "stream",
     "text": [
      "Tau-space saddle-point PDF:\n",
      "δ = -1.00  →  P(δ) = 1.19909\n",
      "δ = -1.00  →  P(δ) = 1.19909\n",
      "δ = -0.50  →  P(δ) = 0.978092\n",
      "δ = -0.50  →  P(δ) = 0.978092\n",
      "δ =  0.00  →  P(δ) = 0.690988\n",
      "δ =  0.00  →  P(δ) = 0.690988\n",
      "δ =  0.50  →  P(δ) = nan\n",
      "δ =  0.50  →  P(δ) = nan\n"
     ]
    }
   ],
   "source": [
    "def pdf_tau_saddle(delta_val, d=3, sigma2_val=0.2, nu=None):\n",
    "    \"\"\"\n",
    "    Saddle-point PDF using τ-space formulation:\n",
    "    P(δ) ≈ √[Λ'(τ*) / 2π] × exp[S(τ*) - δ×τ*]\n",
    "    where Λ(τ*) = δ\n",
    "    \"\"\"\n",
    "    if nu is None:\n",
    "        nu = d\n",
    "    \n",
    "    # Get symbolic expressions\n",
    "    tau = var('tau')\n",
    "    Lambda_tau = Lambda_of_tau(d, nu)\n",
    "    \n",
    "    # Build action S(τ) in spherical case\n",
    "    taus = get_tau_vars(d)\n",
    "    subs_dict = {v: tau for v in taus[:d]}  # diagonal terms = τ\n",
    "    subs_dict.update({v: 0 for v in taus[d:]})  # off-diagonal = 0\n",
    "    subs_dict[Λ] = Lambda_tau  # Add Lambda substitution to the dict\n",
    "    \n",
    "    # Total action: S(τ) = action + σ²×F₁(τ)\n",
    "    S_LO = action(d, Λ, nu).subs(subs_dict)\n",
    "    F1_tau = one_loop_correction(d, nu)\n",
    "    S_total = S_LO + sigma2_val * F1_tau\n",
    "    \n",
    "    # Derivatives\n",
    "    dLambda_dtau = diff(Lambda_tau, tau)\n",
    "    \n",
    "    # Create numerical functions\n",
    "    Lam_func = fast_callable(Lambda_tau, vars=[tau])\n",
    "    S_func = fast_callable(S_total, vars=[tau])  \n",
    "    dLam_func = fast_callable(dLambda_dtau, vars=[tau])\n",
    "    \n",
    "    # Find τ* such that Λ(τ*) = δ\n",
    "    try:\n",
    "        # Try different starting points for robustness\n",
    "        tau_star = None\n",
    "        for start in [0.0, -0.1, -0.5, -0.8]:\n",
    "            try:\n",
    "                tau_star = find_root(lambda t: float(Lam_func(t)) - delta_val, \n",
    "                                   start - 0.5, start + 0.5)\n",
    "                break\n",
    "            except:\n",
    "                continue\n",
    "        \n",
    "        if tau_star is None:\n",
    "            return float('nan')\n",
    "            \n",
    "        # Saddle-point formula\n",
    "        prefactor = sqrt(abs(dLam_func(tau_star)) / (2*pi))\n",
    "        exponent = S_func(tau_star) - delta_val * tau_star\n",
    "        \n",
    "        return float(prefactor * exp(exponent))\n",
    "        \n",
    "    except Exception as e:\n",
    "        print(f\"Error for δ={delta_val}: {e}\")\n",
    "        return float('nan')\n",
    "\n",
    "# Test the function\n",
    "print(\"Tau-space saddle-point PDF:\")\n",
    "for δ in [-1.0, -0.5, 0.0, 0.5]:\n",
    "    pdf_val = pdf_tau_saddle(δ, d=3, sigma2_val=0.2, nu=3)\n",
    "    print(f\"δ = {δ:5.2f}  →  P(δ) = {pdf_val:.6g}\")"
   ]
  },
  {
   "cell_type": "code",
   "execution_count": 53,
   "metadata": {
    "vscode": {
     "languageId": "r"
    }
   },
   "outputs": [
    {
     "name": "stdout",
     "output_type": "stream",
     "text": [
      "Warning: Could not find exact critical tau, using τ=0 as approximation\n"
     ]
    },
    {
     "ename": "NameError",
     "evalue": "name 'dLambda_dtau_num' is not defined",
     "output_type": "error",
     "traceback": [
      "\u001b[0;31m---------------------------------------------------------------------------\u001b[0m",
      "\u001b[0;31mNameError\u001b[0m                                 Traceback (most recent call last)",
      "Cell \u001b[0;32mIn[53], line 36\u001b[0m\n\u001b[1;32m     34\u001b[0m delta_example \u001b[38;5;241m=\u001b[39m RealNumber(\u001b[38;5;124m'\u001b[39m\u001b[38;5;124m0.5\u001b[39m\u001b[38;5;124m'\u001b[39m)\n\u001b[1;32m     35\u001b[0m \u001b[38;5;66;03m#tau_c = 1.2345    # ← replace with whichever critical τ you computed\u001b[39;00m\n\u001b[0;32m---> 36\u001b[0m P_val \u001b[38;5;241m=\u001b[39m \u001b[43mP_of_delta\u001b[49m\u001b[43m(\u001b[49m\u001b[43mdelta_example\u001b[49m\u001b[43m,\u001b[49m\u001b[43m \u001b[49m\u001b[43mtau_c\u001b[49m\u001b[43m)\u001b[49m\n\u001b[1;32m     37\u001b[0m \u001b[38;5;28mprint\u001b[39m(\u001b[38;5;124mf\u001b[39m\u001b[38;5;124m\"\u001b[39m\u001b[38;5;124mP(δ=\u001b[39m\u001b[38;5;132;01m{\u001b[39;00mdelta_example\u001b[38;5;132;01m:\u001b[39;00m\u001b[38;5;124mg\u001b[39m\u001b[38;5;132;01m}\u001b[39;00m\u001b[38;5;124m) ≃ \u001b[39m\u001b[38;5;132;01m{\u001b[39;00mP_val\u001b[38;5;132;01m:\u001b[39;00m\u001b[38;5;124mg\u001b[39m\u001b[38;5;132;01m}\u001b[39;00m\u001b[38;5;124m\"\u001b[39m)\n",
      "Cell \u001b[0;32mIn[53], line 30\u001b[0m, in \u001b[0;36mP_of_delta\u001b[0;34m(delta, tau_c)\u001b[0m\n\u001b[1;32m     26\u001b[0m     \u001b[38;5;28;01mreturn\u001b[39;00m mp\u001b[38;5;241m.\u001b[39mim( integrand_tau(t, delta) )\n\u001b[1;32m     28\u001b[0m \u001b[38;5;66;03m# Perform the integral from τ_c to +∞\u001b[39;00m\n\u001b[1;32m     29\u001b[0m \u001b[38;5;66;03m#   You can adjust error tolerances with “epsabs”/“epsrel” if needed.\u001b[39;00m\n\u001b[0;32m---> 30\u001b[0m I \u001b[38;5;241m=\u001b[39m \u001b[43mmp\u001b[49m\u001b[38;5;241;43m.\u001b[39;49m\u001b[43mquad\u001b[49m\u001b[43m(\u001b[49m\u001b[43mreal_axis_integrand\u001b[49m\u001b[43m,\u001b[49m\u001b[43m \u001b[49m\u001b[43m[\u001b[49m\u001b[43mtau_c\u001b[49m\u001b[43m,\u001b[49m\u001b[43m \u001b[49m\u001b[43mmp\u001b[49m\u001b[38;5;241;43m.\u001b[39;49m\u001b[43minf\u001b[49m\u001b[43m]\u001b[49m\u001b[43m)\u001b[49m\n\u001b[1;32m     31\u001b[0m \u001b[38;5;28;01mreturn\u001b[39;00m I \u001b[38;5;241m/\u001b[39m mp\u001b[38;5;241m.\u001b[39mpi\n",
      "File \u001b[0;32m~/miniforge3/envs/sage/lib/python3.12/site-packages/mpmath/calculus/quadrature.py:746\u001b[0m, in \u001b[0;36mQuadratureMethods.quad\u001b[0;34m(ctx, f, *points, **kwargs)\u001b[0m\n\u001b[1;32m    744\u001b[0m ctx\u001b[38;5;241m.\u001b[39mprec \u001b[38;5;241m+\u001b[39m\u001b[38;5;241m=\u001b[39m \u001b[38;5;241m20\u001b[39m\n\u001b[1;32m    745\u001b[0m \u001b[38;5;28;01mif\u001b[39;00m dim \u001b[38;5;241m==\u001b[39m \u001b[38;5;241m1\u001b[39m:\n\u001b[0;32m--> 746\u001b[0m     v, err \u001b[38;5;241m=\u001b[39m \u001b[43mrule\u001b[49m\u001b[38;5;241;43m.\u001b[39;49m\u001b[43msummation\u001b[49m\u001b[43m(\u001b[49m\u001b[43mf\u001b[49m\u001b[43m,\u001b[49m\u001b[43m \u001b[49m\u001b[43mpoints\u001b[49m\u001b[43m[\u001b[49m\u001b[38;5;241;43m0\u001b[39;49m\u001b[43m]\u001b[49m\u001b[43m,\u001b[49m\u001b[43m \u001b[49m\u001b[43mprec\u001b[49m\u001b[43m,\u001b[49m\u001b[43m \u001b[49m\u001b[43mepsilon\u001b[49m\u001b[43m,\u001b[49m\u001b[43m \u001b[49m\u001b[43mm\u001b[49m\u001b[43m,\u001b[49m\u001b[43m \u001b[49m\u001b[43mverbose\u001b[49m\u001b[43m)\u001b[49m\n\u001b[1;32m    747\u001b[0m \u001b[38;5;28;01melif\u001b[39;00m dim \u001b[38;5;241m==\u001b[39m \u001b[38;5;241m2\u001b[39m:\n\u001b[1;32m    748\u001b[0m     v, err \u001b[38;5;241m=\u001b[39m rule\u001b[38;5;241m.\u001b[39msummation(\u001b[38;5;28;01mlambda\u001b[39;00m x: \\\n\u001b[1;32m    749\u001b[0m             rule\u001b[38;5;241m.\u001b[39msummation(\u001b[38;5;28;01mlambda\u001b[39;00m y: f(x,y), \\\n\u001b[1;32m    750\u001b[0m             points[\u001b[38;5;241m1\u001b[39m], prec, epsilon, m)[\u001b[38;5;241m0\u001b[39m],\n\u001b[1;32m    751\u001b[0m         points[\u001b[38;5;241m0\u001b[39m], prec, epsilon, m, verbose)\n",
      "File \u001b[0;32m~/miniforge3/envs/sage/lib/python3.12/site-packages/mpmath/calculus/quadrature.py:233\u001b[0m, in \u001b[0;36mQuadratureRule.summation\u001b[0;34m(self, f, points, prec, epsilon, max_degree, verbose)\u001b[0m\n\u001b[1;32m    230\u001b[0m \u001b[38;5;28;01mif\u001b[39;00m verbose:\n\u001b[1;32m    231\u001b[0m     \u001b[38;5;28mprint\u001b[39m(\u001b[38;5;124m\"\u001b[39m\u001b[38;5;124mIntegrating from \u001b[39m\u001b[38;5;132;01m%s\u001b[39;00m\u001b[38;5;124m to \u001b[39m\u001b[38;5;132;01m%s\u001b[39;00m\u001b[38;5;124m (degree \u001b[39m\u001b[38;5;132;01m%s\u001b[39;00m\u001b[38;5;124m of \u001b[39m\u001b[38;5;132;01m%s\u001b[39;00m\u001b[38;5;124m)\u001b[39m\u001b[38;5;124m\"\u001b[39m \u001b[38;5;241m%\u001b[39m \\\n\u001b[1;32m    232\u001b[0m         (ctx\u001b[38;5;241m.\u001b[39mnstr(a), ctx\u001b[38;5;241m.\u001b[39mnstr(b), degree, max_degree))\n\u001b[0;32m--> 233\u001b[0m result \u001b[38;5;241m=\u001b[39m \u001b[38;5;28;43mself\u001b[39;49m\u001b[38;5;241;43m.\u001b[39;49m\u001b[43msum_next\u001b[49m\u001b[43m(\u001b[49m\u001b[43mf\u001b[49m\u001b[43m,\u001b[49m\u001b[43m \u001b[49m\u001b[43mnodes\u001b[49m\u001b[43m,\u001b[49m\u001b[43m \u001b[49m\u001b[43mdegree\u001b[49m\u001b[43m,\u001b[49m\u001b[43m \u001b[49m\u001b[43mprec\u001b[49m\u001b[43m,\u001b[49m\u001b[43m \u001b[49m\u001b[43mresults\u001b[49m\u001b[43m,\u001b[49m\u001b[43m \u001b[49m\u001b[43mverbose\u001b[49m\u001b[43m)\u001b[49m\n\u001b[1;32m    234\u001b[0m results\u001b[38;5;241m.\u001b[39mappend(result)\n\u001b[1;32m    235\u001b[0m \u001b[38;5;28;01mif\u001b[39;00m degree \u001b[38;5;241m>\u001b[39m \u001b[38;5;241m1\u001b[39m:\n",
      "File \u001b[0;32m~/miniforge3/envs/sage/lib/python3.12/site-packages/mpmath/calculus/quadrature.py:308\u001b[0m, in \u001b[0;36mTanhSinh.sum_next\u001b[0;34m(self, f, nodes, degree, prec, previous, verbose)\u001b[0m\n\u001b[1;32m    306\u001b[0m \u001b[38;5;28;01melse\u001b[39;00m:\n\u001b[1;32m    307\u001b[0m     S \u001b[38;5;241m=\u001b[39m \u001b[38;5;28mself\u001b[39m\u001b[38;5;241m.\u001b[39mctx\u001b[38;5;241m.\u001b[39mzero\n\u001b[0;32m--> 308\u001b[0m S \u001b[38;5;241m+\u001b[39m\u001b[38;5;241m=\u001b[39m \u001b[38;5;28;43mself\u001b[39;49m\u001b[38;5;241;43m.\u001b[39;49m\u001b[43mctx\u001b[49m\u001b[38;5;241;43m.\u001b[39;49m\u001b[43mfdot\u001b[49m\u001b[43m(\u001b[49m\u001b[43m(\u001b[49m\u001b[43mw\u001b[49m\u001b[43m,\u001b[49m\u001b[43mf\u001b[49m\u001b[43m(\u001b[49m\u001b[43mx\u001b[49m\u001b[43m)\u001b[49m\u001b[43m)\u001b[49m\u001b[43m \u001b[49m\u001b[38;5;28;43;01mfor\u001b[39;49;00m\u001b[43m \u001b[49m\u001b[43m(\u001b[49m\u001b[43mx\u001b[49m\u001b[43m,\u001b[49m\u001b[43mw\u001b[49m\u001b[43m)\u001b[49m\u001b[43m \u001b[49m\u001b[38;5;129;43;01min\u001b[39;49;00m\u001b[43m \u001b[49m\u001b[43mnodes\u001b[49m\u001b[43m)\u001b[49m\n\u001b[1;32m    309\u001b[0m \u001b[38;5;28;01mreturn\u001b[39;00m h\u001b[38;5;241m*\u001b[39mS\n",
      "File \u001b[0;32m~/miniforge3/envs/sage/lib/python3.12/site-packages/sage/libs/mpmath/ext_main.pyx:900\u001b[0m, in \u001b[0;36msage.libs.mpmath.ext_main.Context.fdot (build/cythonized/sage/libs/mpmath/ext_main.c:15706)\u001b[0;34m()\u001b[0m\n\u001b[1;32m    898\u001b[0m unknown = global_context.zero\n\u001b[1;32m    899\u001b[0m styp = 1\n\u001b[0;32m--> 900\u001b[0m for a, b in A:\n\u001b[1;32m    901\u001b[0m     ttyp = MPF_set_any(&tre, &tim, a, workopts, 0)\n\u001b[1;32m    902\u001b[0m     utyp = MPF_set_any(&ure, &uim, b, workopts, 0)\n",
      "File \u001b[0;32m~/miniforge3/envs/sage/lib/python3.12/site-packages/mpmath/calculus/quadrature.py:308\u001b[0m, in \u001b[0;36m<genexpr>\u001b[0;34m(.0)\u001b[0m\n\u001b[1;32m    306\u001b[0m \u001b[38;5;28;01melse\u001b[39;00m:\n\u001b[1;32m    307\u001b[0m     S \u001b[38;5;241m=\u001b[39m \u001b[38;5;28mself\u001b[39m\u001b[38;5;241m.\u001b[39mctx\u001b[38;5;241m.\u001b[39mzero\n\u001b[0;32m--> 308\u001b[0m S \u001b[38;5;241m+\u001b[39m\u001b[38;5;241m=\u001b[39m \u001b[38;5;28mself\u001b[39m\u001b[38;5;241m.\u001b[39mctx\u001b[38;5;241m.\u001b[39mfdot((w,\u001b[43mf\u001b[49m\u001b[43m(\u001b[49m\u001b[43mx\u001b[49m\u001b[43m)\u001b[49m) \u001b[38;5;28;01mfor\u001b[39;00m (x,w) \u001b[38;5;129;01min\u001b[39;00m nodes)\n\u001b[1;32m    309\u001b[0m \u001b[38;5;28;01mreturn\u001b[39;00m h\u001b[38;5;241m*\u001b[39mS\n",
      "Cell \u001b[0;32mIn[53], line 26\u001b[0m, in \u001b[0;36mP_of_delta.<locals>.real_axis_integrand\u001b[0;34m(t)\u001b[0m\n\u001b[1;32m     25\u001b[0m \u001b[38;5;28;01mdef\u001b[39;00m\u001b[38;5;250m \u001b[39m\u001b[38;5;21mreal_axis_integrand\u001b[39m(t):\n\u001b[0;32m---> 26\u001b[0m     \u001b[38;5;28;01mreturn\u001b[39;00m mp\u001b[38;5;241m.\u001b[39mim( \u001b[43mintegrand_tau\u001b[49m\u001b[43m(\u001b[49m\u001b[43mt\u001b[49m\u001b[43m,\u001b[49m\u001b[43m \u001b[49m\u001b[43mdelta\u001b[49m\u001b[43m)\u001b[49m )\n",
      "Cell \u001b[0;32mIn[53], line 15\u001b[0m, in \u001b[0;36mintegrand_tau\u001b[0;34m(tau_val, delta)\u001b[0m\n\u001b[1;32m     10\u001b[0m \u001b[38;5;28;01mdef\u001b[39;00m\u001b[38;5;250m \u001b[39m\u001b[38;5;21mintegrand_tau\u001b[39m(tau_val, delta):\n\u001b[1;32m     11\u001b[0m \u001b[38;5;250m    \u001b[39m\u001b[38;5;124;03m\"\"\"\u001b[39;00m\n\u001b[1;32m     12\u001b[0m \u001b[38;5;124;03m    For a real τ ≥ τ_c and real δ, returns\u001b[39;00m\n\u001b[1;32m     13\u001b[0m \u001b[38;5;124;03m        Λ'(τ) * exp[ φ_τ(τ) - δ⋅Λ(τ) ]  (complex).\u001b[39;00m\n\u001b[1;32m     14\u001b[0m \u001b[38;5;124;03m    \"\"\"\u001b[39;00m\n\u001b[0;32m---> 15\u001b[0m     \u001b[38;5;28;01mreturn\u001b[39;00m \u001b[43mdLambda_dtau_num\u001b[49m(tau_val) \u001b[38;5;241m*\u001b[39m mp\u001b[38;5;241m.\u001b[39me\u001b[38;5;241m*\u001b[39m\u001b[38;5;241m*\u001b[39m( phi_num(tau_val) \u001b[38;5;241m-\u001b[39m delta \u001b[38;5;241m*\u001b[39m Lambda_num(tau_val) )\n",
      "\u001b[0;31mNameError\u001b[0m: name 'dLambda_dtau_num' is not defined"
     ]
    }
   ],
   "source": [
    "import mpmath as mp\n",
    "\n",
    "# ─── Assume these already exist from your previous cell ────────────────\n",
    "#   Lambda_num(τ)        = Λ(τ) as a Python function of real/complex τ\n",
    "#   phi_num(τ)           = φ_τ(τ) as a Python function of real/complex τ\n",
    "#   dLambda_dtau_num(τ)  = (dΛ/dτ)(τ) as a Python function of real/complex τ\n",
    "#   tau_c                = the real critical τ (where dΛ/dτ = 0)\n",
    "tau_c = compute_tau_critical(d)  # Assume this function exists to compute τ_c\n",
    "# (Re‐define integrand_tau here just to be self‐contained:)\n",
    "def integrand_tau(tau_val, delta):\n",
    "    \"\"\"\n",
    "    For a real τ ≥ τ_c and real δ, returns\n",
    "        Λ'(τ) * exp[ φ_τ(τ) - δ⋅Λ(τ) ]  (complex).\n",
    "    \"\"\"\n",
    "    return dLambda_dtau_num(tau_val) * mp.e**( phi_num(tau_val) - delta * Lambda_num(tau_val) )\n",
    "\n",
    "# ─── (A) Simple real‐axis implementation ────────────────────────────────\n",
    "def P_of_delta(delta, tau_c):\n",
    "    \"\"\"\n",
    "    Numerically compute\n",
    "      P(δ) = (1/π) ∫_{τ_c}^{∞}  Im{ Λ'(τ) ⋅ e^{φ_τ(τ) - δ⋅Λ(τ)} }  dτ\n",
    "    using mpmath.quad.  Returns a real number.\n",
    "    \"\"\"\n",
    "    # Define the integrand for mpmath.quad: the imaginary part of integrand_tau\n",
    "    def real_axis_integrand(t):\n",
    "        return mp.im( integrand_tau(t, delta) )\n",
    "    \n",
    "    # Perform the integral from τ_c to +∞\n",
    "    #   You can adjust error tolerances with “epsabs”/“epsrel” if needed.\n",
    "    I = mp.quad(real_axis_integrand, [tau_c, mp.inf])\n",
    "    return I / mp.pi\n",
    "\n",
    "# ─── (B) Example usage ───────────────────────────────────────────────────\n",
    "delta_example = 0.5\n",
    "#tau_c = 1.2345    # ← replace with whichever critical τ you computed\n",
    "P_val = P_of_delta(delta_example, tau_c)\n",
    "print(f\"P(δ={delta_example:g}) ≃ {P_val:g}\")\n"
   ]
  },
  {
   "cell_type": "code",
   "execution_count": null,
   "metadata": {
    "vscode": {
     "languageId": "python"
    }
   },
   "outputs": [
    {
     "name": "stdout",
     "output_type": "stream",
     "text": [
      "delta=-1.00  saddle=0.985465  numeric=inf\n",
      "delta=-0.50  saddle=0.835943  numeric=inf\n",
      "delta= 0.00  saddle=0.56419  numeric=-inf\n",
      "delta= 0.50  saddle=nan  numeric=inf\n",
      "delta= 1.00  saddle=nan  numeric=inf\n"
     ]
    }
   ],
   "source": [
    "import mpmath as mp\n",
    "from sage.all import var, diff, fast_callable\n",
    "\n",
    "# Symbols and analytic functions\n",
    "tau = var('tau')\n",
    "Lambda_of_tau_sym = Lambda_of_tau(d, nu)\n",
    "\n",
    "# For the action, we need to substitute the spherical case (all off-diagonal taus = 0)\n",
    "taus = get_tau_vars(d)\n",
    "subs_dict = {v: tau for v in taus[:d]}  # diagonal terms = tau\n",
    "subs_dict.update({v: 0 for v in taus[d:]})  # off-diagonal terms = 0\n",
    "\n",
    "# First get the action with the spherical substitution, then substitute Lambda\n",
    "S_tau_intermediate = action(d, Λ, nu).subs(subs_dict)\n",
    "S_tau_sym = S_tau_intermediate.subs({Λ: Lambda_of_tau_sym})\n",
    "dLam_sym = diff(Lambda_of_tau_sym, tau)\n",
    "\n",
    "# Numeric callables via fast_callable\n",
    "Lam = fast_callable(Lambda_of_tau_sym, vars=[tau])\n",
    "Sfun = fast_callable(S_tau_sym, vars=[tau])\n",
    "dLam_fun = fast_callable(dLam_sym, vars=[tau])\n",
    "\n",
    "# Saddle-point PDF (one-loop accurate)\n",
    "def p_saddle(delta_val):\n",
    "    # find tau* such that Lambda(tau*) = delta\n",
    "    try:\n",
    "        # Try multiple starting points and increase tolerance\n",
    "        for start_point in [0.0, -0.1, -0.5, -0.8]:\n",
    "            try:\n",
    "                tau_star = mp.findroot(lambda t: Lam(t) - delta_val, start_point, \n",
    "                                     tol=1e-10, maxsteps=100)\n",
    "                break\n",
    "            except ValueError:\n",
    "                continue\n",
    "        else:\n",
    "            # If all starting points fail, return NaN\n",
    "            return float('nan')\n",
    "        \n",
    "        pref = mp.sqrt(abs(dLam_fun(tau_star))/(2*mp.pi))\n",
    "        return pref * mp.e**(Sfun(tau_star) - delta_val*tau_star)\n",
    "    except (ValueError, ZeroDivisionError):\n",
    "        return float('nan')\n",
    "\n",
    "# Exact numeric tau-space integral\n",
    "def P_numeric(delta_val, line_re=0.0):\n",
    "    integrand = lambda t: (\n",
    "        dLam_fun(line_re+1j*t) *\n",
    "        mp.e**(Sfun(line_re+1j*t) - Lam(line_re+1j*t)*delta_val)\n",
    "    ).real\n",
    "    return (1/(2*mp.pi)) * mp.quad(integrand, [-mp.inf, mp.inf])\n",
    "\n",
    "# Example comparison\n",
    "for δ in [-1.0, -0.5, 0.0, 0.5, 1.0]:\n",
    "    saddle_val = float(p_saddle(δ))\n",
    "    numeric_val = float(P_numeric(δ))\n",
    "    print(f\"delta={δ:5.2f}  saddle={saddle_val:.6g}  numeric={numeric_val:.6g}\")"
   ]
  },
  {
   "cell_type": "code",
   "execution_count": null,
   "metadata": {
    "vscode": {
     "languageId": "python"
    }
   },
   "outputs": [
    {
     "name": "stdout",
     "output_type": "stream",
     "text": [
      "Warning: Could not find exact critical tau, using τ=0 as approximation\n",
      "Critical τ = 0.000000000000000\n"
     ]
    },
    {
     "ename": "TypeError",
     "evalue": "float() argument must be a string or a real number, not 'builtin_function_or_method'",
     "output_type": "error",
     "traceback": [
      "\u001b[0;31m---------------------------------------------------------------------------\u001b[0m",
      "\u001b[0;31mTypeError\u001b[0m                                 Traceback (most recent call last)",
      "Cell \u001b[0;32mIn[48], line 187\u001b[0m\n\u001b[1;32m    185\u001b[0m \u001b[38;5;66;03m# Check Lambda values around the critical point\u001b[39;00m\n\u001b[1;32m    186\u001b[0m Lam, dLam, phi \u001b[38;5;241m=\u001b[39m make_tau_callables(d\u001b[38;5;241m=\u001b[39mInteger(\u001b[38;5;241m3\u001b[39m), sigma2_value\u001b[38;5;241m=\u001b[39mRealNumber(\u001b[38;5;124m'\u001b[39m\u001b[38;5;124m0.2\u001b[39m\u001b[38;5;124m'\u001b[39m), nu\u001b[38;5;241m=\u001b[39mInteger(\u001b[38;5;241m3\u001b[39m))\n\u001b[0;32m--> 187\u001b[0m delta_crit \u001b[38;5;241m=\u001b[39m \u001b[38;5;28;43mfloat\u001b[39;49m\u001b[43m(\u001b[49m\u001b[43mLam\u001b[49m\u001b[43m(\u001b[49m\u001b[43mtau_crit\u001b[49m\u001b[43m)\u001b[49m\u001b[38;5;241;43m.\u001b[39;49m\u001b[43mreal\u001b[49m\u001b[43m)\u001b[49m\n\u001b[1;32m    188\u001b[0m \u001b[38;5;28mprint\u001b[39m(\u001b[38;5;124mf\u001b[39m\u001b[38;5;124m\"\u001b[39m\u001b[38;5;124mΛ(τ_crit) = \u001b[39m\u001b[38;5;132;01m{\u001b[39;00mdelta_crit\u001b[38;5;132;01m:\u001b[39;00m\u001b[38;5;124m.6f\u001b[39m\u001b[38;5;132;01m}\u001b[39;00m\u001b[38;5;124m\"\u001b[39m)\n\u001b[1;32m    190\u001b[0m \u001b[38;5;66;03m# Since δ=0.5 might be beyond the critical point, let's check if it's accessible\u001b[39;00m\n",
      "\u001b[0;31mTypeError\u001b[0m: float() argument must be a string or a real number, not 'builtin_function_or_method'"
     ]
    }
   ],
   "source": [
    "# ---------------------------------------------------------------------------\n",
    "#  SADDLE‑POINT PDF  P(δ)  USING τ–VARIABLES  (LO + one‑loop in φ)\n",
    "# ---------------------------------------------------------------------------\n",
    "#  Requires the helper functions you already have:\n",
    "#    • action_spherical_joint(d, Λ, μ, nu)   ––> to build S(τ)\n",
    "#    • Lambda_of_tau(d, nu)                   ––> analytic Λ(τ)\n",
    "#    • one_loop_correction(d, nu)             ––> F₁(τ)\n",
    "#  CGF in τ:  φ(τ) = S(τ)  +  σ²·F₁(τ)\n",
    "# ---------------------------------------------------------------------------\n",
    "\n",
    "from sage.all import var, diff, find_root, sqrt, pi, fast_callable, exp\n",
    "\n",
    "# global symbols\n",
    "Λ_sym, tau_sym, sigma = var('Lambda tau sigma')\n",
    "σ2_sym = sigma**2\n",
    "\n",
    "# ---------------------------------------------------------------------------\n",
    "# build fast numerical callables for Λ(τ), φ(τ), Λ'(τ)\n",
    "# ---------------------------------------------------------------------------\n",
    "\n",
    "def make_tau_callables(d, sigma2_value, nu=None):\n",
    "    \"\"\"Return numerical callables Λ(τ), Λ'(τ), φ(τ) for given d,nu,σ².\"\"\"\n",
    "    if nu is None:\n",
    "        nu = d\n",
    "    # analytic Λ(τ) and φ(τ) (LO+σ²·F₁)\n",
    "    Lambda_tau = Lambda_of_tau(d, nu)                    # symbolic\n",
    "    phi_tau    = (CGF_LO(d, nu) + sigma2_value*one_loop_correction(d, nu))\n",
    "\n",
    "    # numerical callables (mpmath backend = high precision complex)\n",
    "    Lam  = fast_callable(Lambda_tau, vars=[tau_sym], domain=ComplexField(50))\n",
    "    dLam = fast_callable(diff(Lambda_tau, tau_sym), vars=[tau_sym],\n",
    "                         domain=ComplexField(50))\n",
    "    phi  = fast_callable(phi_tau,  vars=[tau_sym], domain=ComplexField(50))\n",
    "    return Lam, dLam, phi\n",
    "\n",
    "# ---------------------------------------------------------------------------\n",
    "# saddle‑point PDF function\n",
    "# ---------------------------------------------------------------------------\n",
    "\n",
    "def pdf_saddle(delta, d=3, sigma2=1.0, nu=None, tau_left=None, tau_right=None):\n",
    "    \"\"\"\n",
    "    Large‑deviation (LO+1‑loop) PDF for a single density contrast value δ.\n",
    "\n",
    "    Parameters\n",
    "    ----------\n",
    "    delta : float  – target density contrast  Δ ≡ ρ−1\n",
    "    d     : 2 or 3 – spatial dimension\n",
    "    sigma2: float  – linear variance entering the one‑loop term\n",
    "    nu    : float or None –ν parameter in the ellipsoidal map (defaults ν=d)\n",
    "    tau_left/right : bracketing interval for the root Λ(τ)=δ.\n",
    "\n",
    "    Returns\n",
    "    -------\n",
    "    P_ld : float  – saddle‑point approximation to P(δ).\n",
    "    \"\"\"\n",
    "    Lam, dLam, phi = make_tau_callables(d, sigma2_value=sigma2, nu=nu)\n",
    "\n",
    "    # ----- Auto-determine bracketing interval if not provided -----\n",
    "    if tau_left is None or tau_right is None:\n",
    "        # Expanded search intervals with wider range\n",
    "        search_intervals = [\n",
    "            (-5.0, -2.0),\n",
    "            (-2.0, -1.0),\n",
    "            (-1.0, -0.5),\n",
    "            (-0.5, -0.1),\n",
    "            (-0.1, 0.0),\n",
    "            (0.0, 0.1),\n",
    "            (0.1, 0.5),\n",
    "            (0.5, 1.0),\n",
    "            (1.0, 2.0),\n",
    "            (2.0, 5.0),\n",
    "            (-3.0, 0.0),\n",
    "            (-1.0, 1.0),\n",
    "            (-2.0, 2.0),\n",
    "            (-5.0, 5.0)\n",
    "        ]\n",
    "    else:\n",
    "        search_intervals = [(tau_left, tau_right)]\n",
    "\n",
    "    # ----- root τ* s.t.  Λ(τ*) = δ -----\n",
    "    tau_star = None\n",
    "    for left, right in search_intervals:\n",
    "        try:\n",
    "            # Check if the function changes sign over the interval\n",
    "            f_left = float(Lam(left).real) - delta\n",
    "            f_right = float(Lam(right).real) - delta\n",
    "            \n",
    "            # Debug: print function values for troubleshooting\n",
    "            if abs(f_left) < 1e-10:  # Very close to zero\n",
    "                tau_star = left\n",
    "                break\n",
    "            if abs(f_right) < 1e-10:  # Very close to zero\n",
    "                tau_star = right\n",
    "                break\n",
    "                \n",
    "            if f_left * f_right <= 0:  # Sign change indicates root exists\n",
    "                tau_star = find_root(lambda t: float(Lam(t).real) - delta, left, right)\n",
    "                break\n",
    "        except (RuntimeError, ValueError, TypeError) as e:\n",
    "            continue\n",
    "    \n",
    "    if tau_star is None:\n",
    "        # Try a more systematic grid search as fallback\n",
    "        tau_grid = [i * 0.1 for i in range(-50, 51)]  # -5.0 to 5.0 in steps of 0.1\n",
    "        for i in range(len(tau_grid) - 1):\n",
    "            try:\n",
    "                left, right = tau_grid[i], tau_grid[i + 1]\n",
    "                f_left = float(Lam(left).real) - delta\n",
    "                f_right = float(Lam(right).real) - delta\n",
    "                if f_left * f_right <= 0:\n",
    "                    tau_star = find_root(lambda t: float(Lam(t).real) - delta, left, right)\n",
    "                    break\n",
    "            except:\n",
    "                continue\n",
    "    \n",
    "    if tau_star is None:\n",
    "        raise RuntimeError(f\"Failed to find τ* for δ={delta}. The function Λ(τ) - {delta} may not have a root in the expanded search range [-5, 5].\")\n",
    "\n",
    "    # ----- prefactor & exponent -----\n",
    "    pref = sqrt( dLam(tau_star) / (2*pi) )\n",
    "    exponent = phi(tau_star) - delta*tau_star\n",
    "    P_ld = pref * exp(exponent)\n",
    "    return complex(P_ld).real  # PDF is real by construction\n",
    "\n",
    "# ---------------------------------------------------------------------------\n",
    "# Function to compute critical tau where dΛ/dτ = 0\n",
    "# ---------------------------------------------------------------------------\n",
    "\n",
    "\n",
    "# ---------------------------------------------------------------------------\n",
    "# example:  d=3, σ²=0.2, ν=3 (Zel'dovich), evaluate at Δ = 0.5\n",
    "# ---------------------------------------------------------------------------\n",
    "tau_crit = compute_tau_critical(d=3, nu=3)\n",
    "print(f\"Critical τ = {tau_crit}\")\n",
    "\n",
    "# Check Lambda values around the critical point\n",
    "Lam, dLam, phi = make_tau_callables(d=3, sigma2_value=0.2, nu=3)\n",
    "delta_crit = float(Lam(tau_crit).real)\n",
    "print(f\"Λ(τ_crit) = {delta_crit:.6f}\")\n",
    "\n",
    "# Since δ=0.5 might be beyond the critical point, let's check if it's accessible\n",
    "if 0.5 > delta_crit:\n",
    "    print(f\"Warning: δ=0.5 > δ_crit={delta_crit:.6f}, may not have a solution\")\n",
    "    # Try a smaller delta value that's within range\n",
    "    test_delta = delta_crit * 0.9\n",
    "    Pval = pdf_saddle(test_delta, d=3, sigma2=0.2, nu=3)\n",
    "    print(f\"P(δ={test_delta:.3f}) ≈ {Pval:.6g}\")\n",
    "else:\n",
    "    Pval = pdf_saddle(0.5, d=3, sigma2=0.2, nu=3)\n",
    "print(f\"P(δ=0.5) ≈ {Pval:.6g}\")\n",
    "\n"
   ]
  },
  {
   "cell_type": "code",
   "execution_count": null,
   "metadata": {
    "vscode": {
     "languageId": "python"
    }
   },
   "outputs": [],
   "source": []
  }
 ],
 "metadata": {
  "kernelspec": {
   "argv": [
    "sage-10.6",
    "--python",
    "-m",
    "sage.repl.ipython_kernel",
    "--matplotlib=inline",
    "-f",
    "{connection_file}"
   ],
   "display_name": "SageMath 10.6",
   "env": {},
   "language": "sage",
   "name": "sagemath",
   "resource_dir": "/ext/jupyter/kernels/sage-10.6"
  },
  "language_info": {
   "codemirror_mode": {
    "name": "ipython",
    "version": 3
   },
   "file_extension": ".py",
   "mimetype": "text/x-python",
   "name": "sage",
   "nbconvert_exporter": "python",
   "pygments_lexer": "ipython3",
   "version": "3.12.10"
  }
 },
 "nbformat": 4,
 "nbformat_minor": 4
}
