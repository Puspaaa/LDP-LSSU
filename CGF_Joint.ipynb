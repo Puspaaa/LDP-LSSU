{
 "cells": [
  {
   "cell_type": "code",
   "execution_count": 1,
   "id": "7ee76d3c",
   "metadata": {
    "vscode": {
     "languageId": "python"
    }
   },
   "outputs": [],
   "source": [
    "from sage.all import *\n",
    "from sage.all import PowerSeriesRing, PolynomialRing\n",
    "\n",
    "pretty_print_default(True)\n",
    "%display latex"
   ]
  },
  {
   "cell_type": "code",
   "execution_count": 2,
   "id": "7882d170",
   "metadata": {
    "vscode": {
     "languageId": "python"
    }
   },
   "outputs": [],
   "source": [
    "Λ, τ, σ, μ, θ = var('Lambda','tau','sigma', 'mu', 'theta')\n",
    "σ2 = σ^2"
   ]
  },
  {
   "cell_type": "code",
   "execution_count": 3,
   "id": "c0b1e01c",
   "metadata": {
    "vscode": {
     "languageId": "python"
    }
   },
   "outputs": [],
   "source": [
    "def get_tau_vars(d):\n",
    "    diag = [var(f'tau{i}{i}') for i in range(1, d+1)]\n",
    "    off  = [var(f'tau{i}{j}') for i in range(1, d+1) for j in range(i+1, d+1)]\n",
    "    return diag + off\n",
    "\n",
    "def precision_matrix(d):\n",
    "    if d==2:\n",
    "        C = Matrix([[3/8,1/8,0],\n",
    "                    [1/8,3/8,0],\n",
    "                    [0,  0,  1/8]])\n",
    "    elif d==3:\n",
    "        C = Matrix([[1/5, 1/15,1/15, 0,    0,    0],\n",
    "                    [1/15,1/5, 1/15, 0,    0,    0],\n",
    "                    [1/15,1/15,1/5,  0,    0,    0],\n",
    "                    [0,   0,   0,    1/15, 0,    0],\n",
    "                    [0,   0,   0,    0,    1/15, 0],\n",
    "                    [0,   0,   0,    0,    0,    1/15]] )\n",
    "    else:\n",
    "        raise ValueError(\"Only d=2 or 3 supported\")\n",
    "    return C.inverse()"
   ]
  },
  {
   "cell_type": "code",
   "execution_count": 4,
   "id": "df54a31a",
   "metadata": {
    "vscode": {
     "languageId": "python"
    }
   },
   "outputs": [],
   "source": [
    "def delta_contrast_Zel(d):\n",
    "    \"\"\"\n",
    "    The Zeldovich toy-model Δ(τ): one convenient default delta_func.\n",
    "    \"\"\"\n",
    "    taus = get_tau_vars(d)\n",
    "    T = Matrix(SR, d); k = 0\n",
    "    for i in range(d):\n",
    "        T[i,i] = taus[k]; k += 1\n",
    "    for i in range(d):\n",
    "        for j in range(i+1,d):\n",
    "            T[i,j] = T[j,i] = taus[k]; k += 1\n",
    "    return 1/abs(((identity_matrix(SR,d) - T).det())) - 1\n",
    "\n",
    "# Ellipsoidal collapse in terms of τ‐variables (Eq. 5.3):\n",
    "def delta_contrast_ellipsoidal(d, nu_param = var('nu')):\n",
    "    \"\"\"\n",
    "    Ellipsoidal‐collapse density contrast Δ(τ) ≡ ρ(τ) − 1\n",
    "      - d         : dimension (e.g. 3)\n",
    "      - nu_param  : ellipticity exponent ν\n",
    "    \"\"\"\n",
    "\n",
    "    taus = get_tau_vars(d)\n",
    "    T = Matrix(SR, d); k = 0\n",
    "    for i in range(d):\n",
    "        T[i,i] = taus[k]; k += 1\n",
    "    for i in range(d):\n",
    "        for j in range(i+1,d):\n",
    "            T[i,j] = T[j,i] = taus[k]; k += 1\n",
    "    \n",
    "    # 2) linear contrast δ = sum_i tau_ii\n",
    "    delta_lin = T.trace()\n",
    "    \n",
    "    # 3) build the total density ρ(τ) and subtract 1 to get Δ\n",
    "    rho = (1 - delta_lin/d)^d / (1 - delta_lin/nu_param)^nu_param / ((identity_matrix(SR,d) - T).det())\n",
    "\n",
    "    return rho - 1\n",
    "\n",
    "def theta_Zel(d):\n",
    "    \"\"\"\n",
    "    Zeldovich velocity-divergence map:\n",
    "      theta = - Tr[(I - T)^(-1) T]\n",
    "    (f=1 assumed; multiply by f(eta) if needed).\n",
    "    \"\"\"\n",
    "    taus = get_tau_vars(d)\n",
    "    T = Matrix(SR, d)\n",
    "    k = 0\n",
    "    for i in range(d):\n",
    "        T[i,i] = taus[k]; k += 1\n",
    "    for i in range(d):\n",
    "        for j in range(i+1, d):\n",
    "            T[i,j] = T[j,i] = taus[k]; k += 1\n",
    "\n",
    "    IminT_inv = (identity_matrix(SR, d) - T).inverse()\n",
    "    return -(IminT_inv * T).trace().factor()"
   ]
  },
  {
   "cell_type": "code",
   "execution_count": 5,
   "id": "7e19946e",
   "metadata": {
    "vscode": {
     "languageId": "python"
    }
   },
   "outputs": [
    {
     "data": {
      "text/html": [
       "<html>\\(\\displaystyle \\frac{2 \\, \\tau}{\\tau - 1}\\)</html>"
      ],
      "text/latex": [
       "$\\displaystyle \\frac{2 \\, \\tau}{\\tau - 1}$"
      ],
      "text/plain": [
       "2*tau/(tau - 1)"
      ]
     },
     "metadata": {},
     "output_type": "display_data"
    },
    {
     "data": {
      "text/html": [
       "<html>\\(\\displaystyle \\frac{3 \\, \\tau}{\\tau - 1}\\)</html>"
      ],
      "text/latex": [
       "$\\displaystyle \\frac{3 \\, \\tau}{\\tau - 1}$"
      ],
      "text/plain": [
       "3*tau/(tau - 1)"
      ]
     },
     "metadata": {},
     "output_type": "display_data"
    }
   ],
   "source": [
    "def theta_Zel_spherical(d):\n",
    "    theta = theta_Zel(d)\n",
    "    taus = get_tau_vars(d)\n",
    "    subs = {v: τ for v in taus[:d]}\n",
    "    subs.update({v: 0 for v in taus[d:]})\n",
    "    return theta.subs(subs).factor()\n",
    "\n",
    "show(theta_Zel_spherical(2))\n",
    "show(theta_Zel_spherical(3))"
   ]
  },
  {
   "cell_type": "code",
   "execution_count": 6,
   "id": "2285f1fd",
   "metadata": {
    "vscode": {
     "languageId": "python"
    }
   },
   "outputs": [],
   "source": [
    "# 2) Joint action in the full tau-space\n",
    "def action_joint(d, Λ, μ, nu=None):\n",
    "    if nu is None:\n",
    "        nu = d\n",
    "    taus = get_tau_vars(d)\n",
    "    Δ    = delta_contrast_ellipsoidal(d, nu)\n",
    "    θ    = theta_Zel(d)\n",
    "    P    = precision_matrix(d)\n",
    "    quad = sum(taus[i] * sum(P[i,j]*taus[j] for j in range(len(taus)))\n",
    "               for i in range(len(taus)))\n",
    "    return Λ*Δ + θ*μ - (1/2)*quad\n",
    "\n",
    "# 3) Spherical reduction: τ_{ij} = τ * δ_{ij} -> single var\n",
    "def action_spherical_joint(d, Λ, μ, nu=None):\n",
    "    # substitute τ_ii=τ, τ_ij≠i=0 into joint action\n",
    "    S_full = action_joint(d, Λ, μ, nu)\n",
    "    taus = get_tau_vars(d)\n",
    "    subs = {v: τ for v in taus[:d]}\n",
    "    subs.update({v: 0 for v in taus[d:]})\n",
    "    return S_full.subs(subs)\n"
   ]
  },
  {
   "cell_type": "code",
   "execution_count": 7,
   "id": "b7ede006",
   "metadata": {
    "vscode": {
     "languageId": "python"
    }
   },
   "outputs": [],
   "source": [
    "def hessian_joint_full(d, Λ, μ, nu=None):\n",
    "    if nu is None:\n",
    "        nu = d\n",
    "    taus = get_tau_vars(d)\n",
    "    S    = action_joint(d, Λ, μ, nu)\n",
    "    n    = len(taus)\n",
    "    H    = Matrix(SR, n, n)\n",
    "    for i in range(n):\n",
    "        for j in range(n):\n",
    "            H[i,j] = diff(S, taus[i], taus[j])\n",
    "    return H\n",
    "def hessian_spherical(d, Λ, μ, nu=None):\n",
    "    if nu is None:\n",
    "        nu = d\n",
    "    Hf   = hessian_joint_full(d, Λ, μ, nu)\n",
    "    taus = get_tau_vars(d)\n",
    "    subs = {v:τ for v in taus[:d]}\n",
    "    subs.update({v:0 for v in taus[d:]})\n",
    "    return Hf.subs(subs).apply_map(lambda x: x.factor())\n"
   ]
  },
  {
   "cell_type": "code",
   "execution_count": 8,
   "id": "19ac9b0b",
   "metadata": {
    "vscode": {
     "languageId": "python"
    }
   },
   "outputs": [
    {
     "data": {
      "text/html": [
       "<html>\\(\\displaystyle -\\frac{3}{4} \\, {\\left(4 \\, \\tau_{11} - \\tau_{22} - \\tau_{33}\\right)} \\tau_{11} - \\frac{15}{2} \\, \\tau_{12}^{2} - \\frac{15}{2} \\, \\tau_{13}^{2} + \\frac{3}{4} \\, {\\left(\\tau_{11} - 4 \\, \\tau_{22} + \\tau_{33}\\right)} \\tau_{22} - \\frac{15}{2} \\, \\tau_{23}^{2} + \\frac{3}{4} \\, {\\left(\\tau_{11} + \\tau_{22} - 4 \\, \\tau_{33}\\right)} \\tau_{33} + \\Lambda {\\left(\\frac{1}{{\\left(\\tau_{23}^{2} - {\\left(\\tau_{22} - 1\\right)} {\\left(\\tau_{33} - 1\\right)}\\right)} {\\left(\\tau_{11} - 1\\right)} - {\\left(\\tau_{13} \\tau_{23} - \\tau_{12} {\\left(\\tau_{33} - 1\\right)}\\right)} \\tau_{12} + {\\left(\\tau_{13} {\\left(\\tau_{22} - 1\\right)} - \\tau_{12} \\tau_{23}\\right)} \\tau_{13}} - 1\\right)} + \\frac{{\\left(3 \\, \\tau_{13}^{2} \\tau_{22} - 6 \\, \\tau_{12} \\tau_{13} \\tau_{23} + 3 \\, \\tau_{11} \\tau_{23}^{2} + 3 \\, \\tau_{12}^{2} \\tau_{33} - 3 \\, \\tau_{11} \\tau_{22} \\tau_{33} - 2 \\, \\tau_{12}^{2} - 2 \\, \\tau_{13}^{2} + 2 \\, \\tau_{11} \\tau_{22} - 2 \\, \\tau_{23}^{2} + 2 \\, \\tau_{11} \\tau_{33} + 2 \\, \\tau_{22} \\tau_{33} - \\tau_{11} - \\tau_{22} - \\tau_{33}\\right)} \\mu}{\\tau_{13}^{2} \\tau_{22} - 2 \\, \\tau_{12} \\tau_{13} \\tau_{23} + \\tau_{11} \\tau_{23}^{2} + \\tau_{12}^{2} \\tau_{33} - \\tau_{11} \\tau_{22} \\tau_{33} - \\tau_{12}^{2} - \\tau_{13}^{2} + \\tau_{11} \\tau_{22} - \\tau_{23}^{2} + \\tau_{11} \\tau_{33} + \\tau_{22} \\tau_{33} - \\tau_{11} - \\tau_{22} - \\tau_{33} + 1}\\)</html>"
      ],
      "text/latex": [
       "$\\displaystyle -\\frac{3}{4} \\, {\\left(4 \\, \\tau_{11} - \\tau_{22} - \\tau_{33}\\right)} \\tau_{11} - \\frac{15}{2} \\, \\tau_{12}^{2} - \\frac{15}{2} \\, \\tau_{13}^{2} + \\frac{3}{4} \\, {\\left(\\tau_{11} - 4 \\, \\tau_{22} + \\tau_{33}\\right)} \\tau_{22} - \\frac{15}{2} \\, \\tau_{23}^{2} + \\frac{3}{4} \\, {\\left(\\tau_{11} + \\tau_{22} - 4 \\, \\tau_{33}\\right)} \\tau_{33} + \\Lambda {\\left(\\frac{1}{{\\left(\\tau_{23}^{2} - {\\left(\\tau_{22} - 1\\right)} {\\left(\\tau_{33} - 1\\right)}\\right)} {\\left(\\tau_{11} - 1\\right)} - {\\left(\\tau_{13} \\tau_{23} - \\tau_{12} {\\left(\\tau_{33} - 1\\right)}\\right)} \\tau_{12} + {\\left(\\tau_{13} {\\left(\\tau_{22} - 1\\right)} - \\tau_{12} \\tau_{23}\\right)} \\tau_{13}} - 1\\right)} + \\frac{{\\left(3 \\, \\tau_{13}^{2} \\tau_{22} - 6 \\, \\tau_{12} \\tau_{13} \\tau_{23} + 3 \\, \\tau_{11} \\tau_{23}^{2} + 3 \\, \\tau_{12}^{2} \\tau_{33} - 3 \\, \\tau_{11} \\tau_{22} \\tau_{33} - 2 \\, \\tau_{12}^{2} - 2 \\, \\tau_{13}^{2} + 2 \\, \\tau_{11} \\tau_{22} - 2 \\, \\tau_{23}^{2} + 2 \\, \\tau_{11} \\tau_{33} + 2 \\, \\tau_{22} \\tau_{33} - \\tau_{11} - \\tau_{22} - \\tau_{33}\\right)} \\mu}{\\tau_{13}^{2} \\tau_{22} - 2 \\, \\tau_{12} \\tau_{13} \\tau_{23} + \\tau_{11} \\tau_{23}^{2} + \\tau_{12}^{2} \\tau_{33} - \\tau_{11} \\tau_{22} \\tau_{33} - \\tau_{12}^{2} - \\tau_{13}^{2} + \\tau_{11} \\tau_{22} - \\tau_{23}^{2} + \\tau_{11} \\tau_{33} + \\tau_{22} \\tau_{33} - \\tau_{11} - \\tau_{22} - \\tau_{33} + 1}$"
      ],
      "text/plain": [
       "-3/4*(4*tau11 - tau22 - tau33)*tau11 - 15/2*tau12^2 - 15/2*tau13^2 + 3/4*(tau11 - 4*tau22 + tau33)*tau22 - 15/2*tau23^2 + 3/4*(tau11 + tau22 - 4*tau33)*tau33 + Lambda*(1/((tau23^2 - (tau22 - 1)*(tau33 - 1))*(tau11 - 1) - (tau13*tau23 - tau12*(tau33 - 1))*tau12 + (tau13*(tau22 - 1) - tau12*tau23)*tau13) - 1) + (3*tau13^2*tau22 - 6*tau12*tau13*tau23 + 3*tau11*tau23^2 + 3*tau12^2*tau33 - 3*tau11*tau22*tau33 - 2*tau12^2 - 2*tau13^2 + 2*tau11*tau22 - 2*tau23^2 + 2*tau11*tau33 + 2*tau22*tau33 - tau11 - tau22 - tau33)*mu/(tau13^2*tau22 - 2*tau12*tau13*tau23 + tau11*tau23^2 + tau12^2*tau33 - tau11*tau22*tau33 - tau12^2 - tau13^2 + tau11*tau22 - tau23^2 + tau11*tau33 + tau22*tau33 - tau11 - tau22 - tau33 + 1)"
      ]
     },
     "metadata": {},
     "output_type": "display_data"
    },
    {
     "data": {
      "text/html": [
       "<html>\\(\\displaystyle -\\frac{9}{2} \\, \\tau^{2} - \\Lambda {\\left(\\frac{1}{{\\left(\\tau - 1\\right)}^{3}} + 1\\right)} + \\frac{3 \\, {\\left(\\tau^{3} - 2 \\, \\tau^{2} + \\tau\\right)} \\mu}{\\tau^{3} - 3 \\, \\tau^{2} + 3 \\, \\tau - 1}\\)</html>"
      ],
      "text/latex": [
       "$\\displaystyle -\\frac{9}{2} \\, \\tau^{2} - \\Lambda {\\left(\\frac{1}{{\\left(\\tau - 1\\right)}^{3}} + 1\\right)} + \\frac{3 \\, {\\left(\\tau^{3} - 2 \\, \\tau^{2} + \\tau\\right)} \\mu}{\\tau^{3} - 3 \\, \\tau^{2} + 3 \\, \\tau - 1}$"
      ],
      "text/plain": [
       "-9/2*tau^2 - Lambda*(1/(tau - 1)^3 + 1) + 3*(tau^3 - 2*tau^2 + tau)*mu/(tau^3 - 3*tau^2 + 3*tau - 1)"
      ]
     },
     "metadata": {},
     "output_type": "display_data"
    }
   ],
   "source": [
    "show(action_joint(3, Λ, μ))\n",
    "show(action_spherical_joint(3, Λ, μ))"
   ]
  },
  {
   "cell_type": "code",
   "execution_count": 9,
   "id": "00f4e16b",
   "metadata": {
    "vscode": {
     "languageId": "python"
    }
   },
   "outputs": [
    {
     "data": {
      "text/html": [
       "<html>\\(\\displaystyle \\left(\\begin{array}{rrr}\n",
       "-\\frac{2 \\, \\mu {\\left(2 \\, \\tau_{22} - 1\\right)} {\\left(\\tau_{22} - 1\\right)}}{{\\left(\\tau_{12}^{2} - \\tau_{11} \\tau_{22} + \\tau_{11} + \\tau_{22} - 1\\right)}^{2}} + \\frac{2 \\, {\\left(2 \\, \\tau_{12}^{2} - 2 \\, \\tau_{11} \\tau_{22} + \\tau_{11} + \\tau_{22}\\right)} \\mu {\\left(\\tau_{22} - 1\\right)}^{2}}{{\\left(\\tau_{12}^{2} - \\tau_{11} \\tau_{22} + \\tau_{11} + \\tau_{22} - 1\\right)}^{3}} - \\frac{2 \\, \\Lambda {\\left(\\tau_{22} - 1\\right)}^{2}}{{\\left(\\tau_{12}^{2} - {\\left(\\tau_{11} - 1\\right)} {\\left(\\tau_{22} - 1\\right)}\\right)}^{3}} - 3 & -\\frac{\\mu {\\left(\\tau_{11} - 1\\right)} {\\left(2 \\, \\tau_{22} - 1\\right)}}{{\\left(\\tau_{12}^{2} - \\tau_{11} \\tau_{22} + \\tau_{11} + \\tau_{22} - 1\\right)}^{2}} - \\frac{\\mu {\\left(2 \\, \\tau_{11} - 1\\right)} {\\left(\\tau_{22} - 1\\right)}}{{\\left(\\tau_{12}^{2} - \\tau_{11} \\tau_{22} + \\tau_{11} + \\tau_{22} - 1\\right)}^{2}} + \\frac{2 \\, {\\left(2 \\, \\tau_{12}^{2} - 2 \\, \\tau_{11} \\tau_{22} + \\tau_{11} + \\tau_{22}\\right)} \\mu {\\left(\\tau_{11} - 1\\right)} {\\left(\\tau_{22} - 1\\right)}}{{\\left(\\tau_{12}^{2} - \\tau_{11} \\tau_{22} + \\tau_{11} + \\tau_{22} - 1\\right)}^{3}} + \\frac{{\\left(2 \\, \\tau_{12}^{2} - 2 \\, \\tau_{11} \\tau_{22} + \\tau_{11} + \\tau_{22}\\right)} \\mu}{{\\left(\\tau_{12}^{2} - \\tau_{11} \\tau_{22} + \\tau_{11} + \\tau_{22} - 1\\right)}^{2}} - \\frac{2 \\, \\mu}{\\tau_{12}^{2} - \\tau_{11} \\tau_{22} + \\tau_{11} + \\tau_{22} - 1} - \\frac{2 \\, \\Lambda {\\left(\\tau_{11} - 1\\right)} {\\left(\\tau_{22} - 1\\right)}}{{\\left(\\tau_{12}^{2} - {\\left(\\tau_{11} - 1\\right)} {\\left(\\tau_{22} - 1\\right)}\\right)}^{3}} - \\frac{\\Lambda}{{\\left(\\tau_{12}^{2} - {\\left(\\tau_{11} - 1\\right)} {\\left(\\tau_{22} - 1\\right)}\\right)}^{2}} + 1 & \\frac{2 \\, \\mu \\tau_{12} {\\left(2 \\, \\tau_{22} - 1\\right)}}{{\\left(\\tau_{12}^{2} - \\tau_{11} \\tau_{22} + \\tau_{11} + \\tau_{22} - 1\\right)}^{2}} - \\frac{4 \\, {\\left(2 \\, \\tau_{12}^{2} - 2 \\, \\tau_{11} \\tau_{22} + \\tau_{11} + \\tau_{22}\\right)} \\mu \\tau_{12} {\\left(\\tau_{22} - 1\\right)}}{{\\left(\\tau_{12}^{2} - \\tau_{11} \\tau_{22} + \\tau_{11} + \\tau_{22} - 1\\right)}^{3}} + \\frac{4 \\, \\mu \\tau_{12} {\\left(\\tau_{22} - 1\\right)}}{{\\left(\\tau_{12}^{2} - \\tau_{11} \\tau_{22} + \\tau_{11} + \\tau_{22} - 1\\right)}^{2}} + \\frac{4 \\, \\Lambda \\tau_{12} {\\left(\\tau_{22} - 1\\right)}}{{\\left(\\tau_{12}^{2} - {\\left(\\tau_{11} - 1\\right)} {\\left(\\tau_{22} - 1\\right)}\\right)}^{3}} \\\\\n",
       "-\\frac{\\mu {\\left(\\tau_{11} - 1\\right)} {\\left(2 \\, \\tau_{22} - 1\\right)}}{{\\left(\\tau_{12}^{2} - \\tau_{11} \\tau_{22} + \\tau_{11} + \\tau_{22} - 1\\right)}^{2}} - \\frac{\\mu {\\left(2 \\, \\tau_{11} - 1\\right)} {\\left(\\tau_{22} - 1\\right)}}{{\\left(\\tau_{12}^{2} - \\tau_{11} \\tau_{22} + \\tau_{11} + \\tau_{22} - 1\\right)}^{2}} + \\frac{2 \\, {\\left(2 \\, \\tau_{12}^{2} - 2 \\, \\tau_{11} \\tau_{22} + \\tau_{11} + \\tau_{22}\\right)} \\mu {\\left(\\tau_{11} - 1\\right)} {\\left(\\tau_{22} - 1\\right)}}{{\\left(\\tau_{12}^{2} - \\tau_{11} \\tau_{22} + \\tau_{11} + \\tau_{22} - 1\\right)}^{3}} + \\frac{{\\left(2 \\, \\tau_{12}^{2} - 2 \\, \\tau_{11} \\tau_{22} + \\tau_{11} + \\tau_{22}\\right)} \\mu}{{\\left(\\tau_{12}^{2} - \\tau_{11} \\tau_{22} + \\tau_{11} + \\tau_{22} - 1\\right)}^{2}} - \\frac{2 \\, \\mu}{\\tau_{12}^{2} - \\tau_{11} \\tau_{22} + \\tau_{11} + \\tau_{22} - 1} - \\frac{2 \\, \\Lambda {\\left(\\tau_{11} - 1\\right)} {\\left(\\tau_{22} - 1\\right)}}{{\\left(\\tau_{12}^{2} - {\\left(\\tau_{11} - 1\\right)} {\\left(\\tau_{22} - 1\\right)}\\right)}^{3}} - \\frac{\\Lambda}{{\\left(\\tau_{12}^{2} - {\\left(\\tau_{11} - 1\\right)} {\\left(\\tau_{22} - 1\\right)}\\right)}^{2}} + 1 & -\\frac{2 \\, \\mu {\\left(2 \\, \\tau_{11} - 1\\right)} {\\left(\\tau_{11} - 1\\right)}}{{\\left(\\tau_{12}^{2} - \\tau_{11} \\tau_{22} + \\tau_{11} + \\tau_{22} - 1\\right)}^{2}} + \\frac{2 \\, {\\left(2 \\, \\tau_{12}^{2} - 2 \\, \\tau_{11} \\tau_{22} + \\tau_{11} + \\tau_{22}\\right)} \\mu {\\left(\\tau_{11} - 1\\right)}^{2}}{{\\left(\\tau_{12}^{2} - \\tau_{11} \\tau_{22} + \\tau_{11} + \\tau_{22} - 1\\right)}^{3}} - \\frac{2 \\, \\Lambda {\\left(\\tau_{11} - 1\\right)}^{2}}{{\\left(\\tau_{12}^{2} - {\\left(\\tau_{11} - 1\\right)} {\\left(\\tau_{22} - 1\\right)}\\right)}^{3}} - 3 & \\frac{2 \\, \\mu {\\left(2 \\, \\tau_{11} - 1\\right)} \\tau_{12}}{{\\left(\\tau_{12}^{2} - \\tau_{11} \\tau_{22} + \\tau_{11} + \\tau_{22} - 1\\right)}^{2}} - \\frac{4 \\, {\\left(2 \\, \\tau_{12}^{2} - 2 \\, \\tau_{11} \\tau_{22} + \\tau_{11} + \\tau_{22}\\right)} \\mu {\\left(\\tau_{11} - 1\\right)} \\tau_{12}}{{\\left(\\tau_{12}^{2} - \\tau_{11} \\tau_{22} + \\tau_{11} + \\tau_{22} - 1\\right)}^{3}} + \\frac{4 \\, \\mu {\\left(\\tau_{11} - 1\\right)} \\tau_{12}}{{\\left(\\tau_{12}^{2} - \\tau_{11} \\tau_{22} + \\tau_{11} + \\tau_{22} - 1\\right)}^{2}} + \\frac{4 \\, \\Lambda {\\left(\\tau_{11} - 1\\right)} \\tau_{12}}{{\\left(\\tau_{12}^{2} - {\\left(\\tau_{11} - 1\\right)} {\\left(\\tau_{22} - 1\\right)}\\right)}^{3}} \\\\\n",
       "\\frac{2 \\, \\mu \\tau_{12} {\\left(2 \\, \\tau_{22} - 1\\right)}}{{\\left(\\tau_{12}^{2} - \\tau_{11} \\tau_{22} + \\tau_{11} + \\tau_{22} - 1\\right)}^{2}} - \\frac{4 \\, {\\left(2 \\, \\tau_{12}^{2} - 2 \\, \\tau_{11} \\tau_{22} + \\tau_{11} + \\tau_{22}\\right)} \\mu \\tau_{12} {\\left(\\tau_{22} - 1\\right)}}{{\\left(\\tau_{12}^{2} - \\tau_{11} \\tau_{22} + \\tau_{11} + \\tau_{22} - 1\\right)}^{3}} + \\frac{4 \\, \\mu \\tau_{12} {\\left(\\tau_{22} - 1\\right)}}{{\\left(\\tau_{12}^{2} - \\tau_{11} \\tau_{22} + \\tau_{11} + \\tau_{22} - 1\\right)}^{2}} + \\frac{4 \\, \\Lambda \\tau_{12} {\\left(\\tau_{22} - 1\\right)}}{{\\left(\\tau_{12}^{2} - {\\left(\\tau_{11} - 1\\right)} {\\left(\\tau_{22} - 1\\right)}\\right)}^{3}} & \\frac{2 \\, \\mu {\\left(2 \\, \\tau_{11} - 1\\right)} \\tau_{12}}{{\\left(\\tau_{12}^{2} - \\tau_{11} \\tau_{22} + \\tau_{11} + \\tau_{22} - 1\\right)}^{2}} - \\frac{4 \\, {\\left(2 \\, \\tau_{12}^{2} - 2 \\, \\tau_{11} \\tau_{22} + \\tau_{11} + \\tau_{22}\\right)} \\mu {\\left(\\tau_{11} - 1\\right)} \\tau_{12}}{{\\left(\\tau_{12}^{2} - \\tau_{11} \\tau_{22} + \\tau_{11} + \\tau_{22} - 1\\right)}^{3}} + \\frac{4 \\, \\mu {\\left(\\tau_{11} - 1\\right)} \\tau_{12}}{{\\left(\\tau_{12}^{2} - \\tau_{11} \\tau_{22} + \\tau_{11} + \\tau_{22} - 1\\right)}^{2}} + \\frac{4 \\, \\Lambda {\\left(\\tau_{11} - 1\\right)} \\tau_{12}}{{\\left(\\tau_{12}^{2} - {\\left(\\tau_{11} - 1\\right)} {\\left(\\tau_{22} - 1\\right)}\\right)}^{3}} & \\frac{8 \\, {\\left(2 \\, \\tau_{12}^{2} - 2 \\, \\tau_{11} \\tau_{22} + \\tau_{11} + \\tau_{22}\\right)} \\mu \\tau_{12}^{2}}{{\\left(\\tau_{12}^{2} - \\tau_{11} \\tau_{22} + \\tau_{11} + \\tau_{22} - 1\\right)}^{3}} - \\frac{16 \\, \\mu \\tau_{12}^{2}}{{\\left(\\tau_{12}^{2} - \\tau_{11} \\tau_{22} + \\tau_{11} + \\tau_{22} - 1\\right)}^{2}} - \\frac{2 \\, {\\left(2 \\, \\tau_{12}^{2} - 2 \\, \\tau_{11} \\tau_{22} + \\tau_{11} + \\tau_{22}\\right)} \\mu}{{\\left(\\tau_{12}^{2} - \\tau_{11} \\tau_{22} + \\tau_{11} + \\tau_{22} - 1\\right)}^{2}} + \\frac{4 \\, \\mu}{\\tau_{12}^{2} - \\tau_{11} \\tau_{22} + \\tau_{11} + \\tau_{22} - 1} - \\frac{8 \\, \\Lambda \\tau_{12}^{2}}{{\\left(\\tau_{12}^{2} - {\\left(\\tau_{11} - 1\\right)} {\\left(\\tau_{22} - 1\\right)}\\right)}^{3}} + \\frac{2 \\, \\Lambda}{{\\left(\\tau_{12}^{2} - {\\left(\\tau_{11} - 1\\right)} {\\left(\\tau_{22} - 1\\right)}\\right)}^{2}} - 8\n",
       "\\end{array}\\right)\\)</html>"
      ],
      "text/latex": [
       "$\\displaystyle \\left(\\begin{array}{rrr}\n",
       "-\\frac{2 \\, \\mu {\\left(2 \\, \\tau_{22} - 1\\right)} {\\left(\\tau_{22} - 1\\right)}}{{\\left(\\tau_{12}^{2} - \\tau_{11} \\tau_{22} + \\tau_{11} + \\tau_{22} - 1\\right)}^{2}} + \\frac{2 \\, {\\left(2 \\, \\tau_{12}^{2} - 2 \\, \\tau_{11} \\tau_{22} + \\tau_{11} + \\tau_{22}\\right)} \\mu {\\left(\\tau_{22} - 1\\right)}^{2}}{{\\left(\\tau_{12}^{2} - \\tau_{11} \\tau_{22} + \\tau_{11} + \\tau_{22} - 1\\right)}^{3}} - \\frac{2 \\, \\Lambda {\\left(\\tau_{22} - 1\\right)}^{2}}{{\\left(\\tau_{12}^{2} - {\\left(\\tau_{11} - 1\\right)} {\\left(\\tau_{22} - 1\\right)}\\right)}^{3}} - 3 & -\\frac{\\mu {\\left(\\tau_{11} - 1\\right)} {\\left(2 \\, \\tau_{22} - 1\\right)}}{{\\left(\\tau_{12}^{2} - \\tau_{11} \\tau_{22} + \\tau_{11} + \\tau_{22} - 1\\right)}^{2}} - \\frac{\\mu {\\left(2 \\, \\tau_{11} - 1\\right)} {\\left(\\tau_{22} - 1\\right)}}{{\\left(\\tau_{12}^{2} - \\tau_{11} \\tau_{22} + \\tau_{11} + \\tau_{22} - 1\\right)}^{2}} + \\frac{2 \\, {\\left(2 \\, \\tau_{12}^{2} - 2 \\, \\tau_{11} \\tau_{22} + \\tau_{11} + \\tau_{22}\\right)} \\mu {\\left(\\tau_{11} - 1\\right)} {\\left(\\tau_{22} - 1\\right)}}{{\\left(\\tau_{12}^{2} - \\tau_{11} \\tau_{22} + \\tau_{11} + \\tau_{22} - 1\\right)}^{3}} + \\frac{{\\left(2 \\, \\tau_{12}^{2} - 2 \\, \\tau_{11} \\tau_{22} + \\tau_{11} + \\tau_{22}\\right)} \\mu}{{\\left(\\tau_{12}^{2} - \\tau_{11} \\tau_{22} + \\tau_{11} + \\tau_{22} - 1\\right)}^{2}} - \\frac{2 \\, \\mu}{\\tau_{12}^{2} - \\tau_{11} \\tau_{22} + \\tau_{11} + \\tau_{22} - 1} - \\frac{2 \\, \\Lambda {\\left(\\tau_{11} - 1\\right)} {\\left(\\tau_{22} - 1\\right)}}{{\\left(\\tau_{12}^{2} - {\\left(\\tau_{11} - 1\\right)} {\\left(\\tau_{22} - 1\\right)}\\right)}^{3}} - \\frac{\\Lambda}{{\\left(\\tau_{12}^{2} - {\\left(\\tau_{11} - 1\\right)} {\\left(\\tau_{22} - 1\\right)}\\right)}^{2}} + 1 & \\frac{2 \\, \\mu \\tau_{12} {\\left(2 \\, \\tau_{22} - 1\\right)}}{{\\left(\\tau_{12}^{2} - \\tau_{11} \\tau_{22} + \\tau_{11} + \\tau_{22} - 1\\right)}^{2}} - \\frac{4 \\, {\\left(2 \\, \\tau_{12}^{2} - 2 \\, \\tau_{11} \\tau_{22} + \\tau_{11} + \\tau_{22}\\right)} \\mu \\tau_{12} {\\left(\\tau_{22} - 1\\right)}}{{\\left(\\tau_{12}^{2} - \\tau_{11} \\tau_{22} + \\tau_{11} + \\tau_{22} - 1\\right)}^{3}} + \\frac{4 \\, \\mu \\tau_{12} {\\left(\\tau_{22} - 1\\right)}}{{\\left(\\tau_{12}^{2} - \\tau_{11} \\tau_{22} + \\tau_{11} + \\tau_{22} - 1\\right)}^{2}} + \\frac{4 \\, \\Lambda \\tau_{12} {\\left(\\tau_{22} - 1\\right)}}{{\\left(\\tau_{12}^{2} - {\\left(\\tau_{11} - 1\\right)} {\\left(\\tau_{22} - 1\\right)}\\right)}^{3}} \\\\\n",
       "-\\frac{\\mu {\\left(\\tau_{11} - 1\\right)} {\\left(2 \\, \\tau_{22} - 1\\right)}}{{\\left(\\tau_{12}^{2} - \\tau_{11} \\tau_{22} + \\tau_{11} + \\tau_{22} - 1\\right)}^{2}} - \\frac{\\mu {\\left(2 \\, \\tau_{11} - 1\\right)} {\\left(\\tau_{22} - 1\\right)}}{{\\left(\\tau_{12}^{2} - \\tau_{11} \\tau_{22} + \\tau_{11} + \\tau_{22} - 1\\right)}^{2}} + \\frac{2 \\, {\\left(2 \\, \\tau_{12}^{2} - 2 \\, \\tau_{11} \\tau_{22} + \\tau_{11} + \\tau_{22}\\right)} \\mu {\\left(\\tau_{11} - 1\\right)} {\\left(\\tau_{22} - 1\\right)}}{{\\left(\\tau_{12}^{2} - \\tau_{11} \\tau_{22} + \\tau_{11} + \\tau_{22} - 1\\right)}^{3}} + \\frac{{\\left(2 \\, \\tau_{12}^{2} - 2 \\, \\tau_{11} \\tau_{22} + \\tau_{11} + \\tau_{22}\\right)} \\mu}{{\\left(\\tau_{12}^{2} - \\tau_{11} \\tau_{22} + \\tau_{11} + \\tau_{22} - 1\\right)}^{2}} - \\frac{2 \\, \\mu}{\\tau_{12}^{2} - \\tau_{11} \\tau_{22} + \\tau_{11} + \\tau_{22} - 1} - \\frac{2 \\, \\Lambda {\\left(\\tau_{11} - 1\\right)} {\\left(\\tau_{22} - 1\\right)}}{{\\left(\\tau_{12}^{2} - {\\left(\\tau_{11} - 1\\right)} {\\left(\\tau_{22} - 1\\right)}\\right)}^{3}} - \\frac{\\Lambda}{{\\left(\\tau_{12}^{2} - {\\left(\\tau_{11} - 1\\right)} {\\left(\\tau_{22} - 1\\right)}\\right)}^{2}} + 1 & -\\frac{2 \\, \\mu {\\left(2 \\, \\tau_{11} - 1\\right)} {\\left(\\tau_{11} - 1\\right)}}{{\\left(\\tau_{12}^{2} - \\tau_{11} \\tau_{22} + \\tau_{11} + \\tau_{22} - 1\\right)}^{2}} + \\frac{2 \\, {\\left(2 \\, \\tau_{12}^{2} - 2 \\, \\tau_{11} \\tau_{22} + \\tau_{11} + \\tau_{22}\\right)} \\mu {\\left(\\tau_{11} - 1\\right)}^{2}}{{\\left(\\tau_{12}^{2} - \\tau_{11} \\tau_{22} + \\tau_{11} + \\tau_{22} - 1\\right)}^{3}} - \\frac{2 \\, \\Lambda {\\left(\\tau_{11} - 1\\right)}^{2}}{{\\left(\\tau_{12}^{2} - {\\left(\\tau_{11} - 1\\right)} {\\left(\\tau_{22} - 1\\right)}\\right)}^{3}} - 3 & \\frac{2 \\, \\mu {\\left(2 \\, \\tau_{11} - 1\\right)} \\tau_{12}}{{\\left(\\tau_{12}^{2} - \\tau_{11} \\tau_{22} + \\tau_{11} + \\tau_{22} - 1\\right)}^{2}} - \\frac{4 \\, {\\left(2 \\, \\tau_{12}^{2} - 2 \\, \\tau_{11} \\tau_{22} + \\tau_{11} + \\tau_{22}\\right)} \\mu {\\left(\\tau_{11} - 1\\right)} \\tau_{12}}{{\\left(\\tau_{12}^{2} - \\tau_{11} \\tau_{22} + \\tau_{11} + \\tau_{22} - 1\\right)}^{3}} + \\frac{4 \\, \\mu {\\left(\\tau_{11} - 1\\right)} \\tau_{12}}{{\\left(\\tau_{12}^{2} - \\tau_{11} \\tau_{22} + \\tau_{11} + \\tau_{22} - 1\\right)}^{2}} + \\frac{4 \\, \\Lambda {\\left(\\tau_{11} - 1\\right)} \\tau_{12}}{{\\left(\\tau_{12}^{2} - {\\left(\\tau_{11} - 1\\right)} {\\left(\\tau_{22} - 1\\right)}\\right)}^{3}} \\\\\n",
       "\\frac{2 \\, \\mu \\tau_{12} {\\left(2 \\, \\tau_{22} - 1\\right)}}{{\\left(\\tau_{12}^{2} - \\tau_{11} \\tau_{22} + \\tau_{11} + \\tau_{22} - 1\\right)}^{2}} - \\frac{4 \\, {\\left(2 \\, \\tau_{12}^{2} - 2 \\, \\tau_{11} \\tau_{22} + \\tau_{11} + \\tau_{22}\\right)} \\mu \\tau_{12} {\\left(\\tau_{22} - 1\\right)}}{{\\left(\\tau_{12}^{2} - \\tau_{11} \\tau_{22} + \\tau_{11} + \\tau_{22} - 1\\right)}^{3}} + \\frac{4 \\, \\mu \\tau_{12} {\\left(\\tau_{22} - 1\\right)}}{{\\left(\\tau_{12}^{2} - \\tau_{11} \\tau_{22} + \\tau_{11} + \\tau_{22} - 1\\right)}^{2}} + \\frac{4 \\, \\Lambda \\tau_{12} {\\left(\\tau_{22} - 1\\right)}}{{\\left(\\tau_{12}^{2} - {\\left(\\tau_{11} - 1\\right)} {\\left(\\tau_{22} - 1\\right)}\\right)}^{3}} & \\frac{2 \\, \\mu {\\left(2 \\, \\tau_{11} - 1\\right)} \\tau_{12}}{{\\left(\\tau_{12}^{2} - \\tau_{11} \\tau_{22} + \\tau_{11} + \\tau_{22} - 1\\right)}^{2}} - \\frac{4 \\, {\\left(2 \\, \\tau_{12}^{2} - 2 \\, \\tau_{11} \\tau_{22} + \\tau_{11} + \\tau_{22}\\right)} \\mu {\\left(\\tau_{11} - 1\\right)} \\tau_{12}}{{\\left(\\tau_{12}^{2} - \\tau_{11} \\tau_{22} + \\tau_{11} + \\tau_{22} - 1\\right)}^{3}} + \\frac{4 \\, \\mu {\\left(\\tau_{11} - 1\\right)} \\tau_{12}}{{\\left(\\tau_{12}^{2} - \\tau_{11} \\tau_{22} + \\tau_{11} + \\tau_{22} - 1\\right)}^{2}} + \\frac{4 \\, \\Lambda {\\left(\\tau_{11} - 1\\right)} \\tau_{12}}{{\\left(\\tau_{12}^{2} - {\\left(\\tau_{11} - 1\\right)} {\\left(\\tau_{22} - 1\\right)}\\right)}^{3}} & \\frac{8 \\, {\\left(2 \\, \\tau_{12}^{2} - 2 \\, \\tau_{11} \\tau_{22} + \\tau_{11} + \\tau_{22}\\right)} \\mu \\tau_{12}^{2}}{{\\left(\\tau_{12}^{2} - \\tau_{11} \\tau_{22} + \\tau_{11} + \\tau_{22} - 1\\right)}^{3}} - \\frac{16 \\, \\mu \\tau_{12}^{2}}{{\\left(\\tau_{12}^{2} - \\tau_{11} \\tau_{22} + \\tau_{11} + \\tau_{22} - 1\\right)}^{2}} - \\frac{2 \\, {\\left(2 \\, \\tau_{12}^{2} - 2 \\, \\tau_{11} \\tau_{22} + \\tau_{11} + \\tau_{22}\\right)} \\mu}{{\\left(\\tau_{12}^{2} - \\tau_{11} \\tau_{22} + \\tau_{11} + \\tau_{22} - 1\\right)}^{2}} + \\frac{4 \\, \\mu}{\\tau_{12}^{2} - \\tau_{11} \\tau_{22} + \\tau_{11} + \\tau_{22} - 1} - \\frac{8 \\, \\Lambda \\tau_{12}^{2}}{{\\left(\\tau_{12}^{2} - {\\left(\\tau_{11} - 1\\right)} {\\left(\\tau_{22} - 1\\right)}\\right)}^{3}} + \\frac{2 \\, \\Lambda}{{\\left(\\tau_{12}^{2} - {\\left(\\tau_{11} - 1\\right)} {\\left(\\tau_{22} - 1\\right)}\\right)}^{2}} - 8\n",
       "\\end{array}\\right)$"
      ],
      "text/plain": [
       "[                                                                                                                                                                                                                                                                                                -2*mu*(2*tau22 - 1)*(tau22 - 1)/(tau12^2 - tau11*tau22 + tau11 + tau22 - 1)^2 + 2*(2*tau12^2 - 2*tau11*tau22 + tau11 + tau22)*mu*(tau22 - 1)^2/(tau12^2 - tau11*tau22 + tau11 + tau22 - 1)^3 - 2*Lambda*(tau22 - 1)^2/(tau12^2 - (tau11 - 1)*(tau22 - 1))^3 - 3 -mu*(tau11 - 1)*(2*tau22 - 1)/(tau12^2 - tau11*tau22 + tau11 + tau22 - 1)^2 - mu*(2*tau11 - 1)*(tau22 - 1)/(tau12^2 - tau11*tau22 + tau11 + tau22 - 1)^2 + 2*(2*tau12^2 - 2*tau11*tau22 + tau11 + tau22)*mu*(tau11 - 1)*(tau22 - 1)/(tau12^2 - tau11*tau22 + tau11 + tau22 - 1)^3 + (2*tau12^2 - 2*tau11*tau22 + tau11 + tau22)*mu/(tau12^2 - tau11*tau22 + tau11 + tau22 - 1)^2 - 2*mu/(tau12^2 - tau11*tau22 + tau11 + tau22 - 1) - 2*Lambda*(tau11 - 1)*(tau22 - 1)/(tau12^2 - (tau11 - 1)*(tau22 - 1))^3 - Lambda/(tau12^2 - (tau11 - 1)*(tau22 - 1))^2 + 1                                                                                                                                                                                                                             2*mu*tau12*(2*tau22 - 1)/(tau12^2 - tau11*tau22 + tau11 + tau22 - 1)^2 - 4*(2*tau12^2 - 2*tau11*tau22 + tau11 + tau22)*mu*tau12*(tau22 - 1)/(tau12^2 - tau11*tau22 + tau11 + tau22 - 1)^3 + 4*mu*tau12*(tau22 - 1)/(tau12^2 - tau11*tau22 + tau11 + tau22 - 1)^2 + 4*Lambda*tau12*(tau22 - 1)/(tau12^2 - (tau11 - 1)*(tau22 - 1))^3]\n",
       "[-mu*(tau11 - 1)*(2*tau22 - 1)/(tau12^2 - tau11*tau22 + tau11 + tau22 - 1)^2 - mu*(2*tau11 - 1)*(tau22 - 1)/(tau12^2 - tau11*tau22 + tau11 + tau22 - 1)^2 + 2*(2*tau12^2 - 2*tau11*tau22 + tau11 + tau22)*mu*(tau11 - 1)*(tau22 - 1)/(tau12^2 - tau11*tau22 + tau11 + tau22 - 1)^3 + (2*tau12^2 - 2*tau11*tau22 + tau11 + tau22)*mu/(tau12^2 - tau11*tau22 + tau11 + tau22 - 1)^2 - 2*mu/(tau12^2 - tau11*tau22 + tau11 + tau22 - 1) - 2*Lambda*(tau11 - 1)*(tau22 - 1)/(tau12^2 - (tau11 - 1)*(tau22 - 1))^3 - Lambda/(tau12^2 - (tau11 - 1)*(tau22 - 1))^2 + 1                                                                                                                                                                                                                                                                                                 -2*mu*(2*tau11 - 1)*(tau11 - 1)/(tau12^2 - tau11*tau22 + tau11 + tau22 - 1)^2 + 2*(2*tau12^2 - 2*tau11*tau22 + tau11 + tau22)*mu*(tau11 - 1)^2/(tau12^2 - tau11*tau22 + tau11 + tau22 - 1)^3 - 2*Lambda*(tau11 - 1)^2/(tau12^2 - (tau11 - 1)*(tau22 - 1))^3 - 3                                                                                                                                                                                                                             2*mu*(2*tau11 - 1)*tau12/(tau12^2 - tau11*tau22 + tau11 + tau22 - 1)^2 - 4*(2*tau12^2 - 2*tau11*tau22 + tau11 + tau22)*mu*(tau11 - 1)*tau12/(tau12^2 - tau11*tau22 + tau11 + tau22 - 1)^3 + 4*mu*(tau11 - 1)*tau12/(tau12^2 - tau11*tau22 + tau11 + tau22 - 1)^2 + 4*Lambda*(tau11 - 1)*tau12/(tau12^2 - (tau11 - 1)*(tau22 - 1))^3]\n",
       "[                                                                                                                                                                                                                            2*mu*tau12*(2*tau22 - 1)/(tau12^2 - tau11*tau22 + tau11 + tau22 - 1)^2 - 4*(2*tau12^2 - 2*tau11*tau22 + tau11 + tau22)*mu*tau12*(tau22 - 1)/(tau12^2 - tau11*tau22 + tau11 + tau22 - 1)^3 + 4*mu*tau12*(tau22 - 1)/(tau12^2 - tau11*tau22 + tau11 + tau22 - 1)^2 + 4*Lambda*tau12*(tau22 - 1)/(tau12^2 - (tau11 - 1)*(tau22 - 1))^3                                                                                                                                                                                                                             2*mu*(2*tau11 - 1)*tau12/(tau12^2 - tau11*tau22 + tau11 + tau22 - 1)^2 - 4*(2*tau12^2 - 2*tau11*tau22 + tau11 + tau22)*mu*(tau11 - 1)*tau12/(tau12^2 - tau11*tau22 + tau11 + tau22 - 1)^3 + 4*mu*(tau11 - 1)*tau12/(tau12^2 - tau11*tau22 + tau11 + tau22 - 1)^2 + 4*Lambda*(tau11 - 1)*tau12/(tau12^2 - (tau11 - 1)*(tau22 - 1))^3                                                                                                                          8*(2*tau12^2 - 2*tau11*tau22 + tau11 + tau22)*mu*tau12^2/(tau12^2 - tau11*tau22 + tau11 + tau22 - 1)^3 - 16*mu*tau12^2/(tau12^2 - tau11*tau22 + tau11 + tau22 - 1)^2 - 2*(2*tau12^2 - 2*tau11*tau22 + tau11 + tau22)*mu/(tau12^2 - tau11*tau22 + tau11 + tau22 - 1)^2 + 4*mu/(tau12^2 - tau11*tau22 + tau11 + tau22 - 1) - 8*Lambda*tau12^2/(tau12^2 - (tau11 - 1)*(tau22 - 1))^3 + 2*Lambda/(tau12^2 - (tau11 - 1)*(tau22 - 1))^2 - 8]"
      ]
     },
     "metadata": {},
     "output_type": "display_data"
    },
    {
     "data": {
      "text/html": [
       "<html>\\(\\displaystyle \\left(\\begin{array}{rrr}\n",
       "-\\frac{7 \\, \\tau - 3}{\\tau - 1} & -\\frac{\\tau + 1}{\\tau - 1} & 0 \\\\\n",
       "-\\frac{\\tau + 1}{\\tau - 1} & -\\frac{7 \\, \\tau - 3}{\\tau - 1} & 0 \\\\\n",
       "0 & 0 & -\\frac{4 \\, {\\left(3 \\, \\tau - 2\\right)}}{\\tau - 1}\n",
       "\\end{array}\\right)\\)</html>"
      ],
      "text/latex": [
       "$\\displaystyle \\left(\\begin{array}{rrr}\n",
       "-\\frac{7 \\, \\tau - 3}{\\tau - 1} & -\\frac{\\tau + 1}{\\tau - 1} & 0 \\\\\n",
       "-\\frac{\\tau + 1}{\\tau - 1} & -\\frac{7 \\, \\tau - 3}{\\tau - 1} & 0 \\\\\n",
       "0 & 0 & -\\frac{4 \\, {\\left(3 \\, \\tau - 2\\right)}}{\\tau - 1}\n",
       "\\end{array}\\right)$"
      ],
      "text/plain": [
       "[  -(7*tau - 3)/(tau - 1)     -(tau + 1)/(tau - 1)                        0]\n",
       "[    -(tau + 1)/(tau - 1)   -(7*tau - 3)/(tau - 1)                        0]\n",
       "[                       0                        0 -4*(3*tau - 2)/(tau - 1)]"
      ]
     },
     "metadata": {},
     "output_type": "display_data"
    }
   ],
   "source": [
    "show(hessian_joint_full(2, Λ, μ))\n",
    "show(hessian_spherical(2, Λ=(2*τ*(1-τ)**3), μ=0))"
   ]
  },
  {
   "cell_type": "code",
   "execution_count": 10,
   "id": "504a5a0c",
   "metadata": {
    "vscode": {
     "languageId": "python"
    }
   },
   "outputs": [],
   "source": [
    "def saddle_equation(d, nu=None):\n",
    "    # 1) Build the 1D action under spherical ansatz\n",
    "    S_tau = action_spherical_joint(d, Λ, μ, nu)\n",
    "    # 2) Compute derivative w.r.t. tau\n",
    "    eq = diff(S_tau, τ).numerator().factor()\n",
    "    # only normalize by the Λ-coefficient when it’s nonzero\n",
    "    #coeff_L = eq.coefficient(Λ)\n",
    "    #if coeff_L != 0:\n",
    "        #eq /= coeff_L\n",
    "    return eq"
   ]
  },
  {
   "cell_type": "code",
   "execution_count": 11,
   "id": "7772ca0c",
   "metadata": {
    "vscode": {
     "languageId": "python"
    }
   },
   "outputs": [
    {
     "data": {
      "text/html": [
       "<html>\\(\\displaystyle \\verb|Saddle|\\verb| |\\verb|eq|\\verb| |\\verb|(d=2):| -4 \\, \\tau^{4} + 12 \\, \\tau^{3} - 2 \\, \\mu \\tau - 12 \\, \\tau^{2} - 2 \\, \\Lambda + 2 \\, \\mu + 4 \\, \\tau = 0\\)</html>"
      ],
      "text/latex": [
       "$\\displaystyle \\verb|Saddle|\\verb| |\\verb|eq|\\verb| |\\verb|(d=2):| -4 \\, \\tau^{4} + 12 \\, \\tau^{3} - 2 \\, \\mu \\tau - 12 \\, \\tau^{2} - 2 \\, \\Lambda + 2 \\, \\mu + 4 \\, \\tau = 0$"
      ],
      "text/plain": [
       "'Saddle eq (d=2):' -4*tau^4 + 12*tau^3 - 2*mu*tau - 12*tau^2 - 2*Lambda + 2*mu + 4*tau == 0"
      ]
     },
     "metadata": {},
     "output_type": "display_data"
    },
    {
     "data": {
      "text/html": [
       "<html>\\(\\displaystyle \\verb|Saddle|\\verb| |\\verb|eq|\\verb| |\\verb|(d=3):| -9 \\, \\tau^{5} + 36 \\, \\tau^{4} - 3 \\, \\mu \\tau^{2} - 54 \\, \\tau^{3} + 6 \\, \\mu \\tau + 36 \\, \\tau^{2} + 3 \\, \\Lambda - 3 \\, \\mu - 9 \\, \\tau = 0\\)</html>"
      ],
      "text/latex": [
       "$\\displaystyle \\verb|Saddle|\\verb| |\\verb|eq|\\verb| |\\verb|(d=3):| -9 \\, \\tau^{5} + 36 \\, \\tau^{4} - 3 \\, \\mu \\tau^{2} - 54 \\, \\tau^{3} + 6 \\, \\mu \\tau + 36 \\, \\tau^{2} + 3 \\, \\Lambda - 3 \\, \\mu - 9 \\, \\tau = 0$"
      ],
      "text/plain": [
       "'Saddle eq (d=3):' -9*tau^5 + 36*tau^4 - 3*mu*tau^2 - 54*tau^3 + 6*mu*tau + 36*tau^2 + 3*Lambda - 3*mu - 9*tau == 0"
      ]
     },
     "metadata": {},
     "output_type": "display_data"
    }
   ],
   "source": [
    "show(\"Saddle eq (d=2):\", saddle_equation(2).factor() == 0)\n",
    "show(\"Saddle eq (d=3):\", saddle_equation(3).factor() == 0)"
   ]
  },
  {
   "cell_type": "code",
   "execution_count": 12,
   "id": "da689211",
   "metadata": {
    "vscode": {
     "languageId": "python"
    }
   },
   "outputs": [
    {
     "data": {
      "text/html": [
       "<html>\\(\\displaystyle \\verb|τ*|\\verb| |\\verb|(d=2):| -\\frac{1}{2} \\mu + \\frac{1}{2} \\Lambda + \\frac{1}{2} \\mu^{2} - \\frac{5}{4} \\mu \\Lambda + \\frac{3}{4} \\Lambda^{2} - \\frac{7}{8} \\mu^{3} + \\frac{7}{2} \\mu^{2} \\Lambda - \\frac{9}{2} \\mu \\Lambda^{2} + \\frac{15}{8} \\Lambda^{3} + \\frac{15}{8} \\mu^{4} - \\frac{165}{16} \\mu^{3} \\Lambda + \\frac{165}{8} \\mu^{2} \\Lambda^{2} - \\frac{143}{8} \\mu \\Lambda^{3} + \\frac{91}{16} \\Lambda^{4} + O(\\mu, \\Lambda)^{5}\\)</html>"
      ],
      "text/latex": [
       "$\\displaystyle \\verb|τ*|\\verb| |\\verb|(d=2):| -\\frac{1}{2} \\mu + \\frac{1}{2} \\Lambda + \\frac{1}{2} \\mu^{2} - \\frac{5}{4} \\mu \\Lambda + \\frac{3}{4} \\Lambda^{2} - \\frac{7}{8} \\mu^{3} + \\frac{7}{2} \\mu^{2} \\Lambda - \\frac{9}{2} \\mu \\Lambda^{2} + \\frac{15}{8} \\Lambda^{3} + \\frac{15}{8} \\mu^{4} - \\frac{165}{16} \\mu^{3} \\Lambda + \\frac{165}{8} \\mu^{2} \\Lambda^{2} - \\frac{143}{8} \\mu \\Lambda^{3} + \\frac{91}{16} \\Lambda^{4} + O(\\mu, \\Lambda)^{5}$"
      ],
      "text/plain": [
       "'τ* (d=2):' -1/2*mu + 1/2*Lambda + 1/2*mu^2 - 5/4*mu*Lambda + 3/4*Lambda^2 - 7/8*mu^3 + 7/2*mu^2*Lambda - 9/2*mu*Lambda^2 + 15/8*Lambda^3 + 15/8*mu^4 - 165/16*mu^3*Lambda + 165/8*mu^2*Lambda^2 - 143/8*mu*Lambda^3 + 91/16*Lambda^4 + O(mu, Lambda)^5"
      ]
     },
     "metadata": {},
     "output_type": "display_data"
    },
    {
     "data": {
      "text/html": [
       "<html>\\(\\displaystyle \\verb|τ*|\\verb| |\\verb|(d=3):| -\\frac{1}{3} \\mu + \\frac{1}{3} \\Lambda + \\frac{2}{9} \\mu^{2} - \\frac{2}{3} \\mu \\Lambda + \\frac{4}{9} \\Lambda^{2} - \\frac{7}{27} \\mu^{3} + \\frac{4}{3} \\mu^{2} \\Lambda - \\frac{55}{27} \\mu \\Lambda^{2} + \\frac{26}{27} \\Lambda^{3} + \\frac{10}{27} \\mu^{4} - \\frac{220}{81} \\mu^{3} \\Lambda + \\frac{182}{27} \\mu^{2} \\Lambda^{2} - \\frac{560}{81} \\mu \\Lambda^{3} + \\frac{68}{27} \\Lambda^{4} + O(\\mu, \\Lambda)^{5}\\)</html>"
      ],
      "text/latex": [
       "$\\displaystyle \\verb|τ*|\\verb| |\\verb|(d=3):| -\\frac{1}{3} \\mu + \\frac{1}{3} \\Lambda + \\frac{2}{9} \\mu^{2} - \\frac{2}{3} \\mu \\Lambda + \\frac{4}{9} \\Lambda^{2} - \\frac{7}{27} \\mu^{3} + \\frac{4}{3} \\mu^{2} \\Lambda - \\frac{55}{27} \\mu \\Lambda^{2} + \\frac{26}{27} \\Lambda^{3} + \\frac{10}{27} \\mu^{4} - \\frac{220}{81} \\mu^{3} \\Lambda + \\frac{182}{27} \\mu^{2} \\Lambda^{2} - \\frac{560}{81} \\mu \\Lambda^{3} + \\frac{68}{27} \\Lambda^{4} + O(\\mu, \\Lambda)^{5}$"
      ],
      "text/plain": [
       "'τ* (d=3):' -1/3*mu + 1/3*Lambda + 2/9*mu^2 - 2/3*mu*Lambda + 4/9*Lambda^2 - 7/27*mu^3 + 4/3*mu^2*Lambda - 55/27*mu*Lambda^2 + 26/27*Lambda^3 + 10/27*mu^4 - 220/81*mu^3*Lambda + 182/27*mu^2*Lambda^2 - 560/81*mu*Lambda^3 + 68/27*Lambda^4 + O(mu, Lambda)^5"
      ]
     },
     "metadata": {},
     "output_type": "display_data"
    }
   ],
   "source": [
    "def tau_series(d, total_order=4, nu=None):\n",
    "    \"\"\"\n",
    "    Return τ(μ,Λ) to the requested total order\n",
    "    using Hensel/Newton lifting inside a power-series ring.\n",
    "    \"\"\"    \n",
    "    if nu is None:\n",
    "        nu = d\n",
    "\n",
    "    # total-degree default_prec must exceed the order we want\n",
    "    R.<mu, Lambda> = PowerSeriesRing(QQ, default_prec=total_order+2)\n",
    "    PR.<tau>       = PolynomialRing(R)\n",
    "    # build polynomial version of the saddle equation\n",
    "    P_poly   = PR(saddle_equation(d, nu=nu).expand())\n",
    "    dP_poly  = P_poly.derivative()\n",
    "\n",
    "    # initial guess: constant term killing P at O(mu, Lambda)\n",
    "    root = PR((Lambda - mu)/d)\n",
    "\n",
    "    # Newton–Hensel lift in the polynomial ring over R\n",
    "    for k in range(1, total_order+1):\n",
    "        valP  = P_poly(root)\n",
    "        valdP = dP_poly(root)\n",
    "        # Convert to power series and truncate before division\n",
    "        valP_trunc = R(valP).truncate(k+1)\n",
    "        valdP_trunc = R(valdP).truncate(k+1)\n",
    "        correction = valP_trunc / valdP_trunc\n",
    "        root = root - PR(correction)\n",
    "        root = root.truncate(k+1)\n",
    "\n",
    "    return R(root).truncate(total_order+1).add_bigoh(total_order+1)\n",
    "\n",
    "# examples for both dimensions\n",
    "show(\"τ* (d=2):\", tau_series(2))\n",
    "show(\"τ* (d=3):\", tau_series(3))\n"
   ]
  },
  {
   "cell_type": "code",
   "execution_count": 13,
   "id": "ba3ba92a",
   "metadata": {
    "vscode": {
     "languageId": "python"
    }
   },
   "outputs": [
    {
     "data": {
      "text/html": [
       "<html>\\(\\displaystyle \\verb|τ★|\\verb| |\\verb|(d=2,|\\verb| |\\verb|nu=2):| -\\frac{1}{2} \\mu + \\frac{1}{2} \\Lambda + \\frac{1}{2} \\mu^{2} - \\frac{5}{4} \\mu \\Lambda + \\frac{3}{4} \\Lambda^{2} - \\frac{7}{8} \\mu^{3} + \\frac{7}{2} \\mu^{2} \\Lambda - \\frac{9}{2} \\mu \\Lambda^{2} + \\frac{15}{8} \\Lambda^{3} + \\frac{15}{8} \\mu^{4} - \\frac{165}{16} \\mu^{3} \\Lambda + \\frac{165}{8} \\mu^{2} \\Lambda^{2} - \\frac{143}{8} \\mu \\Lambda^{3} + \\frac{91}{16} \\Lambda^{4} + O(\\mu, \\Lambda)^{5}\\)</html>"
      ],
      "text/latex": [
       "$\\displaystyle \\verb|τ★|\\verb| |\\verb|(d=2,|\\verb| |\\verb|nu=2):| -\\frac{1}{2} \\mu + \\frac{1}{2} \\Lambda + \\frac{1}{2} \\mu^{2} - \\frac{5}{4} \\mu \\Lambda + \\frac{3}{4} \\Lambda^{2} - \\frac{7}{8} \\mu^{3} + \\frac{7}{2} \\mu^{2} \\Lambda - \\frac{9}{2} \\mu \\Lambda^{2} + \\frac{15}{8} \\Lambda^{3} + \\frac{15}{8} \\mu^{4} - \\frac{165}{16} \\mu^{3} \\Lambda + \\frac{165}{8} \\mu^{2} \\Lambda^{2} - \\frac{143}{8} \\mu \\Lambda^{3} + \\frac{91}{16} \\Lambda^{4} + O(\\mu, \\Lambda)^{5}$"
      ],
      "text/plain": [
       "'τ★ (d=2, nu=2):' -1/2*mu + 1/2*Lambda + 1/2*mu^2 - 5/4*mu*Lambda + 3/4*Lambda^2 - 7/8*mu^3 + 7/2*mu^2*Lambda - 9/2*mu*Lambda^2 + 15/8*Lambda^3 + 15/8*mu^4 - 165/16*mu^3*Lambda + 165/8*mu^2*Lambda^2 - 143/8*mu*Lambda^3 + 91/16*Lambda^4 + O(mu, Lambda)^5"
      ]
     },
     "metadata": {},
     "output_type": "display_data"
    },
    {
     "data": {
      "text/html": [
       "<html>\\(\\displaystyle \\verb|Joint|\\verb| |\\verb|CGF|\\verb| |\\verb|(d=2):| \\frac{1}{2} \\mu^{2} - \\mu \\Lambda + \\frac{1}{2} \\Lambda^{2} - \\frac{1}{2} \\mu^{3} + \\frac{7}{4} \\mu^{2} \\Lambda - 2 \\mu \\Lambda^{2} + \\frac{3}{4} \\Lambda^{3} + \\frac{3}{4} \\mu^{4} - \\frac{15}{4} \\mu^{3} \\Lambda + \\frac{55}{8} \\mu^{2} \\Lambda^{2} - \\frac{11}{2} \\mu \\Lambda^{3} + \\frac{13}{8} \\Lambda^{4} + O(\\mu, \\Lambda)^{5}\\)</html>"
      ],
      "text/latex": [
       "$\\displaystyle \\verb|Joint|\\verb| |\\verb|CGF|\\verb| |\\verb|(d=2):| \\frac{1}{2} \\mu^{2} - \\mu \\Lambda + \\frac{1}{2} \\Lambda^{2} - \\frac{1}{2} \\mu^{3} + \\frac{7}{4} \\mu^{2} \\Lambda - 2 \\mu \\Lambda^{2} + \\frac{3}{4} \\Lambda^{3} + \\frac{3}{4} \\mu^{4} - \\frac{15}{4} \\mu^{3} \\Lambda + \\frac{55}{8} \\mu^{2} \\Lambda^{2} - \\frac{11}{2} \\mu \\Lambda^{3} + \\frac{13}{8} \\Lambda^{4} + O(\\mu, \\Lambda)^{5}$"
      ],
      "text/plain": [
       "'Joint CGF (d=2):' 1/2*mu^2 - mu*Lambda + 1/2*Lambda^2 - 1/2*mu^3 + 7/4*mu^2*Lambda - 2*mu*Lambda^2 + 3/4*Lambda^3 + 3/4*mu^4 - 15/4*mu^3*Lambda + 55/8*mu^2*Lambda^2 - 11/2*mu*Lambda^3 + 13/8*Lambda^4 + O(mu, Lambda)^5"
      ]
     },
     "metadata": {},
     "output_type": "display_data"
    },
    {
     "data": {
      "text/html": [
       "<html>\\(\\displaystyle \\verb|τ★|\\verb| |\\verb|(d=3,|\\verb| |\\verb|nu=3):| -\\frac{1}{3} \\mu + \\frac{1}{3} \\Lambda + \\frac{2}{9} \\mu^{2} - \\frac{2}{3} \\mu \\Lambda + \\frac{4}{9} \\Lambda^{2} - \\frac{7}{27} \\mu^{3} + \\frac{4}{3} \\mu^{2} \\Lambda - \\frac{55}{27} \\mu \\Lambda^{2} + \\frac{26}{27} \\Lambda^{3} + \\frac{10}{27} \\mu^{4} - \\frac{220}{81} \\mu^{3} \\Lambda + \\frac{182}{27} \\mu^{2} \\Lambda^{2} - \\frac{560}{81} \\mu \\Lambda^{3} + \\frac{68}{27} \\Lambda^{4} + O(\\mu, \\Lambda)^{5}\\)</html>"
      ],
      "text/latex": [
       "$\\displaystyle \\verb|τ★|\\verb| |\\verb|(d=3,|\\verb| |\\verb|nu=3):| -\\frac{1}{3} \\mu + \\frac{1}{3} \\Lambda + \\frac{2}{9} \\mu^{2} - \\frac{2}{3} \\mu \\Lambda + \\frac{4}{9} \\Lambda^{2} - \\frac{7}{27} \\mu^{3} + \\frac{4}{3} \\mu^{2} \\Lambda - \\frac{55}{27} \\mu \\Lambda^{2} + \\frac{26}{27} \\Lambda^{3} + \\frac{10}{27} \\mu^{4} - \\frac{220}{81} \\mu^{3} \\Lambda + \\frac{182}{27} \\mu^{2} \\Lambda^{2} - \\frac{560}{81} \\mu \\Lambda^{3} + \\frac{68}{27} \\Lambda^{4} + O(\\mu, \\Lambda)^{5}$"
      ],
      "text/plain": [
       "'τ★ (d=3, nu=3):' -1/3*mu + 1/3*Lambda + 2/9*mu^2 - 2/3*mu*Lambda + 4/9*Lambda^2 - 7/27*mu^3 + 4/3*mu^2*Lambda - 55/27*mu*Lambda^2 + 26/27*Lambda^3 + 10/27*mu^4 - 220/81*mu^3*Lambda + 182/27*mu^2*Lambda^2 - 560/81*mu*Lambda^3 + 68/27*Lambda^4 + O(mu, Lambda)^5"
      ]
     },
     "metadata": {},
     "output_type": "display_data"
    },
    {
     "data": {
      "text/html": [
       "<html>\\(\\displaystyle \\verb|Joint|\\verb| |\\verb|CGF|\\verb| |\\verb|(d=3):| \\frac{1}{2} \\mu^{2} - \\mu \\Lambda + \\frac{1}{2} \\Lambda^{2} - \\frac{1}{3} \\mu^{3} + \\frac{4}{3} \\mu^{2} \\Lambda - \\frac{5}{3} \\mu \\Lambda^{2} + \\frac{2}{3} \\Lambda^{3} + \\frac{1}{3} \\mu^{4} - \\frac{55}{27} \\mu^{3} \\Lambda + \\frac{13}{3} \\mu^{2} \\Lambda^{2} - \\frac{35}{9} \\mu \\Lambda^{3} + \\frac{34}{27} \\Lambda^{4} + O(\\mu, \\Lambda)^{5}\\)</html>"
      ],
      "text/latex": [
       "$\\displaystyle \\verb|Joint|\\verb| |\\verb|CGF|\\verb| |\\verb|(d=3):| \\frac{1}{2} \\mu^{2} - \\mu \\Lambda + \\frac{1}{2} \\Lambda^{2} - \\frac{1}{3} \\mu^{3} + \\frac{4}{3} \\mu^{2} \\Lambda - \\frac{5}{3} \\mu \\Lambda^{2} + \\frac{2}{3} \\Lambda^{3} + \\frac{1}{3} \\mu^{4} - \\frac{55}{27} \\mu^{3} \\Lambda + \\frac{13}{3} \\mu^{2} \\Lambda^{2} - \\frac{35}{9} \\mu \\Lambda^{3} + \\frac{34}{27} \\Lambda^{4} + O(\\mu, \\Lambda)^{5}$"
      ],
      "text/plain": [
       "'Joint CGF (d=3):' 1/2*mu^2 - mu*Lambda + 1/2*Lambda^2 - 1/3*mu^3 + 4/3*mu^2*Lambda - 5/3*mu*Lambda^2 + 2/3*Lambda^3 + 1/3*mu^4 - 55/27*mu^3*Lambda + 13/3*mu^2*Lambda^2 - 35/9*mu*Lambda^3 + 34/27*Lambda^4 + O(mu, Lambda)^5"
      ]
     },
     "metadata": {},
     "output_type": "display_data"
    }
   ],
   "source": [
    "from sage.all import QQ, PowerSeriesRing, var\n",
    "from sage.misc.sage_eval import sage_eval\n",
    "\n",
    "def joint_CGF_series(d, total_order=4, nu=None):\n",
    "    \"\"\"\n",
    "    Generic LO joint CGF S(μ,Λ) as a multivariate power series.\n",
    "    Relies on your existing saddle_equation() and action_spherical_joint().\n",
    "    \"\"\"\n",
    "    if nu is None:\n",
    "        nu = d\n",
    "\n",
    "    # ─── 0) set up the *symbolic* variables ──────────────────────────────\n",
    "    mu_sym, Lambda_sym, tau_sym = var('mu', 'Lambda', 'tau')\n",
    "\n",
    "    # ─── 1) build the *power*-series ring R and its τ–polynomial ring S ─\n",
    "    R.<mu,Lambda> = PowerSeriesRing(QQ, default_prec=total_order+2)\n",
    "    S.<tau>   = R[]\n",
    "\n",
    "    # ─── helper to re-parse a symbolic expr into *this* ring ────────────\n",
    "    def _to_ring(expr_sym):\n",
    "        return sage_eval(str(expr_sym),\n",
    "                         locals={'mu':mu,   'Lambda':Lambda,\n",
    "                                 'tau':tau})\n",
    "\n",
    "    # ─── 2) get your symbolic quintic and turn it into S───────────────\n",
    "    P_sym = saddle_equation(d, nu=nu)            # returns Expr in mu_sym, Lambda_sym, tau_sym\n",
    "    P     = _to_ring(P_sym)                      # now P ∈ S\n",
    "\n",
    "    # ─── 3) Newton/Hensel lift the τ≈0 root inside S───────────────────\n",
    "    tau_star = (Lambda - mu)/3\n",
    "    dP       = P.derivative(tau)\n",
    "    for k in range(1, total_order+1):\n",
    "        r = P(tau=tau_star).truncate(k+1)\n",
    "        j = dP(tau=tau_star).truncate(k+1)\n",
    "        tau_star -= r/j\n",
    "        tau_star  = tau_star.truncate(k+1)\n",
    "    tau_star = tau_star.truncate(total_order+1).add_bigoh(total_order+1)\n",
    "    show(\"τ★ (d={}, nu={}):\".format(d, nu), tau_star)\n",
    "\n",
    "    # ─── 4) pull in your symbolic joint‐action and convert it──────────\n",
    "    A_sym = action_spherical_joint(d, Lambda_sym, mu_sym, nu=nu)\n",
    "    A     = _to_ring(A_sym)                      # A ∈ S\n",
    "\n",
    "    # ─── 5) evaluate the polynomial in τ at τ★ and truncate─x──────────\n",
    "    return A(tau=tau_star) \\\n",
    "             .truncate(total_order+1) \\\n",
    "             .add_bigoh(total_order+1)\n",
    "\n",
    "show(\"Joint CGF (d=2):\", joint_CGF_series(2, total_order=4))\n",
    "show(\"Joint CGF (d=3):\", joint_CGF_series(3, total_order=4))"
   ]
  },
  {
   "cell_type": "code",
   "execution_count": 14,
   "id": "fb60a6bd",
   "metadata": {
    "vscode": {
     "languageId": "python"
    }
   },
   "outputs": [],
   "source": [
    "def one_loop_correction_joint(d, Λ, μ, nu=None):\n",
    "    if nu is None:\n",
    "        nu = d\n",
    "    Hj = -hessian_spherical(d, Λ, μ, nu)\n",
    "    return - (1/2) * log( (Hj.det()/precision_matrix(d).det()).factor() )\n",
    "\n",
    "def CGF_NLO_joint(d, Λ, μ, σ2, nu=None, total_order=4):\n",
    "    if nu is None:\n",
    "        nu = d\n",
    "    φ0 = joint_CGF_series(d, total_order, nu)\n",
    "    F1 = one_loop_correction_joint(d, Λ, μ, nu)\n",
    "    return (φ0 + σ2*F1).factor()\n"
   ]
  },
  {
   "cell_type": "code",
   "execution_count": 15,
   "id": "8021e788",
   "metadata": {
    "vscode": {
     "languageId": "python"
    }
   },
   "outputs": [
    {
     "data": {
      "text/html": [
       "<html>\\(\\displaystyle -\\frac{1}{2} \\, \\log\\left(\\frac{{\\left(4 \\, \\tau^{4} - 16 \\, \\tau^{3} - 2 \\, \\mu \\tau + 24 \\, \\tau^{2} - \\Lambda + 2 \\, \\mu - 16 \\, \\tau + 4\\right)}^{2} {\\left(2 \\, \\tau^{4} - 8 \\, \\tau^{3} - 2 \\, \\mu \\tau + 12 \\, \\tau^{2} - 3 \\, \\Lambda + 2 \\, \\mu - 8 \\, \\tau + 2\\right)}}{32 \\, {\\left(\\tau - 1\\right)}^{12}}\\right)\\)</html>"
      ],
      "text/latex": [
       "$\\displaystyle -\\frac{1}{2} \\, \\log\\left(\\frac{{\\left(4 \\, \\tau^{4} - 16 \\, \\tau^{3} - 2 \\, \\mu \\tau + 24 \\, \\tau^{2} - \\Lambda + 2 \\, \\mu - 16 \\, \\tau + 4\\right)}^{2} {\\left(2 \\, \\tau^{4} - 8 \\, \\tau^{3} - 2 \\, \\mu \\tau + 12 \\, \\tau^{2} - 3 \\, \\Lambda + 2 \\, \\mu - 8 \\, \\tau + 2\\right)}}{32 \\, {\\left(\\tau - 1\\right)}^{12}}\\right)$"
      ],
      "text/plain": [
       "-1/2*log(1/32*(4*tau^4 - 16*tau^3 - 2*mu*tau + 24*tau^2 - Lambda + 2*mu - 16*tau + 4)^2*(2*tau^4 - 8*tau^3 - 2*mu*tau + 12*tau^2 - 3*Lambda + 2*mu - 8*tau + 2)/(tau - 1)^12)"
      ]
     },
     "metadata": {},
     "output_type": "display_data"
    },
    {
     "data": {
      "text/html": [
       "<html>\\(\\displaystyle -\\frac{1}{2} \\, \\log\\left(\\frac{{\\left(4 \\, \\tau - 1\\right)} {\\left(3 \\, \\tau - 2\\right)}^{2}}{4 \\, {\\left(\\tau - 1\\right)}^{3}}\\right)\\)</html>"
      ],
      "text/latex": [
       "$\\displaystyle -\\frac{1}{2} \\, \\log\\left(\\frac{{\\left(4 \\, \\tau - 1\\right)} {\\left(3 \\, \\tau - 2\\right)}^{2}}{4 \\, {\\left(\\tau - 1\\right)}^{3}}\\right)$"
      ],
      "text/plain": [
       "-1/2*log(1/4*(4*tau - 1)*(3*tau - 2)^2/(tau - 1)^3)"
      ]
     },
     "metadata": {},
     "output_type": "display_data"
    }
   ],
   "source": [
    "show(one_loop_correction_joint(2, Λ, μ))\n",
    "show(one_loop_correction_joint(2, Λ=(2*τ*(1-τ)**3), μ=0))"
   ]
  },
  {
   "cell_type": "code",
   "execution_count": 16,
   "id": "5e20b4b2",
   "metadata": {
    "vscode": {
     "languageId": "python"
    }
   },
   "outputs": [],
   "source": [
    "from sage.all import QQ, PolynomialRing, PowerSeriesRing, Integer, var, Matrix\n",
    "from sage.misc.sage_eval import sage_eval\n",
    "\n",
    "# ─── series_log as before ─────────────────────────────────────────────────\n",
    "def series_log(F, N):\n",
    "    c0 = F.constant_coefficient()\n",
    "    δ  = F/c0 - 1\n",
    "    L  = δ.parent()(0)\n",
    "    for k in range(1, N+1):\n",
    "        L += ((-1)**(k+1) * δ**k) / k\n",
    "    return L.truncate(N+1)\n",
    "\n",
    "# ─── joint_CGF_series_with_NLO using full spherical Hessian ───────────────\n",
    "def joint_CGF_series_with_NLO(d, total_order=4, nu=None, sigma=σ):\n",
    "    \"\"\"\n",
    "    LO+NLO joint CGF S(μ,Λ) with the one-loop term built from\n",
    "    det[H_spherical(τ★)] rather than ∂²A/∂τ² alone.\n",
    "    \"\"\"\n",
    "    # default spectral slope\n",
    "    if nu is None:\n",
    "        nu = d\n",
    "\n",
    "    # symbolic placeholders\n",
    "    mu_sym, Lambda_sym, tau_sym, nu_sym, sigma_sym = var('mu','Lambda','tau','nu','sigma')\n",
    "\n",
    "    # decide base ring so sigma can be symbolic\n",
    "    if sigma is None or isinstance(sigma_sym, (int, Integer)):\n",
    "        Base     = QQ\n",
    "        s_param  = Integer(1) if sigma is None else Integer(sigma)\n",
    "    else:\n",
    "        Base     = PolynomialRing(QQ, 'sigma')\n",
    "        s_param  = Base.gen()\n",
    "\n",
    "    # build the power-series ring and tau-polynomial ring\n",
    "    R.<mu,Lambda> = PowerSeriesRing(Base, default_prec=total_order+2)\n",
    "    S.<tau>       = R[]\n",
    "\n",
    "    # helper to re-parse symbolic → R[τ]\n",
    "    env = {'mu':mu, 'Lambda':Lambda, 'tau':tau, 'nu':Integer(nu), 'sigma':s_param}\n",
    "    def _to_ring(expr_sym):\n",
    "        return sage_eval(str(expr_sym), locals=env)\n",
    "\n",
    "    # saddle eq. & Newton/Hensel for τ★\n",
    "    P       = _to_ring(saddle_equation(d, nu=nu_sym))\n",
    "    tau_star= (Lambda - mu)/Integer(3)\n",
    "    dP      = P.derivative(tau)\n",
    "    for k in range(1, total_order+1):\n",
    "        r = P(tau=tau_star).truncate(k+1)\n",
    "        j = dP(tau=tau_star).truncate(k+1)\n",
    "        tau_star -= r/j\n",
    "        tau_star  = tau_star.truncate(k+1)\n",
    "    tau_star = tau_star.truncate(total_order+1)\n",
    "\n",
    "    # 7) leading-order action\n",
    "    A    = _to_ring(action_spherical_joint(d, Lambda_sym, mu_sym, nu=nu_sym))\n",
    "    S_LO = A(tau=tau_star).truncate(total_order+1).add_bigoh(total_order+1)\n",
    "\n",
    "    # 8) full spherical Hessian\n",
    "    Hf_sym    = hessian_spherical(d, Lambda_sym, mu_sym, nu=nu_sym)\n",
    "    n         = Hf_sym.nrows()\n",
    "    H_entries = [[_to_ring(Hf_sym[i,j]) for j in range(n)] for i in range(n)]\n",
    "    H_sph     = Matrix(H_entries)\n",
    "\n",
    "    # 9) evaluate at τ★\n",
    "    H_star = H_sph.apply_map(lambda f: f(tau=tau_star))\n",
    "\n",
    "    # 10) one-loop = –½ σ² log(det H_star / detΣ⁻¹)\n",
    "    detΣinv  = precision_matrix(d).det()\n",
    "    rat      = H_star.det() / detΣinv\n",
    "    one_loop = (-Integer(1)/Integer(2)) * series_log(rat, total_order)\n",
    "\n",
    "    # combine LO + σ²·one_loop\n",
    "    return (S_LO + s_param**2 * one_loop) \\\n",
    "               .truncate(total_order+1) \\\n",
    "               .add_bigoh(total_order+1)\n"
   ]
  },
  {
   "cell_type": "code",
   "execution_count": 17,
   "id": "c3265f65",
   "metadata": {
    "vscode": {
     "languageId": "python"
    }
   },
   "outputs": [
    {
     "data": {
      "text/html": [
       "<html>\\(\\displaystyle \\verb|CGF(d=2):| -\\sigma^{2} \\mu + \\sigma^{2} \\Lambda + \\left(\\frac{15}{8} \\sigma^{2} + \\frac{1}{2}\\right) \\mu^{2} + \\left(-\\frac{35}{8} \\sigma^{2} - 1\\right) \\mu \\Lambda + \\left(\\frac{83}{32} \\sigma^{2} + \\frac{1}{2}\\right) \\Lambda^{2} + \\left(-\\frac{13}{3} \\sigma^{2} - \\frac{1}{2}\\right) \\mu^{3} + \\left(\\frac{65}{4} \\sigma^{2} + \\frac{7}{4}\\right) \\mu^{2} \\Lambda + \\left(-\\frac{651}{32} \\sigma^{2} - 2\\right) \\mu \\Lambda^{2} + \\left(\\frac{1621}{192} \\sigma^{2} + \\frac{3}{4}\\right) \\Lambda^{3} + \\left(\\frac{707}{64} \\sigma^{2} + \\frac{3}{4}\\right) \\mu^{4} + \\left(-\\frac{1839}{32} \\sigma^{2} - \\frac{15}{4}\\right) \\mu^{3} \\Lambda + \\left(\\frac{14293}{128} \\sigma^{2} + \\frac{55}{8}\\right) \\mu^{2} \\Lambda^{2} + \\left(-\\frac{12247}{128} \\sigma^{2} - \\frac{11}{2}\\right) \\mu \\Lambda^{3} + \\left(\\frac{31177}{1024} \\sigma^{2} + \\frac{13}{8}\\right) \\Lambda^{4} + O(\\mu, \\Lambda)^{5}\\)</html>"
      ],
      "text/latex": [
       "$\\displaystyle \\verb|CGF(d=2):| -\\sigma^{2} \\mu + \\sigma^{2} \\Lambda + \\left(\\frac{15}{8} \\sigma^{2} + \\frac{1}{2}\\right) \\mu^{2} + \\left(-\\frac{35}{8} \\sigma^{2} - 1\\right) \\mu \\Lambda + \\left(\\frac{83}{32} \\sigma^{2} + \\frac{1}{2}\\right) \\Lambda^{2} + \\left(-\\frac{13}{3} \\sigma^{2} - \\frac{1}{2}\\right) \\mu^{3} + \\left(\\frac{65}{4} \\sigma^{2} + \\frac{7}{4}\\right) \\mu^{2} \\Lambda + \\left(-\\frac{651}{32} \\sigma^{2} - 2\\right) \\mu \\Lambda^{2} + \\left(\\frac{1621}{192} \\sigma^{2} + \\frac{3}{4}\\right) \\Lambda^{3} + \\left(\\frac{707}{64} \\sigma^{2} + \\frac{3}{4}\\right) \\mu^{4} + \\left(-\\frac{1839}{32} \\sigma^{2} - \\frac{15}{4}\\right) \\mu^{3} \\Lambda + \\left(\\frac{14293}{128} \\sigma^{2} + \\frac{55}{8}\\right) \\mu^{2} \\Lambda^{2} + \\left(-\\frac{12247}{128} \\sigma^{2} - \\frac{11}{2}\\right) \\mu \\Lambda^{3} + \\left(\\frac{31177}{1024} \\sigma^{2} + \\frac{13}{8}\\right) \\Lambda^{4} + O(\\mu, \\Lambda)^{5}$"
      ],
      "text/plain": [
       "'CGF(d=2):' (-sigma^2)*mu + (sigma^2)*Lambda + (15*sigma^2 + 4)/8*mu^2 + (-35*sigma^2 - 8)/8*mu*Lambda + (83*sigma^2 + 16)/32*Lambda^2 + (-26*sigma^2 - 3)/6*mu^3 + (65*sigma^2 + 7)/4*mu^2*Lambda + (-651*sigma^2 - 64)/32*mu*Lambda^2 + (1621*sigma^2 + 144)/192*Lambda^3 + (707*sigma^2 + 48)/64*mu^4 + (-1839*sigma^2 - 120)/32*mu^3*Lambda + (14293*sigma^2 + 880)/128*mu^2*Lambda^2 + (-12247*sigma^2 - 704)/128*mu*Lambda^3 + (31177*sigma^2 + 1664)/1024*Lambda^4 + O(mu, Lambda)^5"
      ]
     },
     "metadata": {},
     "output_type": "display_data"
    },
    {
     "data": {
      "text/html": [
       "<html>\\(\\displaystyle \\verb|CGF(d=3):| -\\sigma^{2} \\mu + \\sigma^{2} \\Lambda + \\left(\\frac{6}{5} \\sigma^{2} + \\frac{1}{2}\\right) \\mu^{2} + \\left(-\\frac{16}{5} \\sigma^{2} - 1\\right) \\mu \\Lambda + \\left(\\frac{32}{15} \\sigma^{2} + \\frac{1}{2}\\right) \\Lambda^{2} + \\left(-\\frac{1214}{675} \\sigma^{2} - \\frac{1}{3}\\right) \\mu^{3} + \\left(\\frac{619}{75} \\sigma^{2} + \\frac{4}{3}\\right) \\mu^{2} \\Lambda + \\left(-\\frac{2756}{225} \\sigma^{2} - \\frac{5}{3}\\right) \\mu \\Lambda^{2} + \\left(\\frac{3943}{675} \\sigma^{2} + \\frac{2}{3}\\right) \\Lambda^{3} + \\left(\\frac{3368}{1125} \\sigma^{2} + \\frac{1}{3}\\right) \\mu^{4} + \\left(-\\frac{67058}{3375} \\sigma^{2} - \\frac{55}{27}\\right) \\mu^{3} \\Lambda + \\left(\\frac{160316}{3375} \\sigma^{2} + \\frac{13}{3}\\right) \\mu^{2} \\Lambda^{2} + \\left(-\\frac{163562}{3375} \\sigma^{2} - \\frac{35}{9}\\right) \\mu \\Lambda^{3} + \\left(\\frac{60284}{3375} \\sigma^{2} + \\frac{34}{27}\\right) \\Lambda^{4} + O(\\mu, \\Lambda)^{5}\\)</html>"
      ],
      "text/latex": [
       "$\\displaystyle \\verb|CGF(d=3):| -\\sigma^{2} \\mu + \\sigma^{2} \\Lambda + \\left(\\frac{6}{5} \\sigma^{2} + \\frac{1}{2}\\right) \\mu^{2} + \\left(-\\frac{16}{5} \\sigma^{2} - 1\\right) \\mu \\Lambda + \\left(\\frac{32}{15} \\sigma^{2} + \\frac{1}{2}\\right) \\Lambda^{2} + \\left(-\\frac{1214}{675} \\sigma^{2} - \\frac{1}{3}\\right) \\mu^{3} + \\left(\\frac{619}{75} \\sigma^{2} + \\frac{4}{3}\\right) \\mu^{2} \\Lambda + \\left(-\\frac{2756}{225} \\sigma^{2} - \\frac{5}{3}\\right) \\mu \\Lambda^{2} + \\left(\\frac{3943}{675} \\sigma^{2} + \\frac{2}{3}\\right) \\Lambda^{3} + \\left(\\frac{3368}{1125} \\sigma^{2} + \\frac{1}{3}\\right) \\mu^{4} + \\left(-\\frac{67058}{3375} \\sigma^{2} - \\frac{55}{27}\\right) \\mu^{3} \\Lambda + \\left(\\frac{160316}{3375} \\sigma^{2} + \\frac{13}{3}\\right) \\mu^{2} \\Lambda^{2} + \\left(-\\frac{163562}{3375} \\sigma^{2} - \\frac{35}{9}\\right) \\mu \\Lambda^{3} + \\left(\\frac{60284}{3375} \\sigma^{2} + \\frac{34}{27}\\right) \\Lambda^{4} + O(\\mu, \\Lambda)^{5}$"
      ],
      "text/plain": [
       "'CGF(d=3):' (-sigma^2)*mu + (sigma^2)*Lambda + (12*sigma^2 + 5)/10*mu^2 + (-16*sigma^2 - 5)/5*mu*Lambda + (64*sigma^2 + 15)/30*Lambda^2 + (-1214*sigma^2 - 225)/675*mu^3 + (619*sigma^2 + 100)/75*mu^2*Lambda + (-2756*sigma^2 - 375)/225*mu*Lambda^2 + (3943*sigma^2 + 450)/675*Lambda^3 + (3368*sigma^2 + 375)/1125*mu^4 + (-67058*sigma^2 - 6875)/3375*mu^3*Lambda + (160316*sigma^2 + 14625)/3375*mu^2*Lambda^2 + (-163562*sigma^2 - 13125)/3375*mu*Lambda^3 + (60284*sigma^2 + 4250)/3375*Lambda^4 + O(mu, Lambda)^5"
      ]
     },
     "metadata": {},
     "output_type": "display_data"
    }
   ],
   "source": [
    "# ─── Examples ────────────────────────────────────────────────────────────\n",
    "show(\"CGF(d=2):\",joint_CGF_series_with_NLO(d=2, total_order=4))\n",
    "show(\"CGF(d=3):\",joint_CGF_series_with_NLO(d=3, total_order=4))"
   ]
  },
  {
   "cell_type": "code",
   "execution_count": 18,
   "id": "0f7518b8",
   "metadata": {
    "vscode": {
     "languageId": "python"
    }
   },
   "outputs": [],
   "source": [
    "def driver_joint_cumulants(d, max_order, nu=None, sigma=σ):\n",
    "    \"\"\"\n",
    "    Compute the joint cumulants κ_{i,j} up to total order max_order\n",
    "    in (μ,Λ), carrying along the 1-loop σ² dependence.\n",
    "\n",
    "    Returns\n",
    "    -------\n",
    "    cum : dict[(i,j) -> ring element]\n",
    "      κ_{i,j} = (∂^i_μ ∂^j_Λ S)(0,0) · i!·j! for i+j ≤ max_order\n",
    "    \"\"\"\n",
    "    from sage.all import factorial, var\n",
    "\n",
    "    # 1) build the full LO+NLO CGF series S(μ,Λ)\n",
    "    mu, Lambda, sigma_sym = var('mu', 'Lambda', 'sigma')\n",
    "    S = joint_CGF_series_with_NLO(\n",
    "            d,\n",
    "            total_order=max_order,\n",
    "            nu=nu,\n",
    "            sigma=sigma_sym\n",
    "        )\n",
    "\n",
    "    # 2) extract the monomial→coefficient map\n",
    "    #    keys are (i,j), values are the coefficient of μ^i Λ^j\n",
    "    monos = S.monomial_coefficients()\n",
    "\n",
    "    # 3) form cumulants = coeff * i! * j!\n",
    "    cum = {}\n",
    "    for (i,j), c in monos.items():\n",
    "        if i + j <= max_order:\n",
    "            cum[(i,j)] = c * factorial(i) * factorial(j)\n",
    "    return cum\n"
   ]
  },
  {
   "cell_type": "code",
   "execution_count": 19,
   "id": "66ae509e",
   "metadata": {
    "vscode": {
     "languageId": "python"
    }
   },
   "outputs": [
    {
     "data": {
      "text/html": [
       "<html>\\(\\displaystyle \\verb|κ_{1,0}|\\verb| |\\verb|=| -\\sigma^{2}\\)</html>"
      ],
      "text/latex": [
       "$\\displaystyle \\verb|κ_{1,0}|\\verb| |\\verb|=| -\\sigma^{2}$"
      ],
      "text/plain": [
       "'κ_{1,0} =' -sigma^2"
      ]
     },
     "metadata": {},
     "output_type": "display_data"
    },
    {
     "data": {
      "text/html": [
       "<html>\\(\\displaystyle \\verb|κ_{0,1}|\\verb| |\\verb|=| \\sigma^{2}\\)</html>"
      ],
      "text/latex": [
       "$\\displaystyle \\verb|κ_{0,1}|\\verb| |\\verb|=| \\sigma^{2}$"
      ],
      "text/plain": [
       "'κ_{0,1} =' sigma^2"
      ]
     },
     "metadata": {},
     "output_type": "display_data"
    },
    {
     "data": {
      "text/html": [
       "<html>\\(\\displaystyle \\verb|κ_{2,0}|\\verb| |\\verb|=| \\frac{12}{5} \\sigma^{2} + 1\\)</html>"
      ],
      "text/latex": [
       "$\\displaystyle \\verb|κ_{2,0}|\\verb| |\\verb|=| \\frac{12}{5} \\sigma^{2} + 1$"
      ],
      "text/plain": [
       "'κ_{2,0} =' 12/5*sigma^2 + 1"
      ]
     },
     "metadata": {},
     "output_type": "display_data"
    },
    {
     "data": {
      "text/html": [
       "<html>\\(\\displaystyle \\verb|κ_{1,1}|\\verb| |\\verb|=| -\\frac{16}{5} \\sigma^{2} - 1\\)</html>"
      ],
      "text/latex": [
       "$\\displaystyle \\verb|κ_{1,1}|\\verb| |\\verb|=| -\\frac{16}{5} \\sigma^{2} - 1$"
      ],
      "text/plain": [
       "'κ_{1,1} =' -16/5*sigma^2 - 1"
      ]
     },
     "metadata": {},
     "output_type": "display_data"
    },
    {
     "data": {
      "text/html": [
       "<html>\\(\\displaystyle \\verb|κ_{0,2}|\\verb| |\\verb|=| \\frac{64}{15} \\sigma^{2} + 1\\)</html>"
      ],
      "text/latex": [
       "$\\displaystyle \\verb|κ_{0,2}|\\verb| |\\verb|=| \\frac{64}{15} \\sigma^{2} + 1$"
      ],
      "text/plain": [
       "'κ_{0,2} =' 64/15*sigma^2 + 1"
      ]
     },
     "metadata": {},
     "output_type": "display_data"
    }
   ],
   "source": [
    "# define your σ symbol\n",
    "sigma = var('sigma')\n",
    "\n",
    "# compute 2D joint cumulants up to total order 4\n",
    "cumulants = driver_joint_cumulants(d=3, max_order=4, nu=3, sigma=sigma)\n",
    "\n",
    "show(\"κ_{1,0} =\", cumulants[(1,0)])   # linear-in-μ term\n",
    "show(\"κ_{0,1} =\", cumulants[(0,1)])   # linear-in-Λ term\n",
    "show(\"κ_{2,0} =\", cumulants[(2,0)])   # variance of δ\n",
    "show(\"κ_{1,1} =\", cumulants[(1,1)])   # mixed cumulant\n",
    "show(\"κ_{0,2} =\", cumulants[(0,2)])   # variance of θ\n"
   ]
  },
  {
   "cell_type": "code",
   "execution_count": 20,
   "id": "109763f8",
   "metadata": {
    "vscode": {
     "languageId": "python"
    }
   },
   "outputs": [],
   "source": [
    "# Cell is ready for code"
   ]
  },
  {
   "cell_type": "code",
   "execution_count": null,
   "id": "5ea9f6b4",
   "metadata": {
    "vscode": {
     "languageId": "python"
    }
   },
   "outputs": [],
   "source": []
  }
 ],
 "metadata": {
  "kernelspec": {
   "display_name": "SageMath 10.6",
   "language": "sage",
   "name": "sagemath"
  },
  "language_info": {
   "codemirror_mode": {
    "name": "ipython",
    "version": 3
   },
   "file_extension": ".py",
   "mimetype": "text/x-python",
   "name": "sage",
   "nbconvert_exporter": "python",
   "pygments_lexer": "ipython3",
   "version": "3.12.10"
  }
 },
 "nbformat": 4,
 "nbformat_minor": 5
}
